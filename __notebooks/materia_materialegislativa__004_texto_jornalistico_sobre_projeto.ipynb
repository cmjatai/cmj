{
 "cells": [
  {
   "cell_type": "code",
   "execution_count": 2,
   "id": "d3c90959",
   "metadata": {},
   "outputs": [],
   "source": [
    "import os\n",
    "import re\n",
    "import pymupdf\n",
    "import django_setup\n",
    "from IPython.display import Markdown, display\n",
    "from bs4 import BeautifulSoup as bs\n",
    "\n",
    "from django.conf import settings\n",
    "\n",
    "gemini_api_key = settings.GEMINI_API_KEY"
   ]
  },
  {
   "cell_type": "code",
   "execution_count": 3,
   "id": "3dc03c68",
   "metadata": {},
   "outputs": [],
   "source": [
    "import google.generativeai as genai\n",
    "genai.configure(api_key=gemini_api_key)\n"
   ]
  },
  {
   "cell_type": "code",
   "execution_count": 18,
   "id": "d484b876",
   "metadata": {},
   "outputs": [],
   "source": [
    "def get_model_configured():\n",
    "    generation_config = {\n",
    "      \"temperature\": 0.1,\n",
    "      \"top_p\": 0.95,\n",
    "      \"top_k\": 40,\n",
    "      #\"max_output_tokens\": 8192,\n",
    "      \"response_mime_type\": \"text/plain\",\n",
    "    }\n",
    "\n",
    "    model = genai.GenerativeModel(\n",
    "      model_name=\"gemini-2.0-flash-exp\",\n",
    "      generation_config=generation_config,\n",
    "    )\n",
    "\n",
    "    return model\n",
    "\n",
    "model = get_model_configured()\n"
   ]
  },
  {
   "cell_type": "code",
   "execution_count": 19,
   "id": "61cda34b",
   "metadata": {},
   "outputs": [],
   "source": [
    "def clean_text(text, _normalizes=None):\n",
    "    txt = text\n",
    "    try:\n",
    "        normalizes = _normalizes or (\n",
    "            ('\\n ?\\d+ ?/ ?\\d+ ?\\n', '\\n'),\n",
    "            ('[ ]{2,}', ' '),\n",
    "            (' \\\\n', '\\n'),\n",
    "            #('([^\\.]|\\S)\\n(\\S)', r'\\1 \\2'),\n",
    "            ('(\\w)\\n(.)', r'\\1 \\2'),\n",
    "            ('(,)\\n(.)', r'\\1 \\2'),\n",
    "            #('()\\n()', r'\\1 \\2'),\n",
    "            ('\\n\\n', '\\n'),\n",
    "            ('-\\n', '-'),\n",
    "            ('^\\n', ''),\n",
    "            ('–', '-'),\n",
    "            ('•', '*'),\n",
    "            ('[“”]', '\"'),\n",
    "            #('', ''),\n",
    "            #('', ''),\n",
    "            #('', ''),\n",
    "            #('', ''),\n",
    "            #('', ''),\n",
    "        )\n",
    "\n",
    "        for regex, new in normalizes:\n",
    "            search = re.search(regex, text)\n",
    "            while search:\n",
    "                text = re.sub(regex, new, text)\n",
    "                search = re.search(regex, text)\n",
    "        return text\n",
    "    except:\n",
    "        return txt\n"
   ]
  },
  {
   "cell_type": "code",
   "execution_count": null,
   "id": "5c032a17",
   "metadata": {},
   "outputs": [],
   "source": [
    "def make_prompt(text):\n",
    "    prompt = (\"\"\"\n",
    "\n",
    "Sobre o conteúdo de <CONTEXTO></CONTEXTO>\n",
    "\n",
    "“O quê”, “como”, “onde”, “quem” e “quando aconteceu” são as questões que devem ser respondidas direta, rápida e objetivamente, no processo de transformar um acontecimento em fato noticioso.\n",
    "\n",
    "1) Como se fosse um jornalista experiente, formado, com prática no jornalismo institucional e na comunicação legislativa, em linguagem simples para que a maioria das pessoas possa entender o texto a ser produzido, redija uma notícia totalmente objetiva e completamente restrita aos dados contidos no documento legislativo.\n",
    "\n",
    "2) Os adjetivos devem ficar restritos às citações entre aspas dos autores da matéria legislativa. Essas citações entre aspas, se houver, devem ser retiradas da justificativa da matéria jornalística objeto da notícia.\n",
    "\n",
    "3) O texto deve ter uma sugestão de título, que deve ter no mínimo 20 e no máximo 60 caracteres.\n",
    "\n",
    "4) O texto não deve conter opinião ou sugestão do jornalista IA.\n",
    "\n",
    "<CONTEXTO>{context}</CONTEXTO>\n",
    "\n",
    "    \"\"\").format(context=text)\n",
    "\n",
    "    while '  ' in prompt:\n",
    "        prompt = prompt.replace('  ', ' ')\n",
    "\n",
    "    return prompt\n"
   ]
  },
  {
   "cell_type": "code",
   "execution_count": 38,
   "id": "75fa675b",
   "metadata": {},
   "outputs": [],
   "source": [
    "def make_prompt(text):\n",
    "    prompt = (\"\"\"\n",
    "Como se fosse um jornalista experiente, formado, com prática no jornalismo institucional e na comunicação legislativa, com base no texto de <CONTEXTO></CONTEXTO>, em linguagem simples para que a maioria das pessoas possa entender o texto a ser produzido, redija uma notícia totalmente objetiva e completamente restrita aos dados contidos no documento legislativo.\n",
    "Sua notícia deve responder às questões “O quê”, “como”, “onde”, “quem” e “quando aconteceu”, porém, não divida o texto em itens ou tópicos com base nessas questões. Alem disso, siga as seguintes regras:\n",
    "1) As questões devem ser respondidas direta, rápida e objetivamente, no processo de transformar um acontecimento em fato noticioso.\n",
    "2) Como se fosse um jornalista experiente, formado, com prática no jornalismo institucional e na comunicação legislativa, em linguagem simples para que a maioria das pessoas possa entender o texto a ser produzido, redija uma notícia totalmente objetiva e completamente restrita aos dados contidos no documento legislativo.\n",
    "3) Os adjetivos devem ficar restritos às citações entre aspas dos autores da matéria legislativa. Essas citações entre aspas, se houver, devem ser retiradas da justificativa da matéria jornalística objeto da notícia.\n",
    "4) O texto deve ter uma sugestão de título, que deve ter no mínimo 20 e no máximo 60 caracteres.\n",
    "5) O texto não deve conter opinião ou sugestão do jornalista IA.\n",
    "\n",
    "<CONTEXTO>{context}</CONTEXTO>\n",
    "\n",
    "    \"\"\").format(context=text)\n",
    "\n",
    "    while '  ' in prompt:\n",
    "        prompt = prompt.replace('  ', ' ')\n",
    "\n",
    "    return prompt"
   ]
  },
  {
   "cell_type": "code",
   "execution_count": 39,
   "id": "57525ee8",
   "metadata": {},
   "outputs": [],
   "source": [
    "from sapl.materia.models import MateriaLegislativa\n",
    "\n",
    "materias = MateriaLegislativa.objects.filter(id=21533)\n",
    "\n",
    "for materia in materias[:1]:\n",
    "    doc = pymupdf.open(materia.texto_original.path)\n",
    "    text = ' '.join([page.get_text() for page in doc])\n",
    "    text = clean_text(text)\n",
    "\n",
    "prompt = make_prompt(text)\n",
    "\n",
    "answer = model.generate_content(prompt)"
   ]
  },
  {
   "cell_type": "code",
   "execution_count": 40,
   "id": "95782f92",
   "metadata": {},
   "outputs": [
    {
     "data": {
      "text/plain": [
       "1114"
      ]
     },
     "execution_count": 40,
     "metadata": {},
     "output_type": "execute_result"
    }
   ],
   "source": [
    "open(f'data/004_output_{materia.numero}.txt', 'w').write(answer.text)"
   ]
  },
  {
   "cell_type": "code",
   "execution_count": 41,
   "id": "acd1548a",
   "metadata": {},
   "outputs": [],
   "source": [
    "resp = answer.text\n"
   ]
  },
  {
   "cell_type": "code",
   "execution_count": 42,
   "id": "f074042d",
   "metadata": {},
   "outputs": [
    {
     "data": {
      "text/markdown": [
       "**Vereadores de Jataí solicitam Estatuto para Administrativos da Educação**\n",
       "\n",
       "Todos os vereadores de Jataí protocolaram, em 19 de janeiro de 2025, requerimento solicitando ao Poder Executivo o envio de um projeto de lei que crie um estatuto próprio para os servidores da área administrativa da educação municipal. O documento foi encaminhado ao Prefeito Geneilton Filho de Assis e ao Procurador Geral do Município, Geraldo Caldeira Azambuja Neto. A justificativa do requerimento ressalta a importância da valorização do servidor público para a qualidade dos serviços prestados à população. Segundo o texto, a Lei 2.822/2007, que trata do Estatuto e Plano de Cargos dos Profissionais do Magistério, não abrange os funcionários que atuam nas áreas administrativa, de alimentação e higiene/limpeza. O requerimento destaca que \"a alimentação escolar representa um dos alicerces do processo de aprendizagem\" e que \"os agentes de limpeza são importantes na educação porque ajudam a manter a higiene e a limpeza nas escolas\". Os vereadores esperam que a criação do estatuto defina os direitos e deveres desses servidores.\n"
      ],
      "text/plain": [
       "<IPython.core.display.Markdown object>"
      ]
     },
     "metadata": {},
     "output_type": "display_data"
    }
   ],
   "source": [
    "display(Markdown(resp))"
   ]
  },
  {
   "cell_type": "code",
   "execution_count": null,
   "id": "e7d583d3",
   "metadata": {},
   "outputs": [],
   "source": []
  }
 ],
 "metadata": {
  "kernelspec": {
   "display_name": "cmj",
   "language": "python",
   "name": "python3"
  },
  "language_info": {
   "codemirror_mode": {
    "name": "ipython",
    "version": 3
   },
   "file_extension": ".py",
   "mimetype": "text/x-python",
   "name": "python",
   "nbconvert_exporter": "python",
   "pygments_lexer": "ipython3",
   "version": "3.10.12"
  }
 },
 "nbformat": 4,
 "nbformat_minor": 5
}

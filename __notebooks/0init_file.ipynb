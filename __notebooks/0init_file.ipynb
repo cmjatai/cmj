{
 "cells": [
  {
   "cell_type": "code",
   "execution_count": 12,
   "id": "d3c90959",
   "metadata": {},
   "outputs": [],
   "source": [
    "import django_setup\n",
    "from IPython.display import Markdown, display\n",
    "import pymupdf\n",
    "import re"
   ]
  },
  {
   "cell_type": "code",
   "execution_count": 13,
   "id": "e22b0c32",
   "metadata": {},
   "outputs": [],
   "source": [
    "from sapl.materia.models import MateriaLegislativa"
   ]
  },
  {
   "cell_type": "code",
   "execution_count": 14,
   "id": "0d59832a-1d7c-4104-bae5-8272512b8b52",
   "metadata": {},
   "outputs": [],
   "source": [
    "m = MateriaLegislativa.objects.first()"
   ]
  }
 ],
 "metadata": {
  "kernelspec": {
   "display_name": "cmj",
   "language": "python",
   "name": "python3"
  },
  "language_info": {
   "codemirror_mode": {
    "name": "ipython",
    "version": 3
   },
   "file_extension": ".py",
   "mimetype": "text/x-python",
   "name": "python",
   "nbconvert_exporter": "python",
   "pygments_lexer": "ipython3",
   "version": "3.10.12"
  }
 },
 "nbformat": 4,
 "nbformat_minor": 5
}

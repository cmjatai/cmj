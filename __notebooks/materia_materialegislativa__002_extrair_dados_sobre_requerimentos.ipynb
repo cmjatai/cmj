{
 "cells": [
  {
   "cell_type": "code",
   "execution_count": 1,
   "id": "d3c90959",
   "metadata": {},
   "outputs": [],
   "source": [
    "import os\n",
    "import re\n",
    "import pymupdf\n",
    "import django_setup\n",
    "from IPython.display import Markdown, display\n",
    "from bs4 import BeautifulSoup as bs\n",
    "\n",
    "from django.conf import settings\n",
    "\n",
    "gemini_api_key = settings.GEMINI_API_KEY"
   ]
  },
  {
   "cell_type": "code",
   "execution_count": null,
   "id": "1f0d1dd4",
   "metadata": {},
   "outputs": [],
   "source": []
  },
  {
   "cell_type": "code",
   "execution_count": 2,
   "id": "3dc03c68",
   "metadata": {},
   "outputs": [],
   "source": [
    "import google.generativeai as genai\n",
    "genai.configure(api_key=gemini_api_key)\n"
   ]
  },
  {
   "cell_type": "code",
   "execution_count": 3,
   "id": "d484b876",
   "metadata": {},
   "outputs": [],
   "source": [
    "def get_model_configured():\n",
    "    generation_config = {\n",
    "      \"temperature\": 0.1,\n",
    "      \"top_p\": 0.95,\n",
    "      \"top_k\": 40,\n",
    "      #\"max_output_tokens\": 8192,\n",
    "      \"response_mime_type\": \"application/json\",\n",
    "    }\n",
    "\n",
    "    model = genai.GenerativeModel(\n",
    "      model_name=\"gemini-2.0-flash-exp\",\n",
    "      generation_config=generation_config,\n",
    "    )\n",
    "\n",
    "    return model\n",
    "\n",
    "model = get_model_configured()\n"
   ]
  },
  {
   "cell_type": "code",
   "execution_count": 4,
   "id": "61cda34b",
   "metadata": {},
   "outputs": [],
   "source": [
    "def clean_text(text, _normalizes=None):\n",
    "    txt = text\n",
    "    try:\n",
    "        normalizes = _normalizes or (\n",
    "            ('\\n ?\\d+ ?/ ?\\d+ ?\\n', '\\n'),\n",
    "            ('[ ]{2,}', ' '),\n",
    "            (' \\\\n', '\\n'),\n",
    "            #('([^\\.]|\\S)\\n(\\S)', r'\\1 \\2'),\n",
    "            ('(\\w)\\n(.)', r'\\1 \\2'),\n",
    "            ('(,)\\n(.)', r'\\1 \\2'),\n",
    "            #('()\\n()', r'\\1 \\2'),\n",
    "            ('\\n\\n', '\\n'),\n",
    "            ('-\\n', '-'),\n",
    "            ('^\\n', ''),\n",
    "            ('–', '-'),\n",
    "            ('•', '*'),\n",
    "            ('[“”]', '\"'),\n",
    "            #('', ''),\n",
    "            #('', ''),\n",
    "            #('', ''),\n",
    "            #('', ''),\n",
    "            #('', ''),\n",
    "        )\n",
    "\n",
    "        for regex, new in normalizes:\n",
    "            search = re.search(regex, text)\n",
    "            while search:\n",
    "                text = re.sub(regex, new, text)\n",
    "                search = re.search(regex, text)\n",
    "        return text\n",
    "    except:\n",
    "        return txt\n"
   ]
  },
  {
   "cell_type": "code",
   "execution_count": 9,
   "id": "5c032a17",
   "metadata": {},
   "outputs": [],
   "source": [
    "def make_prompt(text):\n",
    "    prompt = (\"\"\"    Você é um especialista em Gestão Pública Municipal com mais de 10 anos de conhecimento teórico e atividade prática.\n",
    "        Analise o conteúdo de <CONTEXTO></CONTEXTO> e escreva um JSON com as seguintes chaves: \"temas\", \"autores\", \"destinatarios\", \"possiveis_destinatarios\", \"localidades\", \"analise\" e \"resumo\".\n",
    "        Para preencher as chaves, siga as instruções abaixo em que, respectivamente, se referem às chaves acima citadas:\n",
    "        1) O  texto em análise aborda a importância e faz solicitações à seus destinatários para a sociedade local. Em <TEMAS></TEMAS> consta uma lista com diversos temas da gestão pública municipal, classifique o texto com os itens de <TEMAS></TEMAS>, utilize para a classificação quantos itens forem necessários e coloque sua seleção em formato de lista na chave \"temas\".\n",
    "        2) O texto em análise apresenta um ou mais autores que defendem a importância de uma ou mais ações para a sociedade. Identifique esses autores de forma objetiva, ou seja, nome e cargo dentro de um dicionário para cada autor. Coloque sua resposta à esta pergunta na chave \"autores\" no formato de lista, mesmo que seja identificado apenas um autor.\n",
    "        3) Se o texto em análise apresentar um ou mais destinatários das ações defendidas pelos autores. Identifique esses destinatários com seu nome, cargo e instituição a qual pertence. Explique a importância das ações defendidas pelos autores para esses destinatários no contexto de seus cargos e instituições. Utilize em sua resposta as chaves: \"nome\", \"cargo\", \"instituicao\", \"importancia\". Coloque sua resposta à esta pergunta na chave \"destinatarios\" no formato de lista, mesmo que seja identificado apenas um destinatário.\n",
    "        4) Com base nas diversas áreas da gestão pública municipal, formule uma lista de possíveis instituições destinatárias não citadas pelos autores e justifique. Use as chaves \"instituicao\" e \"justificativa\". Coloque sua resposta à esta pergunta na chave \"possiveis_destinatarios\" no formato de lista.\n",
    "        5) Caso o texto em análise apresente localidades, identifique essas localidades, sejam elas logradouros públicos, bairros ou mesmo prédios públicos e/ou privados, utilizando para isso a chave \"nome\", e adicionando o tipo identificado, utilizando a chave \"tipo\". Coloque sua resposta à esta pergunta na chave \"localidades\" no formato de lista.\n",
    "        6) Formule a defesa do texto analisado com no máximo 150 palavras sobre a importância das ações defendidas pelos autores para os destinatários identificados. É muito importante que escreva essa defesa com um texto leve de forma que uma pessoa leiga no assunto entenda. Coloque sua resposta à esta pergunta na chave \"analise\" no formato de markdown.\n",
    "        7) Resuma o texto em uma única frase dizendo qual o benefício está sendo pedido para que localidade está sendo pedido sem citar autores e destinatários. Coloque sua resposta à esta pergunta na chave \"resumo\".\n",
    "        <CONTEXTO>{context}</CONTEXTO>\n",
    "        <TEMAS><ITEM>Assistência Social e Inclusão</ITEM><ITEM>Atendimento ao Cidadão</ITEM><ITEM>Bem-Estar Animal</ITEM><ITEM>Conselhos Municipais</ITEM><ITEM>Convênios e Parcerias</ITEM><ITEM>Cultura e Patrimônio</ITEM><ITEM>Desenvolvimento Econômico e Social</ITEM><ITEM>Economia Solidária</ITEM><ITEM>Educação</ITEM><ITEM>Espaços Públicos</ITEM><ITEM>Esporte e Lazer</ITEM><ITEM>Finanças e Orçamento</ITEM><ITEM>Gerenciamento de Riscos</ITEM><ITEM>Gestão de Contratos e Licitações</ITEM><ITEM>Gestão de Pessoas e Servidores</ITEM><ITEM>Governança e Gestão Pública</ITEM><ITEM>Infraestrutura Urbana e Mobilidade</ITEM><ITEM>Legislação e Normas</ITEM><ITEM>Meio Ambiente e Sustentabilidade</ITEM><ITEM>Participação e Controle Social</ITEM><ITEM>Qualidade de Vida</ITEM><ITEM>Regularização Fundiária</ITEM><ITEM>Relações Institucionais</ITEM><ITEM>Saneamento Básico</ITEM><ITEM>Saúde Pública</ITEM><ITEM>Segurança Pública e Defesa Civil</ITEM><ITEM>Tecnologia da Informação</ITEM></TEMAS>\n",
    "    \"\"\").format(context=text)\n",
    "\n",
    "    while '  ' in prompt:\n",
    "        prompt = prompt.replace('  ', ' ')\n",
    "\n",
    "    return prompt\n"
   ]
  },
  {
   "cell_type": "code",
   "execution_count": 18,
   "id": "57525ee8",
   "metadata": {},
   "outputs": [],
   "source": [
    "from sapl.materia.models import MateriaLegislativa\n",
    "\n",
    "materias = MateriaLegislativa.objects.filter(numero=36, ano=2025, tipo_id=3)\n",
    "\n",
    "for materia in materias[:1]:\n",
    "    doc = pymupdf.open(materia.texto_original.path)\n",
    "    text = ' '.join([page.get_text() for page in doc])\n",
    "    text = clean_text(text)\n",
    "\n",
    "prompt = make_prompt(text)\n",
    "\n",
    "answer = model.generate_content(prompt)"
   ]
  },
  {
   "cell_type": "code",
   "execution_count": 19,
   "id": "95782f92",
   "metadata": {},
   "outputs": [],
   "source": [
    "import json\n",
    "\n",
    "try:\n",
    "    data = {}\n",
    "    data['id'] = materia.id\n",
    "    data['epigrafe'] = str(materia)\n",
    "    data['ementa'] = materia.ementa\n",
    "    data.update(json.loads(answer.text))\n",
    "    data_json = json.dumps(data, indent=4, ensure_ascii=False)\n",
    "    open(f'data/002_output_{materia.numero}.json', 'w').write(data_json)\n",
    "except:\n",
    "    print('Erro ao converter json')\n",
    "    print(answer.text)\n",
    "    open('data/002_error.txt', 'w').write(answer.text)"
   ]
  },
  {
   "cell_type": "code",
   "execution_count": 23,
   "id": "805cb958",
   "metadata": {},
   "outputs": [],
   "source": [
    "import yaml\n",
    "\n",
    "yaml_string = \"\"\"PROMPTs:\n",
    "  - id: 2\n",
    "    status: True\n",
    "    temperature: 0.1\n",
    "    top_p: 0.95\n",
    "    top_k: 40\n",
    "    text: |+\n",
    "      Você é um especialista em Gestão Pública Municipal com mais de 10 anos de conhecimento teórico e atividade prática.\n",
    "      Analise o conteúdo de <CONTEXTO></CONTEXTO> e escreva um JSON com as seguintes chaves: \"temas\", \"autores\", \"destinatarios\", \"possiveis_destinatarios\", \"localidades\" e \"analise\".\n",
    "      Para preencher as chaves, siga as instruções abaixo em que, respectivamente, se referem às chaves acima citadas:\n",
    "      1) Dentro das diversas áreas da gestão pública municipal, o texto em análise aborda a importância e faz solicitações à seus destinatários para a sociedade local. Classifique o texto criando uma lista temática concisa e coloque sua resposta à esta pergunta na chave \"temas\".\n",
    "      2) O texto em análise apresenta um ou mais autores que defendem a importância de uma ou mais ações para a sociedade. Identifique esses autores de forma objetiva, ou seja, nome e cargo. Coloque sua resposta à esta pergunta na chave \"autores\" no formato de lista, mesmo que seja identificado apenas um autor.\n",
    "      3) Se o texto em análise apresentar um ou mais destinatários das ações defendidas pelos autores. Identifique esses destinatários com seu nome, cargo e instituição a qual pertence. Explique a importância das ações defendidas pelos autores para esses destinatários no contexto de seus cargos e instituições. Utilize em sua resposta as chaves: \"nome\", \"cargo\", \"instituicao\", \"importancia\". Coloque sua resposta à esta pergunta na chave \"destinatarios\" no formato de lista, mesmo que seja identificado apenas um destinatário.\n",
    "      4) Com base nas diversas áreas da gestão pública municipal, formule uma lista de possíveis instituições destinatárias não citadas pelos autores e justifique. Use as chaves \"instituicao\" e \"justificativa\". Coloque sua resposta à esta pergunta na chave \"possiveis_destinatarios\" no formato de lista.\n",
    "      5) Caso o texto em análise apresente localidades, identifique essas localidades, sejam elas logradouros públicos, bairros ou mesmo prédios públicos e/ou privados, utilizando para isso a chave \"nome\", e adicionando o tipo identificado, utilizando a chave \"tipo\". Coloque sua resposta à esta pergunta na chave \"localidades\" no formato de lista.\n",
    "      6) Formule a defesa do texto analisado com no máximo 150 palavras sobre a importância das ações defendidas pelos autores para os destinatários identificados. É muito importante que escreva essa defesa com um texto leve de forma que uma pessoa leiga no assunto entenda. Coloque sua resposta à esta pergunta na chave \"analise\" no formato de markdown.\n",
    "\n",
    "      <CONTEXTO>{context}</CONTEXTO>\"\"\"\n",
    "\n",
    "yaml_data = yaml.load(yaml_string, Loader=yaml.FullLoader)"
   ]
  },
  {
   "cell_type": "code",
   "execution_count": 24,
   "id": "3efece1c",
   "metadata": {},
   "outputs": [
    {
     "data": {
      "text/plain": [
       "{'PROMPTs': [{'id': 2,\n",
       "   'status': True,\n",
       "   'temperature': 0.1,\n",
       "   'top_p': 0.95,\n",
       "   'top_k': 40,\n",
       "   'text': 'Você é um especialista em Gestão Pública Municipal com mais de 10 anos de conhecimento teórico e atividade prática.\\nAnalise o conteúdo de <CONTEXTO></CONTEXTO> e escreva um JSON com as seguintes chaves: \"temas\", \"autores\", \"destinatarios\", \"possiveis_destinatarios\", \"localidades\" e \"analise\".\\nPara preencher as chaves, siga as instruções abaixo em que, respectivamente, se referem às chaves acima citadas:\\n1) Dentro das diversas áreas da gestão pública municipal, o texto em análise aborda a importância e faz solicitações à seus destinatários para a sociedade local. Classifique o texto criando uma lista temática concisa e coloque sua resposta à esta pergunta na chave \"temas\".\\n2) O texto em análise apresenta um ou mais autores que defendem a importância de uma ou mais ações para a sociedade. Identifique esses autores de forma objetiva, ou seja, nome e cargo. Coloque sua resposta à esta pergunta na chave \"autores\" no formato de lista, mesmo que seja identificado apenas um autor.\\n3) Se o texto em análise apresentar um ou mais destinatários das ações defendidas pelos autores. Identifique esses destinatários com seu nome, cargo e instituição a qual pertence. Explique a importância das ações defendidas pelos autores para esses destinatários no contexto de seus cargos e instituições. Utilize em sua resposta as chaves: \"nome\", \"cargo\", \"instituicao\", \"importancia\". Coloque sua resposta à esta pergunta na chave \"destinatarios\" no formato de lista, mesmo que seja identificado apenas um destinatário.\\n4) Com base nas diversas áreas da gestão pública municipal, formule uma lista de possíveis instituições destinatárias não citadas pelos autores e justifique. Use as chaves \"instituicao\" e \"justificativa\". Coloque sua resposta à esta pergunta na chave \"possiveis_destinatarios\" no formato de lista.\\n5) Caso o texto em análise apresente localidades, identifique essas localidades, sejam elas logradouros públicos, bairros ou mesmo prédios públicos e/ou privados, utilizando para isso a chave \"nome\", e adicionando o tipo identificado, utilizando a chave \"tipo\". Coloque sua resposta à esta pergunta na chave \"localidades\" no formato de lista.\\n6) Formule a defesa do texto analisado com no máximo 150 palavras sobre a importância das ações defendidas pelos autores para os destinatários identificados. É muito importante que escreva essa defesa com um texto leve de forma que uma pessoa leiga no assunto entenda. Coloque sua resposta à esta pergunta na chave \"analise\" no formato de markdown.\\n\\n<CONTEXTO>{context}</CONTEXTO>'}]}"
      ]
     },
     "execution_count": 24,
     "metadata": {},
     "output_type": "execute_result"
    }
   ],
   "source": [
    "yaml_data"
   ]
  },
  {
   "cell_type": "markdown",
   "id": "f7a5c524",
   "metadata": {},
   "source": [
    "##### Extração de Temas gerado pelo código acima implementado já no PortalCMJ"
   ]
  },
  {
   "cell_type": "code",
   "execution_count": 49,
   "id": "88076e8e",
   "metadata": {},
   "outputs": [],
   "source": [
    "from sapl.base.models import Metadata\n",
    "temas_global = set()\n",
    "mds = Metadata.objects.all()\n",
    "\n",
    "for md in mds:\n",
    "    temas = md.metadata.get('genia', {}).get('temas', [])\n",
    "    for tema in temas:\n",
    "        if tema not in temas_global:\n",
    "            temas_global.add(' '.join(map(lambda x: x.capitalize() if len(x) > 3 else x, tema.split())))\n",
    "\n",
    "temas_global = {\n",
    "    k: k for k in sorted(temas_global)\n",
    "    }"
   ]
  },
  {
   "cell_type": "code",
   "execution_count": 50,
   "id": "def4c234",
   "metadata": {},
   "outputs": [],
   "source": [
    "temas_global = list(temas_global.items())"
   ]
  },
  {
   "cell_type": "code",
   "execution_count": 51,
   "id": "1099265f",
   "metadata": {},
   "outputs": [
    {
     "data": {
      "text/plain": [
       "('Abastecimento de Água', 'Abastecimento de Água')"
      ]
     },
     "execution_count": 51,
     "metadata": {},
     "output_type": "execute_result"
    }
   ],
   "source": [
    "temas_global[0]"
   ]
  },
  {
   "cell_type": "code",
   "execution_count": 56,
   "id": "a26bc644",
   "metadata": {},
   "outputs": [],
   "source": [
    "md = Metadata.objects.filter(metadata__genia__temas__icontains=temas_global[0][0]).first()"
   ]
  },
  {
   "cell_type": "code",
   "execution_count": 12,
   "id": "ba9f42ec",
   "metadata": {},
   "outputs": [],
   "source": [
    "for md in Metadata.objects.all():\n",
    "    temas = md.metadata.get('genia', {}).get('temas', [])\n",
    "    temas = set(temas)\n",
    "    md.metadata['genia']['temas'] = list(temas)\n",
    "    md.save()"
   ]
  },
  {
   "cell_type": "code",
   "execution_count": 2,
   "id": "9950a77f",
   "metadata": {},
   "outputs": [
    {
     "name": "stdout",
     "output_type": "stream",
     "text": [
      "<ITEM>Assistência Social e Inclusão</ITEM>\n",
      "<ITEM>Atendimento ao Cidadão</ITEM>\n",
      "<ITEM>Atendimento em Turno Integral</ITEM>\n",
      "<ITEM>Bem-Estar Animal</ITEM>\n",
      "<ITEM>Conselhos Municipais</ITEM>\n",
      "<ITEM>Convênios e Parcerias</ITEM>\n",
      "<ITEM>Cultura e Patrimônio</ITEM>\n",
      "<ITEM>Democratização do Acesso a Cargos Públicos</ITEM>\n",
      "<ITEM>Desenvolvimento Econômico e Social</ITEM>\n",
      "<ITEM>Economia</ITEM>\n",
      "<ITEM>Economia Solidária</ITEM>\n",
      "<ITEM>Educação</ITEM>\n",
      "<ITEM>Espaços Públicos</ITEM>\n",
      "<ITEM>Esporte e Lazer</ITEM>\n",
      "<ITEM>Finanças e Orçamento</ITEM>\n",
      "<ITEM>Fiscalização de Posturas</ITEM>\n",
      "<ITEM>Gerenciamento de Riscos</ITEM>\n",
      "<ITEM>Gestão de Contratos e Licitações</ITEM>\n",
      "<ITEM>Gestão de Pessoas e Servidores</ITEM>\n",
      "<ITEM>Gestão de Recursos Públicos</ITEM>\n",
      "<ITEM>Gestão de Riscos</ITEM>\n",
      "<ITEM>Governança e Gestão Pública</ITEM>\n",
      "<ITEM>Infraestrutura Urbana e Mobilidade</ITEM>\n",
      "<ITEM>Legislação e Normas</ITEM>\n",
      "<ITEM>Meio Ambiente e Sustentabilidade</ITEM>\n",
      "<ITEM>Participação e Controle Social</ITEM>\n",
      "<ITEM>Planejamento Urbano</ITEM>\n",
      "<ITEM>Previdência Social</ITEM>\n",
      "<ITEM>Qualidade de Vida</ITEM>\n",
      "<ITEM>Redução de velocidade</ITEM>\n",
      "<ITEM>Regularização Fundiária</ITEM>\n",
      "<ITEM>Reivindicações e Requerimentos</ITEM>\n",
      "<ITEM>Relações Institucionais</ITEM>\n",
      "<ITEM>Saneamento Básico</ITEM>\n",
      "<ITEM>Saúde Pública</ITEM>\n",
      "<ITEM>Segurança Alimentar</ITEM>\n",
      "<ITEM>Segurança Pública e Defesa Civil</ITEM>\n",
      "<ITEM>Serviços públicos</ITEM>\n",
      "<ITEM>Serviços Públicos</ITEM>\n",
      "<ITEM>Tecnologia da Informação</ITEM>\n",
      "<ITEM>Turismo</ITEM>\n",
      "<ITEM>Valorização imobiliária</ITEM>\n"
     ]
    }
   ],
   "source": [
    "from sapl.materia.models import AssuntoMateria\n",
    "for a in AssuntoMateria.objects.filter(id__gt=4).order_by('assunto'):\n",
    "    print(f'<ITEM>{a.assunto}</ITEM>')"
   ]
  },
  {
   "cell_type": "code",
   "execution_count": 19,
   "id": "62fd2229",
   "metadata": {},
   "outputs": [],
   "source": [
    "outra_classificacao = {\n",
    "  \"classificacao_documentos\": [\n",
    "    {\n",
    "      \"grupo\": \"Infraestrutura e Serviços Urbanos\",\n",
    "      \"itens\": [\n",
    "        { \"subgrupo\": \"Manutenção Viária\", \"descricao\": \"(Recapeamento, tapa-buracos, sinalização)\" },\n",
    "        { \"subgrupo\": \"Iluminação Pública\", \"descricao\": \"(Reparos, expansão, modernização)\" },\n",
    "        { \"subgrupo\": \"Limpeza Urbana\", \"descricao\": \"(Coleta de lixo, varrição, descarte irregular)\" },\n",
    "        { \"subgrupo\": \"Drenagem Urbana\", \"descricao\": \"(Bueiros, galerias, enchentes)\" },\n",
    "        { \"subgrupo\": \"Pavimentação\", \"descricao\": \"(Novas ruas, calçadas, acessibilidade)\" },\n",
    "        { \"subgrupo\": \"Abastecimento de Água\", \"descricao\": \"(Reparos, vazamentos, novas ligações)\" },\n",
    "        { \"subgrupo\": \"Esgotamento Sanitário\", \"descricao\": \"(Rede coletora, tratamento, fossas)\" },\n",
    "        { \"subgrupo\": \"Transporte Público\", \"descricao\": \"(Linhas, horários, pontos de ônibus)\" },\n",
    "        { \"subgrupo\": \"Mobilidade Urbana\", \"descricao\": \"(Ciclovias, trânsito, estacionamento)\" },\n",
    "        { \"subgrupo\": \"Fiscalização de Obras\", \"descricao\": \"(Licenças, irregularidades, segurança)\" },\n",
    "        { \"subgrupo\": \"Parques e Jardins\", \"descricao\": \"(Manutenção, criação, revitalização)\" },\n",
    "        { \"subgrupo\": \"Cemitérios\", \"descricao\": \"(Manutenção, ampliação, concessões)\" }\n",
    "      ]\n",
    "    },\n",
    "    {\n",
    "      \"grupo\": \"Saúde\",\n",
    "      \"itens\": [\n",
    "        { \"subgrupo\": \"Atendimento Primário\", \"descricao\": \"(Postos de saúde, consultas, vacinação)\" },\n",
    "        { \"subgrupo\": \"Especialidades Médicas\", \"descricao\": \"(Consultas, exames, encaminhamentos)\" },\n",
    "        { \"subgrupo\": \"Saúde Mental\", \"descricao\": \"(Atendimento, CAPS, dependência química)\" },\n",
    "        { \"subgrupo\": \"Vigilância Sanitária\", \"descricao\": \"(Fiscalização, alvarás, licenças)\" },\n",
    "        { \"subgrupo\": \"Vigilância Epidemiológica\", \"descricao\": \"(Doenças, endemias, campanhas)\" },\n",
    "        { \"subgrupo\": \"Farmácia Básica\", \"descricao\": \"(Disponibilidade de medicamentos, distribuição)\" },\n",
    "        { \"subgrupo\": \"Urgência e Emergência\", \"descricao\": \"(Pronto Atendimento, SAMU, hospitais)\" }\n",
    "      ]\n",
    "    },\n",
    "    {\n",
    "      \"grupo\": \"Educação\",\n",
    "      \"itens\": [\n",
    "        { \"subgrupo\": \"Ensino Fundamental\", \"descricao\": \"(Matrículas, estrutura, merenda)\" },\n",
    "        { \"subgrupo\": \"Educação Infantil\", \"descricao\": \"(Creches, pré-escola, vagas)\" },\n",
    "        { \"subgrupo\": \"Ensino Médio\", \"descricao\": \"(Convênios, transporte escolar)\" },\n",
    "        { \"subgrupo\": \"Educação de Jovens e Adultos\", \"descricao\": \"(EJA, cursos profissionalizantes)\" },\n",
    "        { \"subgrupo\": \"Infraestrutura Escolar\", \"descricao\": \"(Reformas, equipamentos, acessibilidade)\" },\n",
    "        { \"subgrupo\": \"Transporte Escolar\", \"descricao\": \"(Rotas, segurança, veículos)\" },\n",
    "        { \"subgrupo\": \"Qualidade do Ensino\", \"descricao\": \"(Programas, formação de professores)\" }\n",
    "      ]\n",
    "    },\n",
    "    {\n",
    "        \"grupo\": \"Assistência Social\",\n",
    "        \"itens\": [\n",
    "            { \"subgrupo\": \"Benefícios Sociais\", \"descricao\":\"(Bolsa Família, Auxílio Brasil, outros)\"},\n",
    "            { \"subgrupo\": \"CRAS e CREAS\", \"descricao\":\"(Atendimento, programas, encaminhamentos)\"},\n",
    "            { \"subgrupo\": \"População em Situação de Rua\", \"descricao\":\"(Acolhimento, políticas, reinserção)\"},\n",
    "            { \"subgrupo\": \"Conselho Tutelar\", \"descricao\": \"(Denúncias, acompanhamento, proteção)\"},\n",
    "            { \"subgrupo\": \"Inclusão Social\", \"descricao\": \"(Pessoas com deficiência, minorias)\"}\n",
    "        ]\n",
    "    },\n",
    "   {\n",
    "        \"grupo\": \"Planejamento e Finanças\",\n",
    "        \"itens\": [\n",
    "            { \"subgrupo\": \"Orçamento Municipal\", \"descricao\": \"(Execução, remanejamento, investimentos)\" },\n",
    "            { \"subgrupo\": \"Planejamento Urbano\", \"descricao\": \"(Plano Diretor, uso e ocupação do solo)\" },\n",
    "            { \"subgrupo\": \"Licitações e Contratos\", \"descricao\": \"(Processos, irregularidades, fiscalização)\" },\n",
    "            { \"subgrupo\": \"Tributação\", \"descricao\": \"(IPTU, ISS, taxas)\" },\n",
    "            { \"subgrupo\": \"Contabilidade Pública\", \"descricao\": \"(Prestação de contas, auditoria)\"}\n",
    "        ]\n",
    "    },\n",
    "    {\n",
    "      \"grupo\": \"Outros\",\n",
    "      \"itens\": [\n",
    "        { \"subgrupo\": \"Segurança Pública\", \"descricao\": \"(Guarda Municipal, iluminação, videomonitoramento)\" },\n",
    "        { \"subgrupo\": \"Meio Ambiente\", \"descricao\": \"(Licenciamento, fiscalização, preservação)\" },\n",
    "        { \"subgrupo\": \"Cultura e Lazer\", \"descricao\": \"(Eventos, espaços culturais, esporte)\" },\n",
    "        { \"subgrupo\": \"Desenvolvimento Econômico\", \"descricao\": \"(Incentivos, empreendedorismo, emprego)\" }\n",
    "      ]\n",
    "    }\n",
    "  ]\n",
    "}"
   ]
  },
  {
   "cell_type": "code",
   "execution_count": null,
   "id": "2e37b58e",
   "metadata": {},
   "outputs": [],
   "source": [
    "from sapl.materia.models import AssuntoMateria\n",
    "for a in AssuntoMateria.objects.filter(id__gt=4).order_by('assunto'):\n",
    "    print(f'<ITEM>{a.assunto}</ITEM>')\n"
   ]
  },
  {
   "cell_type": "code",
   "execution_count": 8,
   "id": "8c700e03",
   "metadata": {},
   "outputs": [],
   "source": [
    "from sapl.materia.models import AssuntoMateria, MateriaAssunto\n",
    "from sapl.rules.apps import reset_id_model\n",
    "\n",
    "AssuntoMateria.objects.filter(id__gt=4).delete()\n",
    "reset_id_model(AssuntoMateria)\n",
    "\n",
    "for a in AssuntoMateria.objects.filter(id__gt=4).order_by('assunto'):\n",
    "    print(f'<ITEM>{a.assunto}</ITEM>')\n",
    "\n"
   ]
  },
  {
   "cell_type": "code",
   "execution_count": null,
   "id": "43524154",
   "metadata": {},
   "outputs": [],
   "source": []
  },
  {
   "cell_type": "code",
   "execution_count": null,
   "id": "4dbcb165",
   "metadata": {},
   "outputs": [],
   "source": []
  },
  {
   "cell_type": "code",
   "execution_count": 4,
   "id": "d0609922",
   "metadata": {},
   "outputs": [
    {
     "data": {
      "text/plain": [
       "(240, {'materia.MateriaAssunto': 202, 'materia.AssuntoMateria': 38})"
      ]
     },
     "execution_count": 4,
     "metadata": {},
     "output_type": "execute_result"
    }
   ],
   "source": []
  },
  {
   "cell_type": "code",
   "execution_count": 5,
   "id": "55e4922a",
   "metadata": {},
   "outputs": [
    {
     "data": {
      "text/plain": [
       "<QuerySet [3, 1, 4, 2]>"
      ]
     },
     "execution_count": 5,
     "metadata": {},
     "output_type": "execute_result"
    }
   ],
   "source": [
    "AssuntoMateria.objects.values_list('id', flat=True)"
   ]
  },
  {
   "cell_type": "code",
   "execution_count": 10,
   "id": "7a066d51",
   "metadata": {},
   "outputs": [
    {
     "data": {
      "text/plain": [
       "59"
      ]
     },
     "execution_count": 10,
     "metadata": {},
     "output_type": "execute_result"
    }
   ],
   "source": [
    "MateriaAssunto.objects.all().count()"
   ]
  },
  {
   "cell_type": "code",
   "execution_count": 11,
   "id": "5f2e06bc",
   "metadata": {},
   "outputs": [],
   "source": [
    "from sapl.materia.models import Tramitacao"
   ]
  },
  {
   "cell_type": "code",
   "execution_count": 14,
   "id": "81924668",
   "metadata": {},
   "outputs": [
    {
     "data": {
      "text/plain": [
       "<QuerySet [<Tramitacao: Projeto de Lei Ordinária do Legislativo nº 21 de 2023 | Proposição retirada pelo autor | 03/10/2023>, <Tramitacao: Projeto de Resolução nº 7 de 2023 | Proposição apresentada em Plenário | 09/05/2023>, <Tramitacao: Projeto de Resolução nº 9 de 2021 | Aguardando emissão de parecer das comissões | 05/10/2021>, <Tramitacao: Projeto de Resolução nº 6 de 2021 | Proposição retirada pelo autor | 27/09/2021>, <Tramitacao: Projeto de Resolução nº 8 de 2021 | Proposição retirada pelo autor | 15/09/2021>, <Tramitacao: Projeto de Lei Ordinária do Executivo nº 35 de 2019 | Aguardando a inclusão na ordem do dia | 25/06/2019>, <Tramitacao: Projeto de Resolução nº 6 de 2018 | Prazo Regimental | 05/06/2018>, <Tramitacao: Projeto de Resolução nº 8 de 2014 | Proposição retirada pelo autor | 29/08/2014>]>"
      ]
     },
     "execution_count": 14,
     "metadata": {},
     "output_type": "execute_result"
    }
   ],
   "source": [
    "Tramitacao.objects.filter(unidade_tramitacao_destino_id=13)"
   ]
  },
  {
   "cell_type": "code",
   "execution_count": null,
   "id": "13360a1b",
   "metadata": {},
   "outputs": [],
   "source": []
  }
 ],
 "metadata": {
  "kernelspec": {
   "display_name": "cmj",
   "language": "python",
   "name": "python3"
  },
  "language_info": {
   "codemirror_mode": {
    "name": "ipython",
    "version": 3
   },
   "file_extension": ".py",
   "mimetype": "text/x-python",
   "name": "python",
   "nbconvert_exporter": "python",
   "pygments_lexer": "ipython3",
   "version": "3.10.12"
  }
 },
 "nbformat": 4,
 "nbformat_minor": 5
}

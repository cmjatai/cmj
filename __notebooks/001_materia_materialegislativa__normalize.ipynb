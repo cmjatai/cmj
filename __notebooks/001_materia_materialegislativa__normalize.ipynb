{
 "cells": [
  {
   "cell_type": "code",
   "execution_count": 1,
   "id": "d3c90959",
   "metadata": {},
   "outputs": [],
   "source": [
    "import django_setup\n",
    "from IPython.display import Markdown, display\n",
    "import pymupdf\n",
    "import re"
   ]
  },
  {
   "cell_type": "code",
   "execution_count": 2,
   "id": "6b9f6a79",
   "metadata": {},
   "outputs": [],
   "source": [
    "#%pip install nltk"
   ]
  },
  {
   "cell_type": "code",
   "execution_count": 3,
   "id": "cb93b1ec",
   "metadata": {},
   "outputs": [],
   "source": [
    "def clean_text(text, _normalizes=None):\n",
    "    txt = text\n",
    "    try:\n",
    "        normalizes = _normalizes or (\n",
    "            ('\\n ?\\d+ ?/ ?\\d+ ?\\n', '\\n'),\n",
    "            ('[ ]{2,}', ' '),\n",
    "            (' \\\\n', '\\n'),\n",
    "            #('([^\\.]|\\S)\\n(\\S)', r'\\1 \\2'),\n",
    "            ('(\\w)\\n(.)', r'\\1 \\2'),\n",
    "            ('(,)\\n(.)', r'\\1 \\2'),\n",
    "            #('()\\n()', r'\\1 \\2'),\n",
    "            ('\\n\\n', '\\n'),\n",
    "            ('-\\n', '-'),\n",
    "            ('^\\n', ''),\n",
    "            ('–', '-'),\n",
    "            ('•', '*'),\n",
    "            ('[“”]', '\"'),\n",
    "            #('', ''),\n",
    "            #('', ''),\n",
    "            #('', ''),\n",
    "            #('', ''),\n",
    "            #('', ''),\n",
    "        )\n",
    "\n",
    "        for regex, new in normalizes:\n",
    "            search = re.search(regex, text)\n",
    "            while search:\n",
    "                text = re.sub(regex, new, text)\n",
    "                search = re.search(regex, text)\n",
    "        return text\n",
    "    except:\n",
    "        return txt\n"
   ]
  },
  {
   "cell_type": "markdown",
   "id": "abd6bcf2",
   "metadata": {},
   "source": [
    "##### Seleciona uma Matéria Legislativa e faz limpeza inicial com clean_txext"
   ]
  },
  {
   "cell_type": "code",
   "execution_count": 6,
   "id": "56f5db41",
   "metadata": {},
   "outputs": [],
   "source": [
    "from sapl.materia.models import MateriaLegislativa\n",
    "lines = []\n",
    "for m in MateriaLegislativa.objects.filter(tipo_id=27).order_by('-id')[:1]:\n",
    "    doc = pymupdf.open(m.texto_original.path)\n",
    "    text = ' '.join([page.get_text() for page in doc])\n",
    "    text = clean_text(text)\n",
    "    #text = text.replace('\\n', ' ') # instrução transforma o texto em uma linha só.\n",
    "    text = text.split('\\n')\n",
    "    text = list(filter(lambda x: x, text))\n",
    "    lines.extend(text)\n",
    "    # print(f'{m.id} - {m.ementa} - {m.texto_original.url}')"
   ]
  },
  {
   "cell_type": "markdown",
   "id": "f5b23918",
   "metadata": {},
   "source": [
    "##### usa seleção de nltk para remover stopwords"
   ]
  },
  {
   "cell_type": "code",
   "execution_count": 7,
   "id": "3a56becc",
   "metadata": {},
   "outputs": [],
   "source": [
    "import string\n",
    "import nltk\n",
    "#nltk.download(\"stopwords\")\n",
    "#nltk.download(\"punkt\")\n",
    "#nltk.download(\"punkt_tab\")\n",
    "stopwords = nltk.corpus.stopwords.words(\"portuguese\")\n",
    "pontuacao = string.punctuation"
   ]
  },
  {
   "cell_type": "code",
   "execution_count": 8,
   "id": "2bf85189",
   "metadata": {},
   "outputs": [],
   "source": [
    "corpus = []\n",
    "for line in lines:\n",
    "    tokens = nltk.word_tokenize(line.lower(), language=\"portuguese\")\n",
    "    tokens = [t.lower() for t in tokens if t not in stopwords and t not in pontuacao]\n",
    "    corpus.append(' '.join(tokens))"
   ]
  },
  {
   "cell_type": "code",
   "execution_count": 9,
   "id": "a5b8a509",
   "metadata": {},
   "outputs": [],
   "source": [
    "#%pip install -U spacy[cuda113]\n",
    "#python -m spacy download pt_core_news_lg\n",
    "\n",
    "# Lemming\n",
    "import spacy\n",
    "\n",
    "spacy.prefer_gpu()\n",
    "nlp = spacy.load(\"pt_core_news_lg\")\n",
    "\n",
    "#Stemming\n",
    "import nltk\n",
    "#nltk.download('rslp')\n",
    "stemmer = nltk.stem.RSLPStemmer()"
   ]
  },
  {
   "cell_type": "code",
   "execution_count": null,
   "id": "7a27ae9f",
   "metadata": {},
   "outputs": [],
   "source": [
    "def lemmatize(text):\n",
    "    doc = nlp(text)\n",
    "    return ' '.join([token.lemma_ for token in doc])\n",
    "\n",
    "def stemmize(text):\n",
    "    return ' '.join([stemmer.stem(token) for token in text.split()])\n",
    "\n",
    "corpus_lemmatized = [lemmatize(text) for text in corpus]\n",
    "\n",
    "corpus_stemmed = [stemmize(text) for text in corpus_lemmatized]\n"
   ]
  },
  {
   "cell_type": "code",
   "execution_count": 15,
   "id": "5b2bb144",
   "metadata": {},
   "outputs": [
    {
     "name": "stdout",
     "output_type": "stream",
     "text": [
      "Noun phrases: ['EMENDA IMPOSITIVA, de 29 de Novembro de 2024.\\n', 'Projeto', 'Lei Ordinária', 'Executivo', 'nº', 'Setembro', 'que', 'a Despesa', 'Município', 'Jataí', ', Estado', 'Goiás', ', para o Exercício', '\"\\nAutoria', 'Vereadora Alessandra Oliveira', 'recursos orçamentários', 'o(a', 'SECRETARIA MUNICIPAL DE MEIO AMBIENTE, para a recepção do valor de R$ 110.000,00 (cento e dez mil reais), que será destinado a Custear um veículo leve', 'Modelo Fiorino para o Centro de Castração, com a finalidade de transportar animais para tal fim.\\n', 'A subscritora', 'Emenda Impositiva', 'a seguinte modificação', 'Projeto', 'Lei Orçamentária', ':\\nArt 1º -', 'Unidade Orçamentária SECRETARIA MUNICIPAL DE MEIO AMBIENTE', '/ Código', 'E CONSERVAÇÃO', 'ATERRO', 'SANITÁRIO /', 'Natureza', 'Despesa', ', o valor', 'Art 2º - O valor deduzido de R$ 110.000,00 (cento e dez mil reais), será inserido na Unidade Orçamentária SECRETARIA MUNICIPAL DE MEIO AMBIENTE / Código:\\n18.542.1839.1.344 - AQUISIÇÃO DE VEÍCULO PARA CENTRO DE CASTRAÇÃO /\\n', 'Natureza', 'Despesa', 'um veículo leve', 'Modelo Fiorino para o Centro de Castração, com a finalidade de transportar animais para tal fim.\\n', 'Art 3º - Os demais artigos e dispositivos da matéria acima permanecem inalterados.\\n', 'Art 4º - A presente emenda fará parte integrante do Projeto de Lei em referência.\\n', 'Câmara Municipal de Jataí, em 29 de Novembro de 2024.\\n', 'Alessandra Oliveira Vereadora']\n",
      "Verbs: ['indicar', 'destinar', 'Custear', 'leve', 'transportar', 'propor', 'supracitar', 'Deduz-se', 'deduzir', 'inserir', 'destinar', 'Custear', 'leve', 'transportar', 'permanecer', 'inalterar', 'fazer']\n"
     ]
    }
   ],
   "source": [
    "doc = nlp('\\n'.join(lines))\n",
    "\n",
    "# Analyze syntax\n",
    "print(\"Noun phrases:\", [chunk.text for chunk in doc.noun_chunks])\n",
    "print(\"Verbs:\", [token.lemma_ for token in doc if token.pos_ == \"VERB\"])\n"
   ]
  },
  {
   "cell_type": "code",
   "execution_count": 13,
   "id": "91011bae",
   "metadata": {},
   "outputs": [
    {
     "data": {
      "text/plain": [
       "['EMENDA IMPOSITIVA, de 29 de Novembro de 2024.',\n",
       " 'Ao Projeto de Lei Ordinária do Executivo nº 84, de 30 de Setembro de 2024, que \"Estima a Receita e fixa a Despesa do Município de Jataí, Estado de Goiás, para o Exercício de 2025.\"',\n",
       " 'Autoria: Vereadora Alessandra Oliveira Altera destinação de recursos orçamentários, indicando o(a) SECRETARIA MUNICIPAL DE MEIO AMBIENTE, para a recepção do valor de R$ 110.000,00 (cento e dez mil reais), que será destinado a Custear um veículo leve Modelo Fiorino para o Centro de Castração, com a finalidade de transportar animais para tal fim.',\n",
       " 'A subscritora da presente Emenda Impositiva, propõem a seguinte modificação no Projeto de Lei Orçamentária Anual supracitado:',\n",
       " 'Art 1º - Deduz-se da Unidade Orçamentária SECRETARIA MUNICIPAL DE MEIO AMBIENTE / Código: 18.541.1839.2.113 - OPERAÇÃO E CONSERVAÇÃO DO ATERRO SANITÁRIO / Natureza da Despesa: 3.3.90.39.00, o valor de R$ 110.000,00 (cento e dez mil reais).',\n",
       " 'Art 2º - O valor deduzido de R$ 110.000,00 (cento e dez mil reais), será inserido na Unidade Orçamentária SECRETARIA MUNICIPAL DE MEIO AMBIENTE / Código:',\n",
       " '18.542.1839.1.344 - AQUISIÇÃO DE VEÍCULO PARA CENTRO DE CASTRAÇÃO /',\n",
       " 'Natureza da Despesa: 4.4.90.52.00, destinado a Custear um veículo leve Modelo Fiorino para o Centro de Castração, com a finalidade de transportar animais para tal fim.',\n",
       " 'Art 3º - Os demais artigos e dispositivos da matéria acima permanecem inalterados.',\n",
       " 'Art 4º - A presente emenda fará parte integrante do Projeto de Lei em referência.',\n",
       " 'Câmara Municipal de Jataí, em 29 de Novembro de 2024.',\n",
       " 'Alessandra Oliveira Vereadora']"
      ]
     },
     "execution_count": 13,
     "metadata": {},
     "output_type": "execute_result"
    }
   ],
   "source": [
    "lines"
   ]
  },
  {
   "cell_type": "code",
   "execution_count": 8,
   "id": "cf847691",
   "metadata": {},
   "outputs": [],
   "source": [
    "jdict = {\n",
    "    'lines': lines,\n",
    "    'corpus': corpus,\n",
    "    'corpus_lemmatized': corpus_lemmatized,\n",
    "    'corpus_stemmed': corpus_stemmed,\n",
    "}\n",
    "import json\n",
    "with open('data/001_corpus.json', 'w') as f:\n",
    "    f.write(json.dumps(jdict))"
   ]
  },
  {
   "cell_type": "code",
   "execution_count": 5,
   "id": "ad3a4823",
   "metadata": {},
   "outputs": [],
   "source": [
    "import json\n",
    "with open('data/001_corpus.json', 'r') as f:\n",
    "    jdict = json.loads(f.read())\n",
    "lines = jdict['lines']\n",
    "corpus = jdict['corpus']\n",
    "corpus_lemmatized = jdict['corpus_lemmatized']\n",
    "corpus_stemmed = jdict['corpus_stemmed']"
   ]
  },
  {
   "cell_type": "code",
   "execution_count": 5,
   "id": "8d728c8c",
   "metadata": {},
   "outputs": [
    {
     "name": "stdout",
     "output_type": "stream",
     "text": [
      "108\n"
     ]
    }
   ],
   "source": [
    "max_sentences = 0\n",
    "for text in lines:\n",
    "    sentences = len(text.split(' '))\n",
    "    if sentences > max_sentences:\n",
    "        max_sentences = sentences\n",
    "print(max_sentences)"
   ]
  },
  {
   "cell_type": "code",
   "execution_count": 6,
   "id": "dd0a8d13",
   "metadata": {},
   "outputs": [],
   "source": [
    "from sentence_transformers import SentenceTransformer\n",
    "model = SentenceTransformer('distiluse-base-multilingual-cased-v2')\n",
    "corpus_embeddings = model.encode(corpus)"
   ]
  },
  {
   "cell_type": "code",
   "execution_count": 7,
   "id": "cb2dd8df",
   "metadata": {},
   "outputs": [
    {
     "data": {
      "text/plain": [
       "(142, 512)"
      ]
     },
     "execution_count": 7,
     "metadata": {},
     "output_type": "execute_result"
    }
   ],
   "source": [
    "corpus_embeddings.shape"
   ]
  },
  {
   "cell_type": "code",
   "execution_count": 8,
   "id": "2043196f",
   "metadata": {},
   "outputs": [
    {
     "data": {
      "text/plain": [
       "(142, 512)"
      ]
     },
     "execution_count": 8,
     "metadata": {},
     "output_type": "execute_result"
    }
   ],
   "source": [
    "import pandas as pd\n",
    "df_corpus = pd.DataFrame(corpus_embeddings)\n",
    "df_corpus.shape"
   ]
  },
  {
   "cell_type": "code",
   "execution_count": 9,
   "id": "b0e23c4c",
   "metadata": {},
   "outputs": [],
   "source": [
    "import sklearn.metrics as metrics\n",
    "from sklearn.decomposition import PCA\n",
    "from sklearn.cluster import KMeans\n",
    "\n",
    "pca2 = PCA(n_components=2)\n",
    "pca2_corpus_embeddings = pca2.fit_transform(corpus_embeddings)\n",
    "pca3 = PCA(n_components=3)\n",
    "pca3_corpus_embeddings = pca3.fit_transform(corpus_embeddings)\n",
    "\n",
    "k_rng = range(2, 20)\n",
    "wss_2D = []\n",
    "for k in k_rng:\n",
    "    num_clusters = k\n",
    "    clustering_model_2D = KMeans(n_clusters=num_clusters)\n",
    "    clustering_model_2D.fit(pca2_corpus_embeddings)\n",
    "    clustering_assignments_2D = clustering_model_2D.labels_\n",
    "    wss_2D_inertia = clustering_model_2D.inertia_\n",
    "    wss_2D.append(wss_2D_inertia)\n",
    "    #display(wss_2D_inertia)\n",
    "\n",
    "wss_3D = []\n",
    "for k in k_rng:\n",
    "    num_clusters = k\n",
    "    clustering_model_3D = KMeans(n_clusters=num_clusters)\n",
    "    clustering_model_3D.fit(pca3_corpus_embeddings)\n",
    "    clustering_assignments_3D = clustering_model_3D.labels_\n",
    "    wss_3D_inertia = clustering_model_3D.inertia_\n",
    "    wss_3D.append(wss_3D_inertia)\n",
    "    #display(wss_3D_inertia)\n"
   ]
  },
  {
   "cell_type": "code",
   "execution_count": 10,
   "id": "23306dbb",
   "metadata": {},
   "outputs": [],
   "source": [
    "listaWss2D = pd.DataFrame({'Clusters 2D': k_rng, 'wss_2D': wss_2D})\n",
    "listaWss3D = pd.DataFrame({'Clusters 3D': k_rng, 'wss_3D': wss_3D})\n"
   ]
  },
  {
   "cell_type": "code",
   "execution_count": 11,
   "id": "15281bbf",
   "metadata": {},
   "outputs": [
    {
     "data": {
      "text/plain": [
       "<Axes: xlabel='Clusters 2D', ylabel='wss_2D'>"
      ]
     },
     "execution_count": 11,
     "metadata": {},
     "output_type": "execute_result"
    },
    {
     "data": {
      "image/png": "[encoded data removed]",
      "text/plain": [
       "<Figure size 640x480 with 1 Axes>"
      ]
     },
     "metadata": {},
     "output_type": "display_data"
    }
   ],
   "source": [
    "import seaborn as sns\n",
    "sns.scatterplot(data=listaWss2D, x='Clusters 2D', y='wss_2D', markers='*')\n",
    "sns.scatterplot(data=listaWss3D, x='Clusters 3D', y='wss_3D')"
   ]
  },
  {
   "cell_type": "code",
   "execution_count": 12,
   "id": "72c88af7",
   "metadata": {},
   "outputs": [
    {
     "data": {
      "image/png": "[encoded data removed]",
      "text/plain": [
       "<Figure size 800x550 with 2 Axes>"
      ]
     },
     "metadata": {},
     "output_type": "display_data"
    },
    {
     "data": {
      "image/png": "[encoded data removed]",
      "text/plain": [
       "<Figure size 800x550 with 2 Axes>"
      ]
     },
     "metadata": {},
     "output_type": "display_data"
    },
    {
     "data": {
      "text/html": [
       "<style>#sk-container-id-1 {\n",
       "  /* Definition of color scheme common for light and dark mode */\n",
       "  --sklearn-color-text: #000;\n",
       "  --sklearn-color-text-muted: #666;\n",
       "  --sklearn-color-line: gray;\n",
       "  /* Definition of color scheme for unfitted estimators */\n",
       "  --sklearn-color-unfitted-level-0: #fff5e6;\n",
       "  --sklearn-color-unfitted-level-1: #f6e4d2;\n",
       "  --sklearn-color-unfitted-level-2: #ffe0b3;\n",
       "  --sklearn-color-unfitted-level-3: chocolate;\n",
       "  /* Definition of color scheme for fitted estimators */\n",
       "  --sklearn-color-fitted-level-0: #f0f8ff;\n",
       "  --sklearn-color-fitted-level-1: #d4ebff;\n",
       "  --sklearn-color-fitted-level-2: #b3dbfd;\n",
       "  --sklearn-color-fitted-level-3: cornflowerblue;\n",
       "\n",
       "  /* Specific color for light theme */\n",
       "  --sklearn-color-text-on-default-background: var(--sg-text-color, var(--theme-code-foreground, var(--jp-content-font-color1, black)));\n",
       "  --sklearn-color-background: var(--sg-background-color, var(--theme-background, var(--jp-layout-color0, white)));\n",
       "  --sklearn-color-border-box: var(--sg-text-color, var(--theme-code-foreground, var(--jp-content-font-color1, black)));\n",
       "  --sklearn-color-icon: #696969;\n",
       "\n",
       "  @media (prefers-color-scheme: dark) {\n",
       "    /* Redefinition of color scheme for dark theme */\n",
       "    --sklearn-color-text-on-default-background: var(--sg-text-color, var(--theme-code-foreground, var(--jp-content-font-color1, white)));\n",
       "    --sklearn-color-background: var(--sg-background-color, var(--theme-background, var(--jp-layout-color0, #111)));\n",
       "    --sklearn-color-border-box: var(--sg-text-color, var(--theme-code-foreground, var(--jp-content-font-color1, white)));\n",
       "    --sklearn-color-icon: #878787;\n",
       "  }\n",
       "}\n",
       "\n",
       "#sk-container-id-1 {\n",
       "  color: var(--sklearn-color-text);\n",
       "}\n",
       "\n",
       "#sk-container-id-1 pre {\n",
       "  padding: 0;\n",
       "}\n",
       "\n",
       "#sk-container-id-1 input.sk-hidden--visually {\n",
       "  border: 0;\n",
       "  clip: rect(1px 1px 1px 1px);\n",
       "  clip: rect(1px, 1px, 1px, 1px);\n",
       "  height: 1px;\n",
       "  margin: -1px;\n",
       "  overflow: hidden;\n",
       "  padding: 0;\n",
       "  position: absolute;\n",
       "  width: 1px;\n",
       "}\n",
       "\n",
       "#sk-container-id-1 div.sk-dashed-wrapped {\n",
       "  border: 1px dashed var(--sklearn-color-line);\n",
       "  margin: 0 0.4em 0.5em 0.4em;\n",
       "  box-sizing: border-box;\n",
       "  padding-bottom: 0.4em;\n",
       "  background-color: var(--sklearn-color-background);\n",
       "}\n",
       "\n",
       "#sk-container-id-1 div.sk-container {\n",
       "  /* jupyter's `normalize.less` sets `[hidden] { display: none; }`\n",
       "     but bootstrap.min.css set `[hidden] { display: none !important; }`\n",
       "     so we also need the `!important` here to be able to override the\n",
       "     default hidden behavior on the sphinx rendered scikit-learn.org.\n",
       "     See: https://github.com/scikit-learn/scikit-learn/issues/21755 */\n",
       "  display: inline-block !important;\n",
       "  position: relative;\n",
       "}\n",
       "\n",
       "#sk-container-id-1 div.sk-text-repr-fallback {\n",
       "  display: none;\n",
       "}\n",
       "\n",
       "div.sk-parallel-item,\n",
       "div.sk-serial,\n",
       "div.sk-item {\n",
       "  /* draw centered vertical line to link estimators */\n",
       "  background-image: linear-gradient(var(--sklearn-color-text-on-default-background), var(--sklearn-color-text-on-default-background));\n",
       "  background-size: 2px 100%;\n",
       "  background-repeat: no-repeat;\n",
       "  background-position: center center;\n",
       "}\n",
       "\n",
       "/* Parallel-specific style estimator block */\n",
       "\n",
       "#sk-container-id-1 div.sk-parallel-item::after {\n",
       "  content: \"\";\n",
       "  width: 100%;\n",
       "  border-bottom: 2px solid var(--sklearn-color-text-on-default-background);\n",
       "  flex-grow: 1;\n",
       "}\n",
       "\n",
       "#sk-container-id-1 div.sk-parallel {\n",
       "  display: flex;\n",
       "  align-items: stretch;\n",
       "  justify-content: center;\n",
       "  background-color: var(--sklearn-color-background);\n",
       "  position: relative;\n",
       "}\n",
       "\n",
       "#sk-container-id-1 div.sk-parallel-item {\n",
       "  display: flex;\n",
       "  flex-direction: column;\n",
       "}\n",
       "\n",
       "#sk-container-id-1 div.sk-parallel-item:first-child::after {\n",
       "  align-self: flex-end;\n",
       "  width: 50%;\n",
       "}\n",
       "\n",
       "#sk-container-id-1 div.sk-parallel-item:last-child::after {\n",
       "  align-self: flex-start;\n",
       "  width: 50%;\n",
       "}\n",
       "\n",
       "#sk-container-id-1 div.sk-parallel-item:only-child::after {\n",
       "  width: 0;\n",
       "}\n",
       "\n",
       "/* Serial-specific style estimator block */\n",
       "\n",
       "#sk-container-id-1 div.sk-serial {\n",
       "  display: flex;\n",
       "  flex-direction: column;\n",
       "  align-items: center;\n",
       "  background-color: var(--sklearn-color-background);\n",
       "  padding-right: 1em;\n",
       "  padding-left: 1em;\n",
       "}\n",
       "\n",
       "\n",
       "/* Toggleable style: style used for estimator/Pipeline/ColumnTransformer box that is\n",
       "clickable and can be expanded/collapsed.\n",
       "- Pipeline and ColumnTransformer use this feature and define the default style\n",
       "- Estimators will overwrite some part of the style using the `sk-estimator` class\n",
       "*/\n",
       "\n",
       "/* Pipeline and ColumnTransformer style (default) */\n",
       "\n",
       "#sk-container-id-1 div.sk-toggleable {\n",
       "  /* Default theme specific background. It is overwritten whether we have a\n",
       "  specific estimator or a Pipeline/ColumnTransformer */\n",
       "  background-color: var(--sklearn-color-background);\n",
       "}\n",
       "\n",
       "/* Toggleable label */\n",
       "#sk-container-id-1 label.sk-toggleable__label {\n",
       "  cursor: pointer;\n",
       "  display: flex;\n",
       "  width: 100%;\n",
       "  margin-bottom: 0;\n",
       "  padding: 0.5em;\n",
       "  box-sizing: border-box;\n",
       "  text-align: center;\n",
       "  align-items: start;\n",
       "  justify-content: space-between;\n",
       "  gap: 0.5em;\n",
       "}\n",
       "\n",
       "#sk-container-id-1 label.sk-toggleable__label .caption {\n",
       "  font-size: 0.6rem;\n",
       "  font-weight: lighter;\n",
       "  color: var(--sklearn-color-text-muted);\n",
       "}\n",
       "\n",
       "#sk-container-id-1 label.sk-toggleable__label-arrow:before {\n",
       "  /* Arrow on the left of the label */\n",
       "  content: \"▸\";\n",
       "  float: left;\n",
       "  margin-right: 0.25em;\n",
       "  color: var(--sklearn-color-icon);\n",
       "}\n",
       "\n",
       "#sk-container-id-1 label.sk-toggleable__label-arrow:hover:before {\n",
       "  color: var(--sklearn-color-text);\n",
       "}\n",
       "\n",
       "/* Toggleable content - dropdown */\n",
       "\n",
       "#sk-container-id-1 div.sk-toggleable__content {\n",
       "  max-height: 0;\n",
       "  max-width: 0;\n",
       "  overflow: hidden;\n",
       "  text-align: left;\n",
       "  /* unfitted */\n",
       "  background-color: var(--sklearn-color-unfitted-level-0);\n",
       "}\n",
       "\n",
       "#sk-container-id-1 div.sk-toggleable__content.fitted {\n",
       "  /* fitted */\n",
       "  background-color: var(--sklearn-color-fitted-level-0);\n",
       "}\n",
       "\n",
       "#sk-container-id-1 div.sk-toggleable__content pre {\n",
       "  margin: 0.2em;\n",
       "  border-radius: 0.25em;\n",
       "  color: var(--sklearn-color-text);\n",
       "  /* unfitted */\n",
       "  background-color: var(--sklearn-color-unfitted-level-0);\n",
       "}\n",
       "\n",
       "#sk-container-id-1 div.sk-toggleable__content.fitted pre {\n",
       "  /* unfitted */\n",
       "  background-color: var(--sklearn-color-fitted-level-0);\n",
       "}\n",
       "\n",
       "#sk-container-id-1 input.sk-toggleable__control:checked~div.sk-toggleable__content {\n",
       "  /* Expand drop-down */\n",
       "  max-height: 200px;\n",
       "  max-width: 100%;\n",
       "  overflow: auto;\n",
       "}\n",
       "\n",
       "#sk-container-id-1 input.sk-toggleable__control:checked~label.sk-toggleable__label-arrow:before {\n",
       "  content: \"▾\";\n",
       "}\n",
       "\n",
       "/* Pipeline/ColumnTransformer-specific style */\n",
       "\n",
       "#sk-container-id-1 div.sk-label input.sk-toggleable__control:checked~label.sk-toggleable__label {\n",
       "  color: var(--sklearn-color-text);\n",
       "  background-color: var(--sklearn-color-unfitted-level-2);\n",
       "}\n",
       "\n",
       "#sk-container-id-1 div.sk-label.fitted input.sk-toggleable__control:checked~label.sk-toggleable__label {\n",
       "  background-color: var(--sklearn-color-fitted-level-2);\n",
       "}\n",
       "\n",
       "/* Estimator-specific style */\n",
       "\n",
       "/* Colorize estimator box */\n",
       "#sk-container-id-1 div.sk-estimator input.sk-toggleable__control:checked~label.sk-toggleable__label {\n",
       "  /* unfitted */\n",
       "  background-color: var(--sklearn-color-unfitted-level-2);\n",
       "}\n",
       "\n",
       "#sk-container-id-1 div.sk-estimator.fitted input.sk-toggleable__control:checked~label.sk-toggleable__label {\n",
       "  /* fitted */\n",
       "  background-color: var(--sklearn-color-fitted-level-2);\n",
       "}\n",
       "\n",
       "#sk-container-id-1 div.sk-label label.sk-toggleable__label,\n",
       "#sk-container-id-1 div.sk-label label {\n",
       "  /* The background is the default theme color */\n",
       "  color: var(--sklearn-color-text-on-default-background);\n",
       "}\n",
       "\n",
       "/* On hover, darken the color of the background */\n",
       "#sk-container-id-1 div.sk-label:hover label.sk-toggleable__label {\n",
       "  color: var(--sklearn-color-text);\n",
       "  background-color: var(--sklearn-color-unfitted-level-2);\n",
       "}\n",
       "\n",
       "/* Label box, darken color on hover, fitted */\n",
       "#sk-container-id-1 div.sk-label.fitted:hover label.sk-toggleable__label.fitted {\n",
       "  color: var(--sklearn-color-text);\n",
       "  background-color: var(--sklearn-color-fitted-level-2);\n",
       "}\n",
       "\n",
       "/* Estimator label */\n",
       "\n",
       "#sk-container-id-1 div.sk-label label {\n",
       "  font-family: monospace;\n",
       "  font-weight: bold;\n",
       "  display: inline-block;\n",
       "  line-height: 1.2em;\n",
       "}\n",
       "\n",
       "#sk-container-id-1 div.sk-label-container {\n",
       "  text-align: center;\n",
       "}\n",
       "\n",
       "/* Estimator-specific */\n",
       "#sk-container-id-1 div.sk-estimator {\n",
       "  font-family: monospace;\n",
       "  border: 1px dotted var(--sklearn-color-border-box);\n",
       "  border-radius: 0.25em;\n",
       "  box-sizing: border-box;\n",
       "  margin-bottom: 0.5em;\n",
       "  /* unfitted */\n",
       "  background-color: var(--sklearn-color-unfitted-level-0);\n",
       "}\n",
       "\n",
       "#sk-container-id-1 div.sk-estimator.fitted {\n",
       "  /* fitted */\n",
       "  background-color: var(--sklearn-color-fitted-level-0);\n",
       "}\n",
       "\n",
       "/* on hover */\n",
       "#sk-container-id-1 div.sk-estimator:hover {\n",
       "  /* unfitted */\n",
       "  background-color: var(--sklearn-color-unfitted-level-2);\n",
       "}\n",
       "\n",
       "#sk-container-id-1 div.sk-estimator.fitted:hover {\n",
       "  /* fitted */\n",
       "  background-color: var(--sklearn-color-fitted-level-2);\n",
       "}\n",
       "\n",
       "/* Specification for estimator info (e.g. \"i\" and \"?\") */\n",
       "\n",
       "/* Common style for \"i\" and \"?\" */\n",
       "\n",
       ".sk-estimator-doc-link,\n",
       "a:link.sk-estimator-doc-link,\n",
       "a:visited.sk-estimator-doc-link {\n",
       "  float: right;\n",
       "  font-size: smaller;\n",
       "  line-height: 1em;\n",
       "  font-family: monospace;\n",
       "  background-color: var(--sklearn-color-background);\n",
       "  border-radius: 1em;\n",
       "  height: 1em;\n",
       "  width: 1em;\n",
       "  text-decoration: none !important;\n",
       "  margin-left: 0.5em;\n",
       "  text-align: center;\n",
       "  /* unfitted */\n",
       "  border: var(--sklearn-color-unfitted-level-1) 1pt solid;\n",
       "  color: var(--sklearn-color-unfitted-level-1);\n",
       "}\n",
       "\n",
       ".sk-estimator-doc-link.fitted,\n",
       "a:link.sk-estimator-doc-link.fitted,\n",
       "a:visited.sk-estimator-doc-link.fitted {\n",
       "  /* fitted */\n",
       "  border: var(--sklearn-color-fitted-level-1) 1pt solid;\n",
       "  color: var(--sklearn-color-fitted-level-1);\n",
       "}\n",
       "\n",
       "/* On hover */\n",
       "div.sk-estimator:hover .sk-estimator-doc-link:hover,\n",
       ".sk-estimator-doc-link:hover,\n",
       "div.sk-label-container:hover .sk-estimator-doc-link:hover,\n",
       ".sk-estimator-doc-link:hover {\n",
       "  /* unfitted */\n",
       "  background-color: var(--sklearn-color-unfitted-level-3);\n",
       "  color: var(--sklearn-color-background);\n",
       "  text-decoration: none;\n",
       "}\n",
       "\n",
       "div.sk-estimator.fitted:hover .sk-estimator-doc-link.fitted:hover,\n",
       ".sk-estimator-doc-link.fitted:hover,\n",
       "div.sk-label-container:hover .sk-estimator-doc-link.fitted:hover,\n",
       ".sk-estimator-doc-link.fitted:hover {\n",
       "  /* fitted */\n",
       "  background-color: var(--sklearn-color-fitted-level-3);\n",
       "  color: var(--sklearn-color-background);\n",
       "  text-decoration: none;\n",
       "}\n",
       "\n",
       "/* Span, style for the box shown on hovering the info icon */\n",
       ".sk-estimator-doc-link span {\n",
       "  display: none;\n",
       "  z-index: 9999;\n",
       "  position: relative;\n",
       "  font-weight: normal;\n",
       "  right: .2ex;\n",
       "  padding: .5ex;\n",
       "  margin: .5ex;\n",
       "  width: min-content;\n",
       "  min-width: 20ex;\n",
       "  max-width: 50ex;\n",
       "  color: var(--sklearn-color-text);\n",
       "  box-shadow: 2pt 2pt 4pt #999;\n",
       "  /* unfitted */\n",
       "  background: var(--sklearn-color-unfitted-level-0);\n",
       "  border: .5pt solid var(--sklearn-color-unfitted-level-3);\n",
       "}\n",
       "\n",
       ".sk-estimator-doc-link.fitted span {\n",
       "  /* fitted */\n",
       "  background: var(--sklearn-color-fitted-level-0);\n",
       "  border: var(--sklearn-color-fitted-level-3);\n",
       "}\n",
       "\n",
       ".sk-estimator-doc-link:hover span {\n",
       "  display: block;\n",
       "}\n",
       "\n",
       "/* \"?\"-specific style due to the `<a>` HTML tag */\n",
       "\n",
       "#sk-container-id-1 a.estimator_doc_link {\n",
       "  float: right;\n",
       "  font-size: 1rem;\n",
       "  line-height: 1em;\n",
       "  font-family: monospace;\n",
       "  background-color: var(--sklearn-color-background);\n",
       "  border-radius: 1rem;\n",
       "  height: 1rem;\n",
       "  width: 1rem;\n",
       "  text-decoration: none;\n",
       "  /* unfitted */\n",
       "  color: var(--sklearn-color-unfitted-level-1);\n",
       "  border: var(--sklearn-color-unfitted-level-1) 1pt solid;\n",
       "}\n",
       "\n",
       "#sk-container-id-1 a.estimator_doc_link.fitted {\n",
       "  /* fitted */\n",
       "  border: var(--sklearn-color-fitted-level-1) 1pt solid;\n",
       "  color: var(--sklearn-color-fitted-level-1);\n",
       "}\n",
       "\n",
       "/* On hover */\n",
       "#sk-container-id-1 a.estimator_doc_link:hover {\n",
       "  /* unfitted */\n",
       "  background-color: var(--sklearn-color-unfitted-level-3);\n",
       "  color: var(--sklearn-color-background);\n",
       "  text-decoration: none;\n",
       "}\n",
       "\n",
       "#sk-container-id-1 a.estimator_doc_link.fitted:hover {\n",
       "  /* fitted */\n",
       "  background-color: var(--sklearn-color-fitted-level-3);\n",
       "}\n",
       "</style><div id=\"sk-container-id-1\" class=\"sk-top-container\"><div class=\"sk-text-repr-fallback\"><pre>KElbowVisualizer(ax=&lt;Axes: title={&#x27;center&#x27;: &#x27;Distortion Score Elbow for KMeans Clustering&#x27;}, xlabel=&#x27;k&#x27;, ylabel=&#x27;distortion score&#x27;&gt;,\n",
       "                 estimator=KMeans(n_clusters=9, random_state=1), k=(2, 10))</pre><b>In a Jupyter environment, please rerun this cell to show the HTML representation or trust the notebook. <br />On GitHub, the HTML representation is unable to render, please try loading this page with nbviewer.org.</b></div><div class=\"sk-container\" hidden><div class=\"sk-item sk-dashed-wrapped\"><div class=\"sk-label-container\"><div class=\"sk-label fitted sk-toggleable\"><input class=\"sk-toggleable__control sk-hidden--visually\" id=\"sk-estimator-id-1\" type=\"checkbox\" ><label for=\"sk-estimator-id-1\" class=\"sk-toggleable__label fitted sk-toggleable__label-arrow\"><div><div>KElbowVisualizer</div></div><div><span class=\"sk-estimator-doc-link fitted\">i<span>Fitted</span></span></div></label><div class=\"sk-toggleable__content fitted\"><pre>KElbowVisualizer(ax=&lt;Axes: title={&#x27;center&#x27;: &#x27;Distortion Score Elbow for KMeans Clustering&#x27;}, xlabel=&#x27;k&#x27;, ylabel=&#x27;distortion score&#x27;&gt;,\n",
       "                 estimator=KMeans(n_clusters=9, random_state=1), k=(2, 10))</pre></div> </div></div><div class=\"sk-parallel\"><div class=\"sk-parallel-item\"><div class=\"sk-item\"><div class=\"sk-label-container\"><div class=\"sk-label fitted sk-toggleable\"><input class=\"sk-toggleable__control sk-hidden--visually\" id=\"sk-estimator-id-2\" type=\"checkbox\" ><label for=\"sk-estimator-id-2\" class=\"sk-toggleable__label fitted sk-toggleable__label-arrow\"><div><div>estimator: KMeans</div></div></label><div class=\"sk-toggleable__content fitted\"><pre>KMeans(n_clusters=9, random_state=1)</pre></div> </div></div><div class=\"sk-serial\"><div class=\"sk-item\"><div class=\"sk-estimator fitted sk-toggleable\"><input class=\"sk-toggleable__control sk-hidden--visually\" id=\"sk-estimator-id-3\" type=\"checkbox\" ><label for=\"sk-estimator-id-3\" class=\"sk-toggleable__label fitted sk-toggleable__label-arrow\"><div><div>KMeans</div></div><div><a class=\"sk-estimator-doc-link fitted\" rel=\"noreferrer\" target=\"_blank\" href=\"https://scikit-learn.org/1.6/modules/generated/sklearn.cluster.KMeans.html\">?<span>Documentation for KMeans</span></a></div></label><div class=\"sk-toggleable__content fitted\"><pre>KMeans(n_clusters=9, random_state=1)</pre></div> </div></div></div></div></div></div></div></div></div>"
      ],
      "text/plain": [
       "KElbowVisualizer(ax=<Axes: title={'center': 'Distortion Score Elbow for KMeans Clustering'}, xlabel='k', ylabel='distortion score'>,\n",
       "                 estimator=KMeans(n_clusters=9, random_state=1), k=(2, 10))"
      ]
     },
     "execution_count": 12,
     "metadata": {},
     "output_type": "execute_result"
    }
   ],
   "source": [
    "from sklearn.cluster import KMeans\n",
    "from yellowbrick.cluster.elbow import kelbow_visualizer\n",
    "\n",
    "X = listaWss2D\n",
    "kelbow_visualizer(KMeans(random_state=1), X, k=(2,10))\n",
    "\n",
    "X = listaWss3D\n",
    "kelbow_visualizer(KMeans(random_state=1), X, k=(2,10))\n",
    "\n"
   ]
  },
  {
   "cell_type": "code",
   "execution_count": 13,
   "id": "59568d29",
   "metadata": {},
   "outputs": [],
   "source": [
    "k_2D=7\n",
    "num_clusters_2D = k_2D\n",
    "labels_2D = KMeans(n_clusters=num_clusters_2D, init='k-means++', random_state=200).fit(pca2_corpus_embeddings).labels_\n",
    "\n",
    "k_3D=7\n",
    "num_clusters_3D = k_3D\n",
    "labels_3D = KMeans(n_clusters=num_clusters_3D, init='k-means++', random_state=200).fit(pca3_corpus_embeddings).labels_"
   ]
  },
  {
   "cell_type": "code",
   "execution_count": 14,
   "id": "b05ffab1",
   "metadata": {},
   "outputs": [
    {
     "data": {
      "application/vnd.plotly.v1+json": {
       "config": {
        "plotlyServerURL": "https://plot.ly"
       },
       "data": [
        {
         "hovertemplate": "0=%{x}<br>1=%{y}<br>text=%{text}<br>color=%{marker.color}<extra></extra>",
         "legendgroup": "",
         "marker": {
          "color": [
           2,
           6,
           0,
           1,
           4,
           4,
           6,
           0,
           5,
           5,
           2,
           3,
           2,
           6,
           0,
           1,
           4,
           4,
           0,
           6,
           0,
           4,
           3,
           0,
           5,
           5,
           2,
           3,
           2,
           6,
           0,
           1,
           4,
           4,
           0,
           6,
           0,
           4,
           3,
           0,
           5,
           5,
           2,
           3,
           2,
           6,
           0,
           1,
           4,
           4,
           5,
           5,
           2,
           3,
           2,
           6,
           0,
           1,
           4,
           4,
           0,
           6,
           0,
           4,
           3,
           0,
           5,
           5,
           2,
           3,
           2,
           6,
           4,
           1,
           4,
           0,
           4,
           0,
           5,
           5,
           2,
           3,
           2,
           6,
           0,
           1,
           4,
           4,
           0,
           6,
           0,
           4,
           0,
           5,
           5,
           2,
           3,
           2,
           6,
           0,
           1,
           4,
           4,
           4,
           0,
           4,
           3,
           0,
           5,
           5,
           2,
           3,
           2,
           6,
           0,
           1,
           4,
           4,
           4,
           0,
           4,
           3,
           0,
           5,
           5,
           2,
           3,
           2,
           6,
           0,
           1,
           4,
           4,
           4,
           0,
           4,
           3,
           0,
           5,
           5,
           2,
           3
          ],
          "coloraxis": "coloraxis",
          "symbol": "circle"
         },
         "mode": "markers+text",
         "name": "",
         "orientation": "v",
         "showlegend": false,
         "text": [
          0,
          1,
          2,
          3,
          4,
          5,
          6,
          7,
          8,
          9,
          10,
          11,
          12,
          13,
          14,
          15,
          16,
          17,
          18,
          19,
          20,
          21,
          22,
          23,
          24,
          25,
          26,
          27,
          28,
          29,
          30,
          31,
          32,
          33,
          34,
          35,
          36,
          37,
          38,
          39,
          40,
          41,
          42,
          43,
          44,
          45,
          46,
          47,
          48,
          49,
          50,
          51,
          52,
          53,
          54,
          55,
          56,
          57,
          58,
          59,
          60,
          61,
          62,
          63,
          64,
          65,
          66,
          67,
          68,
          69,
          70,
          71,
          72,
          73,
          74,
          75,
          76,
          77,
          78,
          79,
          80,
          81,
          82,
          83,
          84,
          85,
          86,
          87,
          88,
          89,
          90,
          91,
          92,
          93,
          94,
          95,
          96,
          97,
          98,
          99,
          100,
          101,
          102,
          103,
          104,
          105,
          106,
          107,
          108,
          109,
          110,
          111,
          112,
          113,
          114,
          115,
          116,
          117,
          118,
          119,
          120,
          121,
          122,
          123,
          124,
          125,
          126,
          127,
          128,
          129,
          130,
          131,
          132,
          133,
          134,
          135,
          136,
          137,
          138,
          139,
          140,
          141
         ],
         "type": "scatter",
         "x": [
          -0.096998595,
          0.15408866,
          0.19160989,
          -0.30388725,
          0.32063144,
          0.24916331,
          0.016200982,
          0.027911961,
          -0.5615237,
          -0.46478772,
          0.052130688,
          -0.091649726,
          -0.09825553,
          0.15408868,
          0.12181552,
          -0.3007553,
          0.3525616,
          0.32517406,
          0.22726396,
          0.12117989,
          0.11510227,
          0.27659148,
          -0.09876289,
          0.0457079,
          -0.5615237,
          -0.46478772,
          0.041727837,
          -0.14827341,
          -0.09825553,
          0.15408868,
          0.13326237,
          -0.30075535,
          0.3525616,
          0.3315261,
          0.23827124,
          0.12117989,
          0.12313975,
          0.30107006,
          -0.09876289,
          0.054115083,
          -0.5615237,
          -0.46478772,
          0.041727837,
          -0.14827341,
          -0.09825561,
          0.15408868,
          0.19834208,
          -0.30075535,
          0.31769577,
          0.2660989,
          -0.5615237,
          -0.46478772,
          0.041727837,
          -0.14827341,
          -0.09825561,
          0.15408868,
          0.13038632,
          -0.30075535,
          0.3525616,
          0.3245462,
          0.2225231,
          0.12117989,
          0.12426438,
          0.2921954,
          -0.09876289,
          0.045913663,
          -0.5615237,
          -0.46478772,
          0.041727837,
          -0.14827341,
          -0.09825553,
          0.15408868,
          0.23139413,
          -0.30388725,
          0.3169322,
          0.12295034,
          0.3171545,
          0.11075337,
          -0.5615237,
          -0.46478772,
          0.041727837,
          -0.091649726,
          -0.09825553,
          0.15408868,
          0.14006029,
          -0.30075535,
          0.3525616,
          0.33353204,
          0.23620279,
          0.12117989,
          0.12209817,
          0.26964113,
          0.026628153,
          -0.56152374,
          -0.46478787,
          0.041727837,
          -0.14827341,
          -0.09825561,
          0.15408868,
          0.13676329,
          -0.3007553,
          0.3525616,
          0.32778418,
          0.28838325,
          0.22367242,
          0.30842862,
          -0.09876289,
          0.05918229,
          -0.5615237,
          -0.46478772,
          0.041727837,
          -0.14827341,
          -0.09825561,
          0.15408868,
          0.13789818,
          -0.3007553,
          0.3525616,
          0.32778418,
          0.28838325,
          0.22367242,
          0.30842862,
          -0.09876289,
          0.0639836,
          -0.5615237,
          -0.46478772,
          0.041727837,
          -0.14827341,
          -0.09825561,
          0.15408868,
          0.14384595,
          -0.30075535,
          0.3525616,
          0.32778418,
          0.28838325,
          0.22367239,
          0.30842873,
          -0.09876286,
          0.064725384,
          -0.56152374,
          -0.46478793,
          0.04172785,
          -0.14827347
         ],
         "xaxis": "x",
         "y": [
          0.46200737,
          0.17038132,
          -0.11511962,
          -0.17206225,
          -0.183281,
          -0.19036067,
          0.19438565,
          -0.059989512,
          -0.15647346,
          -0.28610203,
          0.5200197,
          0.16093276,
          0.4865932,
          0.17038134,
          -0.07287071,
          -0.16575901,
          -0.23625286,
          -0.2778143,
          -0.04005307,
          0.07173526,
          -0.108519875,
          -0.2816172,
          0.10592677,
          -0.048938576,
          -0.15647346,
          -0.28610203,
          0.5427912,
          0.18435642,
          0.4865932,
          0.17038134,
          -0.06916793,
          -0.16575898,
          -0.23625286,
          -0.2786067,
          -0.043255575,
          0.07173526,
          -0.089517765,
          -0.27742448,
          0.10592677,
          -0.042824328,
          -0.15647346,
          -0.28610203,
          0.5427912,
          0.18435642,
          0.48659307,
          0.17038134,
          -0.042675175,
          -0.16575898,
          -0.21806848,
          -0.13061437,
          -0.15647346,
          -0.28610203,
          0.5427912,
          0.18435642,
          0.48659307,
          0.17038134,
          -0.07219916,
          -0.16575898,
          -0.23625286,
          -0.2783384,
          -0.028044416,
          0.07173526,
          -0.10060675,
          -0.2770345,
          0.10592677,
          -0.04546124,
          -0.15647346,
          -0.28610203,
          0.5427912,
          0.18435642,
          0.4865932,
          0.17038134,
          -0.14599924,
          -0.17206225,
          -0.23027694,
          -0.040580925,
          -0.26809043,
          -0.079546705,
          -0.15647346,
          -0.28610203,
          0.5427912,
          0.16093276,
          0.4865932,
          0.17038134,
          -0.0585253,
          -0.16575898,
          -0.23625286,
          -0.29158902,
          -0.05112004,
          0.07173525,
          -0.07024422,
          -0.2270327,
          -0.018679792,
          -0.15647349,
          -0.28610206,
          0.5427912,
          0.18435642,
          0.48659307,
          0.17038134,
          -0.05551341,
          -0.16575901,
          -0.23625286,
          -0.28165838,
          -0.12656401,
          -0.060730986,
          -0.18156901,
          0.10592677,
          -0.04854849,
          -0.15647346,
          -0.28610203,
          0.5427912,
          0.18435642,
          0.48659307,
          0.17038134,
          -0.05295939,
          -0.16575901,
          -0.23625286,
          -0.28165838,
          -0.12656401,
          -0.060730986,
          -0.18156901,
          0.10592677,
          -0.04906231,
          -0.15647346,
          -0.28610203,
          0.5427912,
          0.18435642,
          0.48659307,
          0.17038134,
          -0.054161545,
          -0.16575898,
          -0.23625286,
          -0.28165838,
          -0.12656401,
          -0.060730986,
          -0.18156897,
          0.10592678,
          -0.048279975,
          -0.15647352,
          -0.28610215,
          0.54279107,
          0.1843565
         ],
         "yaxis": "y"
        }
       ],
       "layout": {
        "coloraxis": {
         "colorbar": {
          "title": {
           "text": "color"
          }
         },
         "colorscale": [
          [
           0,
           "#0d0887"
          ],
          [
           0.1111111111111111,
           "#46039f"
          ],
          [
           0.2222222222222222,
           "#7201a8"
          ],
          [
           0.3333333333333333,
           "#9c179e"
          ],
          [
           0.4444444444444444,
           "#bd3786"
          ],
          [
           0.5555555555555556,
           "#d8576b"
          ],
          [
           0.6666666666666666,
           "#ed7953"
          ],
          [
           0.7777777777777778,
           "#fb9f3a"
          ],
          [
           0.8888888888888888,
           "#fdca26"
          ],
          [
           1,
           "#f0f921"
          ]
         ]
        },
        "height": 600,
        "legend": {
         "tracegroupgap": 0
        },
        "margin": {
         "t": 60
        },
        "template": {
         "data": {
          "bar": [
           {
            "error_x": {
             "color": "#2a3f5f"
            },
            "error_y": {
             "color": "#2a3f5f"
            },
            "marker": {
             "line": {
              "color": "#E5ECF6",
              "width": 0.5
             },
             "pattern": {
              "fillmode": "overlay",
              "size": 10,
              "solidity": 0.2
             }
            },
            "type": "bar"
           }
          ],
          "barpolar": [
           {
            "marker": {
             "line": {
              "color": "#E5ECF6",
              "width": 0.5
             },
             "pattern": {
              "fillmode": "overlay",
              "size": 10,
              "solidity": 0.2
             }
            },
            "type": "barpolar"
           }
          ],
          "carpet": [
           {
            "aaxis": {
             "endlinecolor": "#2a3f5f",
             "gridcolor": "white",
             "linecolor": "white",
             "minorgridcolor": "white",
             "startlinecolor": "#2a3f5f"
            },
            "baxis": {
             "endlinecolor": "#2a3f5f",
             "gridcolor": "white",
             "linecolor": "white",
             "minorgridcolor": "white",
             "startlinecolor": "#2a3f5f"
            },
            "type": "carpet"
           }
          ],
          "choropleth": [
           {
            "colorbar": {
             "outlinewidth": 0,
             "ticks": ""
            },
            "type": "choropleth"
           }
          ],
          "contour": [
           {
            "colorbar": {
             "outlinewidth": 0,
             "ticks": ""
            },
            "colorscale": [
             [
              0,
              "#0d0887"
             ],
             [
              0.1111111111111111,
              "#46039f"
             ],
             [
              0.2222222222222222,
              "#7201a8"
             ],
             [
              0.3333333333333333,
              "#9c179e"
             ],
             [
              0.4444444444444444,
              "#bd3786"
             ],
             [
              0.5555555555555556,
              "#d8576b"
             ],
             [
              0.6666666666666666,
              "#ed7953"
             ],
             [
              0.7777777777777778,
              "#fb9f3a"
             ],
             [
              0.8888888888888888,
              "#fdca26"
             ],
             [
              1,
              "#f0f921"
             ]
            ],
            "type": "contour"
           }
          ],
          "contourcarpet": [
           {
            "colorbar": {
             "outlinewidth": 0,
             "ticks": ""
            },
            "type": "contourcarpet"
           }
          ],
          "heatmap": [
           {
            "colorbar": {
             "outlinewidth": 0,
             "ticks": ""
            },
            "colorscale": [
             [
              0,
              "#0d0887"
             ],
             [
              0.1111111111111111,
              "#46039f"
             ],
             [
              0.2222222222222222,
              "#7201a8"
             ],
             [
              0.3333333333333333,
              "#9c179e"
             ],
             [
              0.4444444444444444,
              "#bd3786"
             ],
             [
              0.5555555555555556,
              "#d8576b"
             ],
             [
              0.6666666666666666,
              "#ed7953"
             ],
             [
              0.7777777777777778,
              "#fb9f3a"
             ],
             [
              0.8888888888888888,
              "#fdca26"
             ],
             [
              1,
              "#f0f921"
             ]
            ],
            "type": "heatmap"
           }
          ],
          "heatmapgl": [
           {
            "colorbar": {
             "outlinewidth": 0,
             "ticks": ""
            },
            "colorscale": [
             [
              0,
              "#0d0887"
             ],
             [
              0.1111111111111111,
              "#46039f"
             ],
             [
              0.2222222222222222,
              "#7201a8"
             ],
             [
              0.3333333333333333,
              "#9c179e"
             ],
             [
              0.4444444444444444,
              "#bd3786"
             ],
             [
              0.5555555555555556,
              "#d8576b"
             ],
             [
              0.6666666666666666,
              "#ed7953"
             ],
             [
              0.7777777777777778,
              "#fb9f3a"
             ],
             [
              0.8888888888888888,
              "#fdca26"
             ],
             [
              1,
              "#f0f921"
             ]
            ],
            "type": "heatmapgl"
           }
          ],
          "histogram": [
           {
            "marker": {
             "pattern": {
              "fillmode": "overlay",
              "size": 10,
              "solidity": 0.2
             }
            },
            "type": "histogram"
           }
          ],
          "histogram2d": [
           {
            "colorbar": {
             "outlinewidth": 0,
             "ticks": ""
            },
            "colorscale": [
             [
              0,
              "#0d0887"
             ],
             [
              0.1111111111111111,
              "#46039f"
             ],
             [
              0.2222222222222222,
              "#7201a8"
             ],
             [
              0.3333333333333333,
              "#9c179e"
             ],
             [
              0.4444444444444444,
              "#bd3786"
             ],
             [
              0.5555555555555556,
              "#d8576b"
             ],
             [
              0.6666666666666666,
              "#ed7953"
             ],
             [
              0.7777777777777778,
              "#fb9f3a"
             ],
             [
              0.8888888888888888,
              "#fdca26"
             ],
             [
              1,
              "#f0f921"
             ]
            ],
            "type": "histogram2d"
           }
          ],
          "histogram2dcontour": [
           {
            "colorbar": {
             "outlinewidth": 0,
             "ticks": ""
            },
            "colorscale": [
             [
              0,
              "#0d0887"
             ],
             [
              0.1111111111111111,
              "#46039f"
             ],
             [
              0.2222222222222222,
              "#7201a8"
             ],
             [
              0.3333333333333333,
              "#9c179e"
             ],
             [
              0.4444444444444444,
              "#bd3786"
             ],
             [
              0.5555555555555556,
              "#d8576b"
             ],
             [
              0.6666666666666666,
              "#ed7953"
             ],
             [
              0.7777777777777778,
              "#fb9f3a"
             ],
             [
              0.8888888888888888,
              "#fdca26"
             ],
             [
              1,
              "#f0f921"
             ]
            ],
            "type": "histogram2dcontour"
           }
          ],
          "mesh3d": [
           {
            "colorbar": {
             "outlinewidth": 0,
             "ticks": ""
            },
            "type": "mesh3d"
           }
          ],
          "parcoords": [
           {
            "line": {
             "colorbar": {
              "outlinewidth": 0,
              "ticks": ""
             }
            },
            "type": "parcoords"
           }
          ],
          "pie": [
           {
            "automargin": true,
            "type": "pie"
           }
          ],
          "scatter": [
           {
            "fillpattern": {
             "fillmode": "overlay",
             "size": 10,
             "solidity": 0.2
            },
            "type": "scatter"
           }
          ],
          "scatter3d": [
           {
            "line": {
             "colorbar": {
              "outlinewidth": 0,
              "ticks": ""
             }
            },
            "marker": {
             "colorbar": {
              "outlinewidth": 0,
              "ticks": ""
             }
            },
            "type": "scatter3d"
           }
          ],
          "scattercarpet": [
           {
            "marker": {
             "colorbar": {
              "outlinewidth": 0,
              "ticks": ""
             }
            },
            "type": "scattercarpet"
           }
          ],
          "scattergeo": [
           {
            "marker": {
             "colorbar": {
              "outlinewidth": 0,
              "ticks": ""
             }
            },
            "type": "scattergeo"
           }
          ],
          "scattergl": [
           {
            "marker": {
             "colorbar": {
              "outlinewidth": 0,
              "ticks": ""
             }
            },
            "type": "scattergl"
           }
          ],
          "scattermapbox": [
           {
            "marker": {
             "colorbar": {
              "outlinewidth": 0,
              "ticks": ""
             }
            },
            "type": "scattermapbox"
           }
          ],
          "scatterpolar": [
           {
            "marker": {
             "colorbar": {
              "outlinewidth": 0,
              "ticks": ""
             }
            },
            "type": "scatterpolar"
           }
          ],
          "scatterpolargl": [
           {
            "marker": {
             "colorbar": {
              "outlinewidth": 0,
              "ticks": ""
             }
            },
            "type": "scatterpolargl"
           }
          ],
          "scatterternary": [
           {
            "marker": {
             "colorbar": {
              "outlinewidth": 0,
              "ticks": ""
             }
            },
            "type": "scatterternary"
           }
          ],
          "surface": [
           {
            "colorbar": {
             "outlinewidth": 0,
             "ticks": ""
            },
            "colorscale": [
             [
              0,
              "#0d0887"
             ],
             [
              0.1111111111111111,
              "#46039f"
             ],
             [
              0.2222222222222222,
              "#7201a8"
             ],
             [
              0.3333333333333333,
              "#9c179e"
             ],
             [
              0.4444444444444444,
              "#bd3786"
             ],
             [
              0.5555555555555556,
              "#d8576b"
             ],
             [
              0.6666666666666666,
              "#ed7953"
             ],
             [
              0.7777777777777778,
              "#fb9f3a"
             ],
             [
              0.8888888888888888,
              "#fdca26"
             ],
             [
              1,
              "#f0f921"
             ]
            ],
            "type": "surface"
           }
          ],
          "table": [
           {
            "cells": {
             "fill": {
              "color": "#EBF0F8"
             },
             "line": {
              "color": "white"
             }
            },
            "header": {
             "fill": {
              "color": "#C8D4E3"
             },
             "line": {
              "color": "white"
             }
            },
            "type": "table"
           }
          ]
         },
         "layout": {
          "annotationdefaults": {
           "arrowcolor": "#2a3f5f",
           "arrowhead": 0,
           "arrowwidth": 1
          },
          "autotypenumbers": "strict",
          "coloraxis": {
           "colorbar": {
            "outlinewidth": 0,
            "ticks": ""
           }
          },
          "colorscale": {
           "diverging": [
            [
             0,
             "#8e0152"
            ],
            [
             0.1,
             "#c51b7d"
            ],
            [
             0.2,
             "#de77ae"
            ],
            [
             0.3,
             "#f1b6da"
            ],
            [
             0.4,
             "#fde0ef"
            ],
            [
             0.5,
             "#f7f7f7"
            ],
            [
             0.6,
             "#e6f5d0"
            ],
            [
             0.7,
             "#b8e186"
            ],
            [
             0.8,
             "#7fbc41"
            ],
            [
             0.9,
             "#4d9221"
            ],
            [
             1,
             "#276419"
            ]
           ],
           "sequential": [
            [
             0,
             "#0d0887"
            ],
            [
             0.1111111111111111,
             "#46039f"
            ],
            [
             0.2222222222222222,
             "#7201a8"
            ],
            [
             0.3333333333333333,
             "#9c179e"
            ],
            [
             0.4444444444444444,
             "#bd3786"
            ],
            [
             0.5555555555555556,
             "#d8576b"
            ],
            [
             0.6666666666666666,
             "#ed7953"
            ],
            [
             0.7777777777777778,
             "#fb9f3a"
            ],
            [
             0.8888888888888888,
             "#fdca26"
            ],
            [
             1,
             "#f0f921"
            ]
           ],
           "sequentialminus": [
            [
             0,
             "#0d0887"
            ],
            [
             0.1111111111111111,
             "#46039f"
            ],
            [
             0.2222222222222222,
             "#7201a8"
            ],
            [
             0.3333333333333333,
             "#9c179e"
            ],
            [
             0.4444444444444444,
             "#bd3786"
            ],
            [
             0.5555555555555556,
             "#d8576b"
            ],
            [
             0.6666666666666666,
             "#ed7953"
            ],
            [
             0.7777777777777778,
             "#fb9f3a"
            ],
            [
             0.8888888888888888,
             "#fdca26"
            ],
            [
             1,
             "#f0f921"
            ]
           ]
          },
          "colorway": [
           "#636efa",
           "#EF553B",
           "#00cc96",
           "#ab63fa",
           "#FFA15A",
           "#19d3f3",
           "#FF6692",
           "#B6E880",
           "#FF97FF",
           "#FECB52"
          ],
          "font": {
           "color": "#2a3f5f"
          },
          "geo": {
           "bgcolor": "white",
           "lakecolor": "white",
           "landcolor": "#E5ECF6",
           "showlakes": true,
           "showland": true,
           "subunitcolor": "white"
          },
          "hoverlabel": {
           "align": "left"
          },
          "hovermode": "closest",
          "mapbox": {
           "style": "light"
          },
          "paper_bgcolor": "white",
          "plot_bgcolor": "#E5ECF6",
          "polar": {
           "angularaxis": {
            "gridcolor": "white",
            "linecolor": "white",
            "ticks": ""
           },
           "bgcolor": "#E5ECF6",
           "radialaxis": {
            "gridcolor": "white",
            "linecolor": "white",
            "ticks": ""
           }
          },
          "scene": {
           "xaxis": {
            "backgroundcolor": "#E5ECF6",
            "gridcolor": "white",
            "gridwidth": 2,
            "linecolor": "white",
            "showbackground": true,
            "ticks": "",
            "zerolinecolor": "white"
           },
           "yaxis": {
            "backgroundcolor": "#E5ECF6",
            "gridcolor": "white",
            "gridwidth": 2,
            "linecolor": "white",
            "showbackground": true,
            "ticks": "",
            "zerolinecolor": "white"
           },
           "zaxis": {
            "backgroundcolor": "#E5ECF6",
            "gridcolor": "white",
            "gridwidth": 2,
            "linecolor": "white",
            "showbackground": true,
            "ticks": "",
            "zerolinecolor": "white"
           }
          },
          "shapedefaults": {
           "line": {
            "color": "#2a3f5f"
           }
          },
          "ternary": {
           "aaxis": {
            "gridcolor": "white",
            "linecolor": "white",
            "ticks": ""
           },
           "baxis": {
            "gridcolor": "white",
            "linecolor": "white",
            "ticks": ""
           },
           "bgcolor": "#E5ECF6",
           "caxis": {
            "gridcolor": "white",
            "linecolor": "white",
            "ticks": ""
           }
          },
          "title": {
           "x": 0.05
          },
          "xaxis": {
           "automargin": true,
           "gridcolor": "white",
           "linecolor": "white",
           "ticks": "",
           "title": {
            "standoff": 15
           },
           "zerolinecolor": "white",
           "zerolinewidth": 2
          },
          "yaxis": {
           "automargin": true,
           "gridcolor": "white",
           "linecolor": "white",
           "ticks": "",
           "title": {
            "standoff": 15
           },
           "zerolinecolor": "white",
           "zerolinewidth": 2
          }
         }
        },
        "xaxis": {
         "anchor": "y",
         "domain": [
          0,
          1
         ],
         "title": {
          "text": "0"
         }
        },
        "yaxis": {
         "anchor": "x",
         "domain": [
          0,
          1
         ],
         "title": {
          "text": "1"
         }
        }
       }
      }
     },
     "metadata": {},
     "output_type": "display_data"
    },
    {
     "data": {
      "application/vnd.plotly.v1+json": {
       "config": {
        "plotlyServerURL": "https://plot.ly"
       },
       "data": [
        {
         "hovertemplate": "0=%{x}<br>1=%{y}<br>2=%{z}<br>text=%{text}<br>color=%{marker.color}<extra></extra>",
         "legendgroup": "",
         "marker": {
          "color": [
           2,
           2,
           0,
           1,
           5,
           5,
           4,
           0,
           3,
           6,
           2,
           4,
           2,
           2,
           0,
           1,
           5,
           5,
           0,
           0,
           0,
           5,
           4,
           0,
           3,
           6,
           2,
           4,
           2,
           2,
           0,
           1,
           5,
           5,
           0,
           0,
           0,
           5,
           4,
           0,
           3,
           6,
           2,
           4,
           2,
           2,
           0,
           1,
           5,
           5,
           3,
           6,
           2,
           4,
           2,
           2,
           0,
           1,
           5,
           5,
           0,
           0,
           0,
           5,
           4,
           0,
           3,
           6,
           2,
           4,
           2,
           2,
           5,
           1,
           5,
           0,
           5,
           0,
           3,
           6,
           2,
           4,
           2,
           2,
           0,
           1,
           5,
           5,
           0,
           0,
           0,
           5,
           0,
           3,
           6,
           2,
           4,
           2,
           2,
           0,
           1,
           5,
           5,
           5,
           0,
           5,
           4,
           0,
           3,
           6,
           2,
           4,
           2,
           2,
           0,
           1,
           5,
           5,
           5,
           0,
           5,
           4,
           0,
           3,
           6,
           2,
           4,
           2,
           2,
           0,
           1,
           5,
           5,
           5,
           0,
           5,
           4,
           0,
           3,
           6,
           2,
           4
          ],
          "coloraxis": "coloraxis",
          "symbol": "circle"
         },
         "mode": "markers+text",
         "name": "",
         "scene": "scene",
         "showlegend": false,
         "text": [
          0,
          1,
          2,
          3,
          4,
          5,
          6,
          7,
          8,
          9,
          10,
          11,
          12,
          13,
          14,
          15,
          16,
          17,
          18,
          19,
          20,
          21,
          22,
          23,
          24,
          25,
          26,
          27,
          28,
          29,
          30,
          31,
          32,
          33,
          34,
          35,
          36,
          37,
          38,
          39,
          40,
          41,
          42,
          43,
          44,
          45,
          46,
          47,
          48,
          49,
          50,
          51,
          52,
          53,
          54,
          55,
          56,
          57,
          58,
          59,
          60,
          61,
          62,
          63,
          64,
          65,
          66,
          67,
          68,
          69,
          70,
          71,
          72,
          73,
          74,
          75,
          76,
          77,
          78,
          79,
          80,
          81,
          82,
          83,
          84,
          85,
          86,
          87,
          88,
          89,
          90,
          91,
          92,
          93,
          94,
          95,
          96,
          97,
          98,
          99,
          100,
          101,
          102,
          103,
          104,
          105,
          106,
          107,
          108,
          109,
          110,
          111,
          112,
          113,
          114,
          115,
          116,
          117,
          118,
          119,
          120,
          121,
          122,
          123,
          124,
          125,
          126,
          127,
          128,
          129,
          130,
          131,
          132,
          133,
          134,
          135,
          136,
          137,
          138,
          139,
          140,
          141
         ],
         "type": "scatter3d",
         "x": [
          -0.096998535,
          0.1540887,
          0.19160995,
          -0.3038877,
          0.3206317,
          0.24916342,
          0.016201066,
          0.027911952,
          -0.5615239,
          -0.464788,
          0.05213083,
          -0.091649726,
          -0.09825562,
          0.15408868,
          0.12181566,
          -0.30075565,
          0.3525618,
          0.32517412,
          0.22726412,
          0.12118004,
          0.11510233,
          0.27659157,
          -0.09876281,
          0.045707982,
          -0.5615239,
          -0.464788,
          0.041727997,
          -0.14827347,
          -0.09825562,
          0.15408868,
          0.13326249,
          -0.30075565,
          0.3525618,
          0.33152607,
          0.23827145,
          0.12118004,
          0.123139754,
          0.30107024,
          -0.09876281,
          0.05411517,
          -0.5615239,
          -0.464788,
          0.041727997,
          -0.14827347,
          -0.098255694,
          0.15408868,
          0.19834214,
          -0.30075565,
          0.31769595,
          0.26609904,
          -0.5615239,
          -0.464788,
          0.041727997,
          -0.14827347,
          -0.098255694,
          0.15408868,
          0.13038638,
          -0.30075565,
          0.3525618,
          0.32454625,
          0.22252324,
          0.12118004,
          0.12426441,
          0.2921955,
          -0.09876281,
          0.04591376,
          -0.5615239,
          -0.464788,
          0.041727997,
          -0.14827347,
          -0.09825562,
          0.15408868,
          0.23139419,
          -0.3038877,
          0.31693238,
          0.12295044,
          0.31715462,
          0.11075346,
          -0.5615239,
          -0.464788,
          0.041727997,
          -0.091649726,
          -0.09825562,
          0.15408868,
          0.14006038,
          -0.30075565,
          0.3525618,
          0.33353207,
          0.2362029,
          0.12118004,
          0.122098215,
          0.26964113,
          0.026628252,
          -0.56152385,
          -0.464788,
          0.041727997,
          -0.14827347,
          -0.098255694,
          0.15408868,
          0.13676335,
          -0.30075565,
          0.3525618,
          0.32778415,
          0.28838342,
          0.22367248,
          0.3084288,
          -0.09876281,
          0.059182364,
          -0.5615239,
          -0.464788,
          0.041727997,
          -0.14827347,
          -0.098255694,
          0.15408868,
          0.13789827,
          -0.30075565,
          0.3525618,
          0.32778415,
          0.28838342,
          0.22367248,
          0.3084288,
          -0.09876281,
          0.06398369,
          -0.5615239,
          -0.464788,
          0.041727997,
          -0.14827347,
          -0.098255694,
          0.15408868,
          0.1438461,
          -0.30075565,
          0.3525618,
          0.32778412,
          0.28838342,
          0.22367248,
          0.30842873,
          -0.09876279,
          0.06472548,
          -0.56152385,
          -0.46478808,
          0.04172799,
          -0.14827341
         ],
         "y": [
          0.46200815,
          0.17038204,
          -0.11511984,
          -0.1720611,
          -0.18328136,
          -0.19036072,
          0.19438536,
          -0.0599897,
          -0.15647401,
          -0.286102,
          0.52002,
          0.16093265,
          0.4865937,
          0.17038189,
          -0.072870985,
          -0.16575779,
          -0.23625316,
          -0.27781436,
          -0.04005311,
          0.07173493,
          -0.1085202,
          -0.28161728,
          0.10592609,
          -0.048939127,
          -0.15647401,
          -0.286102,
          0.5427913,
          0.18435629,
          0.4865937,
          0.17038189,
          -0.0691682,
          -0.16575779,
          -0.23625316,
          -0.2786068,
          -0.043255612,
          0.07173493,
          -0.08951814,
          -0.2774245,
          0.10592609,
          -0.042824816,
          -0.15647401,
          -0.286102,
          0.5427913,
          0.18435629,
          0.48659357,
          0.17038189,
          -0.0426752,
          -0.16575779,
          -0.21806888,
          -0.13061465,
          -0.15647401,
          -0.286102,
          0.5427913,
          0.18435629,
          0.48659357,
          0.17038189,
          -0.072199434,
          -0.16575779,
          -0.23625316,
          -0.27833855,
          -0.028044425,
          0.07173493,
          -0.10060707,
          -0.27703464,
          0.10592609,
          -0.045461714,
          -0.15647401,
          -0.286102,
          0.5427913,
          0.18435629,
          0.4865937,
          0.17038189,
          -0.14599933,
          -0.1720611,
          -0.23027724,
          -0.04058129,
          -0.2680905,
          -0.079546995,
          -0.15647401,
          -0.286102,
          0.5427913,
          0.16093265,
          0.4865937,
          0.17038189,
          -0.05852561,
          -0.16575779,
          -0.23625316,
          -0.29158917,
          -0.051120065,
          0.071734965,
          -0.07024447,
          -0.227033,
          -0.018680334,
          -0.1564741,
          -0.286102,
          0.5427913,
          0.18435629,
          0.48659357,
          0.17038189,
          -0.055513684,
          -0.16575779,
          -0.23625316,
          -0.28165847,
          -0.12656397,
          -0.06073129,
          -0.18156894,
          0.10592609,
          -0.048548974,
          -0.15647401,
          -0.286102,
          0.5427913,
          0.18435629,
          0.48659357,
          0.17038189,
          -0.052959647,
          -0.16575779,
          -0.23625316,
          -0.28165847,
          -0.12656397,
          -0.06073129,
          -0.18156894,
          0.10592609,
          -0.049062748,
          -0.15647401,
          -0.286102,
          0.5427913,
          0.18435629,
          0.48659357,
          0.17038189,
          -0.054161824,
          -0.16575779,
          -0.23625316,
          -0.28165847,
          -0.12656397,
          -0.06073129,
          -0.18156894,
          0.105926,
          -0.048280433,
          -0.1564741,
          -0.28610215,
          0.54279137,
          0.18435624
         ],
         "z": [
          0.1714594,
          0.31334928,
          0.0047499766,
          0.5977304,
          -0.10120674,
          -0.035381794,
          -0.16268311,
          -0.037468936,
          -0.41942656,
          0.15936258,
          -0.029959928,
          -0.118383795,
          0.16098619,
          0.3133492,
          -0.11879445,
          0.597032,
          -0.04497013,
          0.09292332,
          -0.05796567,
          -0.15284093,
          -0.05123126,
          -0.026516404,
          -0.35010958,
          -0.2107316,
          -0.41942656,
          0.15936258,
          -0.033851113,
          -0.13995415,
          0.16098619,
          0.3133492,
          -0.12140176,
          0.597032,
          -0.04497013,
          0.08789693,
          -0.06853054,
          -0.15284093,
          -0.0846728,
          -0.029031532,
          -0.35010958,
          -0.20357771,
          -0.41942656,
          0.15936258,
          -0.033851113,
          -0.13995415,
          0.16098607,
          0.3133492,
          0.0018860551,
          0.597032,
          -0.077612095,
          -0.08150548,
          -0.41942656,
          0.15936258,
          -0.033851113,
          -0.13995415,
          0.16098607,
          0.3133492,
          -0.11479154,
          0.597032,
          -0.04497013,
          0.0917961,
          -0.057756525,
          -0.15284093,
          -0.07773347,
          -0.020179136,
          -0.35010958,
          -0.20492531,
          -0.41942656,
          0.15936258,
          -0.033851113,
          -0.13995415,
          0.16098619,
          0.3133492,
          -0.0067630187,
          0.5977304,
          -0.060697135,
          -0.14212446,
          -0.030388605,
          -0.061443917,
          -0.41942656,
          0.15936258,
          -0.033851113,
          -0.118383795,
          0.16098619,
          0.3133492,
          -0.12906393,
          0.597032,
          -0.04497013,
          0.088874534,
          -0.05991874,
          -0.15284094,
          -0.030508867,
          -0.103508316,
          -0.230395,
          -0.41942665,
          0.15936261,
          -0.033851113,
          -0.13995415,
          0.16098607,
          0.3133492,
          -0.1147037,
          0.597032,
          -0.04497013,
          0.08980387,
          -0.037172467,
          -0.062077463,
          -0.0018470531,
          -0.35010958,
          -0.20420216,
          -0.41942656,
          0.15936258,
          -0.033851113,
          -0.13995415,
          0.16098607,
          0.3133492,
          -0.10969834,
          0.597032,
          -0.04497013,
          0.08980387,
          -0.037172467,
          -0.062077463,
          -0.0018470531,
          -0.35010958,
          -0.19448625,
          -0.41942656,
          0.15936258,
          -0.033851113,
          -0.13995415,
          0.16098607,
          0.3133492,
          -0.11649867,
          0.597032,
          -0.04497013,
          0.089803874,
          -0.03717246,
          -0.062077455,
          -0.0018470851,
          -0.35010952,
          -0.20322047,
          -0.41942665,
          0.1593627,
          -0.033851027,
          -0.13995412
         ]
        }
       ],
       "layout": {
        "coloraxis": {
         "colorbar": {
          "title": {
           "text": "color"
          }
         },
         "colorscale": [
          [
           0,
           "#0d0887"
          ],
          [
           0.1111111111111111,
           "#46039f"
          ],
          [
           0.2222222222222222,
           "#7201a8"
          ],
          [
           0.3333333333333333,
           "#9c179e"
          ],
          [
           0.4444444444444444,
           "#bd3786"
          ],
          [
           0.5555555555555556,
           "#d8576b"
          ],
          [
           0.6666666666666666,
           "#ed7953"
          ],
          [
           0.7777777777777778,
           "#fb9f3a"
          ],
          [
           0.8888888888888888,
           "#fdca26"
          ],
          [
           1,
           "#f0f921"
          ]
         ]
        },
        "height": 600,
        "legend": {
         "tracegroupgap": 0
        },
        "margin": {
         "t": 60
        },
        "scene": {
         "domain": {
          "x": [
           0,
           1
          ],
          "y": [
           0,
           1
          ]
         },
         "xaxis": {
          "title": {
           "text": "0"
          }
         },
         "yaxis": {
          "title": {
           "text": "1"
          }
         },
         "zaxis": {
          "title": {
           "text": "2"
          }
         }
        },
        "template": {
         "data": {
          "bar": [
           {
            "error_x": {
             "color": "#2a3f5f"
            },
            "error_y": {
             "color": "#2a3f5f"
            },
            "marker": {
             "line": {
              "color": "#E5ECF6",
              "width": 0.5
             },
             "pattern": {
              "fillmode": "overlay",
              "size": 10,
              "solidity": 0.2
             }
            },
            "type": "bar"
           }
          ],
          "barpolar": [
           {
            "marker": {
             "line": {
              "color": "#E5ECF6",
              "width": 0.5
             },
             "pattern": {
              "fillmode": "overlay",
              "size": 10,
              "solidity": 0.2
             }
            },
            "type": "barpolar"
           }
          ],
          "carpet": [
           {
            "aaxis": {
             "endlinecolor": "#2a3f5f",
             "gridcolor": "white",
             "linecolor": "white",
             "minorgridcolor": "white",
             "startlinecolor": "#2a3f5f"
            },
            "baxis": {
             "endlinecolor": "#2a3f5f",
             "gridcolor": "white",
             "linecolor": "white",
             "minorgridcolor": "white",
             "startlinecolor": "#2a3f5f"
            },
            "type": "carpet"
           }
          ],
          "choropleth": [
           {
            "colorbar": {
             "outlinewidth": 0,
             "ticks": ""
            },
            "type": "choropleth"
           }
          ],
          "contour": [
           {
            "colorbar": {
             "outlinewidth": 0,
             "ticks": ""
            },
            "colorscale": [
             [
              0,
              "#0d0887"
             ],
             [
              0.1111111111111111,
              "#46039f"
             ],
             [
              0.2222222222222222,
              "#7201a8"
             ],
             [
              0.3333333333333333,
              "#9c179e"
             ],
             [
              0.4444444444444444,
              "#bd3786"
             ],
             [
              0.5555555555555556,
              "#d8576b"
             ],
             [
              0.6666666666666666,
              "#ed7953"
             ],
             [
              0.7777777777777778,
              "#fb9f3a"
             ],
             [
              0.8888888888888888,
              "#fdca26"
             ],
             [
              1,
              "#f0f921"
             ]
            ],
            "type": "contour"
           }
          ],
          "contourcarpet": [
           {
            "colorbar": {
             "outlinewidth": 0,
             "ticks": ""
            },
            "type": "contourcarpet"
           }
          ],
          "heatmap": [
           {
            "colorbar": {
             "outlinewidth": 0,
             "ticks": ""
            },
            "colorscale": [
             [
              0,
              "#0d0887"
             ],
             [
              0.1111111111111111,
              "#46039f"
             ],
             [
              0.2222222222222222,
              "#7201a8"
             ],
             [
              0.3333333333333333,
              "#9c179e"
             ],
             [
              0.4444444444444444,
              "#bd3786"
             ],
             [
              0.5555555555555556,
              "#d8576b"
             ],
             [
              0.6666666666666666,
              "#ed7953"
             ],
             [
              0.7777777777777778,
              "#fb9f3a"
             ],
             [
              0.8888888888888888,
              "#fdca26"
             ],
             [
              1,
              "#f0f921"
             ]
            ],
            "type": "heatmap"
           }
          ],
          "heatmapgl": [
           {
            "colorbar": {
             "outlinewidth": 0,
             "ticks": ""
            },
            "colorscale": [
             [
              0,
              "#0d0887"
             ],
             [
              0.1111111111111111,
              "#46039f"
             ],
             [
              0.2222222222222222,
              "#7201a8"
             ],
             [
              0.3333333333333333,
              "#9c179e"
             ],
             [
              0.4444444444444444,
              "#bd3786"
             ],
             [
              0.5555555555555556,
              "#d8576b"
             ],
             [
              0.6666666666666666,
              "#ed7953"
             ],
             [
              0.7777777777777778,
              "#fb9f3a"
             ],
             [
              0.8888888888888888,
              "#fdca26"
             ],
             [
              1,
              "#f0f921"
             ]
            ],
            "type": "heatmapgl"
           }
          ],
          "histogram": [
           {
            "marker": {
             "pattern": {
              "fillmode": "overlay",
              "size": 10,
              "solidity": 0.2
             }
            },
            "type": "histogram"
           }
          ],
          "histogram2d": [
           {
            "colorbar": {
             "outlinewidth": 0,
             "ticks": ""
            },
            "colorscale": [
             [
              0,
              "#0d0887"
             ],
             [
              0.1111111111111111,
              "#46039f"
             ],
             [
              0.2222222222222222,
              "#7201a8"
             ],
             [
              0.3333333333333333,
              "#9c179e"
             ],
             [
              0.4444444444444444,
              "#bd3786"
             ],
             [
              0.5555555555555556,
              "#d8576b"
             ],
             [
              0.6666666666666666,
              "#ed7953"
             ],
             [
              0.7777777777777778,
              "#fb9f3a"
             ],
             [
              0.8888888888888888,
              "#fdca26"
             ],
             [
              1,
              "#f0f921"
             ]
            ],
            "type": "histogram2d"
           }
          ],
          "histogram2dcontour": [
           {
            "colorbar": {
             "outlinewidth": 0,
             "ticks": ""
            },
            "colorscale": [
             [
              0,
              "#0d0887"
             ],
             [
              0.1111111111111111,
              "#46039f"
             ],
             [
              0.2222222222222222,
              "#7201a8"
             ],
             [
              0.3333333333333333,
              "#9c179e"
             ],
             [
              0.4444444444444444,
              "#bd3786"
             ],
             [
              0.5555555555555556,
              "#d8576b"
             ],
             [
              0.6666666666666666,
              "#ed7953"
             ],
             [
              0.7777777777777778,
              "#fb9f3a"
             ],
             [
              0.8888888888888888,
              "#fdca26"
             ],
             [
              1,
              "#f0f921"
             ]
            ],
            "type": "histogram2dcontour"
           }
          ],
          "mesh3d": [
           {
            "colorbar": {
             "outlinewidth": 0,
             "ticks": ""
            },
            "type": "mesh3d"
           }
          ],
          "parcoords": [
           {
            "line": {
             "colorbar": {
              "outlinewidth": 0,
              "ticks": ""
             }
            },
            "type": "parcoords"
           }
          ],
          "pie": [
           {
            "automargin": true,
            "type": "pie"
           }
          ],
          "scatter": [
           {
            "fillpattern": {
             "fillmode": "overlay",
             "size": 10,
             "solidity": 0.2
            },
            "type": "scatter"
           }
          ],
          "scatter3d": [
           {
            "line": {
             "colorbar": {
              "outlinewidth": 0,
              "ticks": ""
             }
            },
            "marker": {
             "colorbar": {
              "outlinewidth": 0,
              "ticks": ""
             }
            },
            "type": "scatter3d"
           }
          ],
          "scattercarpet": [
           {
            "marker": {
             "colorbar": {
              "outlinewidth": 0,
              "ticks": ""
             }
            },
            "type": "scattercarpet"
           }
          ],
          "scattergeo": [
           {
            "marker": {
             "colorbar": {
              "outlinewidth": 0,
              "ticks": ""
             }
            },
            "type": "scattergeo"
           }
          ],
          "scattergl": [
           {
            "marker": {
             "colorbar": {
              "outlinewidth": 0,
              "ticks": ""
             }
            },
            "type": "scattergl"
           }
          ],
          "scattermapbox": [
           {
            "marker": {
             "colorbar": {
              "outlinewidth": 0,
              "ticks": ""
             }
            },
            "type": "scattermapbox"
           }
          ],
          "scatterpolar": [
           {
            "marker": {
             "colorbar": {
              "outlinewidth": 0,
              "ticks": ""
             }
            },
            "type": "scatterpolar"
           }
          ],
          "scatterpolargl": [
           {
            "marker": {
             "colorbar": {
              "outlinewidth": 0,
              "ticks": ""
             }
            },
            "type": "scatterpolargl"
           }
          ],
          "scatterternary": [
           {
            "marker": {
             "colorbar": {
              "outlinewidth": 0,
              "ticks": ""
             }
            },
            "type": "scatterternary"
           }
          ],
          "surface": [
           {
            "colorbar": {
             "outlinewidth": 0,
             "ticks": ""
            },
            "colorscale": [
             [
              0,
              "#0d0887"
             ],
             [
              0.1111111111111111,
              "#46039f"
             ],
             [
              0.2222222222222222,
              "#7201a8"
             ],
             [
              0.3333333333333333,
              "#9c179e"
             ],
             [
              0.4444444444444444,
              "#bd3786"
             ],
             [
              0.5555555555555556,
              "#d8576b"
             ],
             [
              0.6666666666666666,
              "#ed7953"
             ],
             [
              0.7777777777777778,
              "#fb9f3a"
             ],
             [
              0.8888888888888888,
              "#fdca26"
             ],
             [
              1,
              "#f0f921"
             ]
            ],
            "type": "surface"
           }
          ],
          "table": [
           {
            "cells": {
             "fill": {
              "color": "#EBF0F8"
             },
             "line": {
              "color": "white"
             }
            },
            "header": {
             "fill": {
              "color": "#C8D4E3"
             },
             "line": {
              "color": "white"
             }
            },
            "type": "table"
           }
          ]
         },
         "layout": {
          "annotationdefaults": {
           "arrowcolor": "#2a3f5f",
           "arrowhead": 0,
           "arrowwidth": 1
          },
          "autotypenumbers": "strict",
          "coloraxis": {
           "colorbar": {
            "outlinewidth": 0,
            "ticks": ""
           }
          },
          "colorscale": {
           "diverging": [
            [
             0,
             "#8e0152"
            ],
            [
             0.1,
             "#c51b7d"
            ],
            [
             0.2,
             "#de77ae"
            ],
            [
             0.3,
             "#f1b6da"
            ],
            [
             0.4,
             "#fde0ef"
            ],
            [
             0.5,
             "#f7f7f7"
            ],
            [
             0.6,
             "#e6f5d0"
            ],
            [
             0.7,
             "#b8e186"
            ],
            [
             0.8,
             "#7fbc41"
            ],
            [
             0.9,
             "#4d9221"
            ],
            [
             1,
             "#276419"
            ]
           ],
           "sequential": [
            [
             0,
             "#0d0887"
            ],
            [
             0.1111111111111111,
             "#46039f"
            ],
            [
             0.2222222222222222,
             "#7201a8"
            ],
            [
             0.3333333333333333,
             "#9c179e"
            ],
            [
             0.4444444444444444,
             "#bd3786"
            ],
            [
             0.5555555555555556,
             "#d8576b"
            ],
            [
             0.6666666666666666,
             "#ed7953"
            ],
            [
             0.7777777777777778,
             "#fb9f3a"
            ],
            [
             0.8888888888888888,
             "#fdca26"
            ],
            [
             1,
             "#f0f921"
            ]
           ],
           "sequentialminus": [
            [
             0,
             "#0d0887"
            ],
            [
             0.1111111111111111,
             "#46039f"
            ],
            [
             0.2222222222222222,
             "#7201a8"
            ],
            [
             0.3333333333333333,
             "#9c179e"
            ],
            [
             0.4444444444444444,
             "#bd3786"
            ],
            [
             0.5555555555555556,
             "#d8576b"
            ],
            [
             0.6666666666666666,
             "#ed7953"
            ],
            [
             0.7777777777777778,
             "#fb9f3a"
            ],
            [
             0.8888888888888888,
             "#fdca26"
            ],
            [
             1,
             "#f0f921"
            ]
           ]
          },
          "colorway": [
           "#636efa",
           "#EF553B",
           "#00cc96",
           "#ab63fa",
           "#FFA15A",
           "#19d3f3",
           "#FF6692",
           "#B6E880",
           "#FF97FF",
           "#FECB52"
          ],
          "font": {
           "color": "#2a3f5f"
          },
          "geo": {
           "bgcolor": "white",
           "lakecolor": "white",
           "landcolor": "#E5ECF6",
           "showlakes": true,
           "showland": true,
           "subunitcolor": "white"
          },
          "hoverlabel": {
           "align": "left"
          },
          "hovermode": "closest",
          "mapbox": {
           "style": "light"
          },
          "paper_bgcolor": "white",
          "plot_bgcolor": "#E5ECF6",
          "polar": {
           "angularaxis": {
            "gridcolor": "white",
            "linecolor": "white",
            "ticks": ""
           },
           "bgcolor": "#E5ECF6",
           "radialaxis": {
            "gridcolor": "white",
            "linecolor": "white",
            "ticks": ""
           }
          },
          "scene": {
           "xaxis": {
            "backgroundcolor": "#E5ECF6",
            "gridcolor": "white",
            "gridwidth": 2,
            "linecolor": "white",
            "showbackground": true,
            "ticks": "",
            "zerolinecolor": "white"
           },
           "yaxis": {
            "backgroundcolor": "#E5ECF6",
            "gridcolor": "white",
            "gridwidth": 2,
            "linecolor": "white",
            "showbackground": true,
            "ticks": "",
            "zerolinecolor": "white"
           },
           "zaxis": {
            "backgroundcolor": "#E5ECF6",
            "gridcolor": "white",
            "gridwidth": 2,
            "linecolor": "white",
            "showbackground": true,
            "ticks": "",
            "zerolinecolor": "white"
           }
          },
          "shapedefaults": {
           "line": {
            "color": "#2a3f5f"
           }
          },
          "ternary": {
           "aaxis": {
            "gridcolor": "white",
            "linecolor": "white",
            "ticks": ""
           },
           "baxis": {
            "gridcolor": "white",
            "linecolor": "white",
            "ticks": ""
           },
           "bgcolor": "#E5ECF6",
           "caxis": {
            "gridcolor": "white",
            "linecolor": "white",
            "ticks": ""
           }
          },
          "title": {
           "x": 0.05
          },
          "xaxis": {
           "automargin": true,
           "gridcolor": "white",
           "linecolor": "white",
           "ticks": "",
           "title": {
            "standoff": 15
           },
           "zerolinecolor": "white",
           "zerolinewidth": 2
          },
          "yaxis": {
           "automargin": true,
           "gridcolor": "white",
           "linecolor": "white",
           "ticks": "",
           "title": {
            "standoff": 15
           },
           "zerolinecolor": "white",
           "zerolinewidth": 2
          }
         }
        }
       }
      }
     },
     "metadata": {},
     "output_type": "display_data"
    }
   ],
   "source": [
    "import plotly.express as px\n",
    "import plotly.graph_objects as go\n",
    "\n",
    "indices = [i for i, c in enumerate(corpus_lemmatized)]\n",
    "\n",
    "# Cria um gráfico de dispersão com os dados de embeddings PCA 2D\n",
    "fig = px.scatter(\n",
    "  pca2_corpus_embeddings,  # Dados de embeddings PCA 2D\n",
    "  x=0,  # Coluna para o eixo x\n",
    "  y=1,  # Coluna para o eixo y\n",
    "  color=labels_2D,  # Coluna para a cor dos pontos\n",
    "  size_max=20,  # Tamanho máximo dos pontos\n",
    "  height=600,  # Altura do gráfico\n",
    "  text=indices  # Texto a ser exibido em cada ponto\n",
    ")\n",
    "\n",
    "# Exibe o gráfico\n",
    "fig.show()\n",
    "\n",
    "fig = px.scatter_3d(\n",
    "  pca3_corpus_embeddings, x=0, y=1, z=2, color=labels_3D,\n",
    "  size_max=40,\n",
    "  height=600,\n",
    "  text=indices)\n",
    "\n",
    "fig.show()\n"
   ]
  },
  {
   "cell_type": "code",
   "execution_count": 19,
   "id": "9a15b990",
   "metadata": {},
   "outputs": [
    {
     "data": {
      "image/png": "[encoded data removed]",
      "text/plain": [
       "<Figure size 800x550 with 2 Axes>"
      ]
     },
     "metadata": {},
     "output_type": "display_data"
    }
   ],
   "source": [
    "import numpy as np\n",
    "corrs = np.inner(corpus_embeddings, corpus_embeddings)\n",
    "\n",
    "g = sns.heatmap(\n",
    "    corrs,\n",
    "    vmin=0,\n",
    "    vmax=1,\n",
    "    xticklabels=indices,\n",
    "    yticklabels=indices,\n",
    "  )"
   ]
  }
 ],
 "metadata": {
  "kernelspec": {
   "display_name": "cmj",
   "language": "python",
   "name": "python3"
  },
  "language_info": {
   "codemirror_mode": {
    "name": "ipython",
    "version": 3
   },
   "file_extension": ".py",
   "mimetype": "text/x-python",
   "name": "python",
   "nbconvert_exporter": "python",
   "pygments_lexer": "ipython3",
   "version": "3.10.12"
  }
 },
 "nbformat": 4,
 "nbformat_minor": 5
}

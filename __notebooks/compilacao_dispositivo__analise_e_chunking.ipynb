{
 "cells": [
  {
   "cell_type": "code",
   "execution_count": 1,
   "id": "d3c90959",
   "metadata": {},
   "outputs": [],
   "source": [
    "import os\n",
    "import re\n",
    "import pymupdf\n",
    "import django_setup\n",
    "from IPython.display import Markdown, display\n",
    "from bs4 import BeautifulSoup as bs\n",
    "\n",
    "from django.conf import settings\n",
    "\n",
    "gemini_api_key = settings.GEMINI_API_KEY"
   ]
  },
  {
   "cell_type": "code",
   "execution_count": 2,
   "id": "098868b5",
   "metadata": {},
   "outputs": [],
   "source": [
    "from sapl.compilacao.models import Dispositivo"
   ]
  },
  {
   "cell_type": "code",
   "execution_count": 10,
   "id": "f062bcb7",
   "metadata": {},
   "outputs": [],
   "source": [
    "count_words = 0\n",
    "chunks = []\n",
    "for d in Dispositivo.objects.filter(\n",
    "    ta_id=2222,\n",
    "    dispositivo_subsequente__isnull=True,\n",
    "    tipo_dispositivo_id__gte=119\n",
    "    ):\n",
    "    if not d.nivel:\n",
    "        continue\n",
    "    chunks.append(bs(d.render_relative_chunk(), 'html.parser').get_text())\n",
    "    count_words += len(chunks[-1].split())\n",
    "    #print(d.id, bs(f'{d.rotulo} {d.texto}', 'html.parser').get_text()) #.prettify())"
   ]
  },
  {
   "cell_type": "code",
   "execution_count": 11,
   "id": "f7295886",
   "metadata": {},
   "outputs": [
    {
     "data": {
      "text/plain": [
       "75022"
      ]
     },
     "execution_count": 11,
     "metadata": {},
     "output_type": "execute_result"
    }
   ],
   "source": [
    "count_words"
   ]
  },
  {
   "cell_type": "code",
   "execution_count": 2,
   "id": "d9c2dda3",
   "metadata": {},
   "outputs": [
    {
     "ename": "NameError",
     "evalue": "name 'chunks' is not defined",
     "output_type": "error",
     "traceback": [
      "\u001b[0;31m---------------------------------------------------------------------------\u001b[0m",
      "\u001b[0;31mNameError\u001b[0m                                 Traceback (most recent call last)",
      "Cell \u001b[0;32mIn[2], line 1\u001b[0m\n\u001b[0;32m----> 1\u001b[0m \u001b[38;5;28;01mfor\u001b[39;00m c \u001b[38;5;129;01min\u001b[39;00m \u001b[43mchunks\u001b[49m[\u001b[38;5;241m0\u001b[39m:\u001b[38;5;241m1\u001b[39m]:\n\u001b[1;32m      2\u001b[0m     \u001b[38;5;28mprint\u001b[39m(c)\n\u001b[1;32m      3\u001b[0m     \u001b[38;5;28mprint\u001b[39m(\u001b[38;5;124m'\u001b[39m\u001b[38;5;124m-\u001b[39m\u001b[38;5;124m'\u001b[39m \u001b[38;5;241m*\u001b[39m \u001b[38;5;241m30\u001b[39m)\n",
      "\u001b[0;31mNameError\u001b[0m: name 'chunks' is not defined"
     ]
    }
   ],
   "source": [
    "for c in chunks[0:1]:\n",
    "    print(c)\n",
    "    print('-' * 30)"
   ]
  }
 ],
 "metadata": {
  "kernelspec": {
   "display_name": "cmj",
   "language": "python",
   "name": "python3"
  },
  "language_info": {
   "codemirror_mode": {
    "name": "ipython",
    "version": 3
   },
   "file_extension": ".py",
   "mimetype": "text/x-python",
   "name": "python",
   "nbconvert_exporter": "python",
   "pygments_lexer": "ipython3",
   "version": "3.10.12"
  }
 },
 "nbformat": 4,
 "nbformat_minor": 5
}

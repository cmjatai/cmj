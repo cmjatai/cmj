{
 "cells": [
  {
   "cell_type": "code",
   "execution_count": 1,
   "id": "d3c90959",
   "metadata": {},
   "outputs": [],
   "source": [
    "import os\n",
    "import re\n",
    "import pymupdf\n",
    "import django_setup\n",
    "from IPython.display import Markdown, display\n",
    "from bs4 import BeautifulSoup as bs\n",
    "from time import sleep\n",
    "from pgvector.django import CosineDistance\n",
    "\n",
    "from django.utils.datastructures import OrderedSet\n",
    "\n",
    "from django.conf import settings\n",
    "from django.contrib.contenttypes.models import ContentType\n",
    "\n",
    "import google.generativeai as genai\n",
    "\n",
    "gemini_api_key = settings.GEMINI_API_KEY"
   ]
  },
  {
   "cell_type": "code",
   "execution_count": 2,
   "id": "098868b5",
   "metadata": {},
   "outputs": [],
   "source": [
    "from cmj.search.models import Embedding\n",
    "from sapl.compilacao.models import Dispositivo\n",
    "from cmj.utils import clean_text"
   ]
  },
  {
   "cell_type": "code",
   "execution_count": 3,
   "id": "f062bcb7",
   "metadata": {},
   "outputs": [],
   "source": [
    "count_words = 0\n",
    "chunks = []\n",
    "for d in Dispositivo.objects.filter(\n",
    "    ta_id=281,\n",
    "    dispositivo_subsequente__isnull=True,\n",
    "    tipo_dispositivo_id__gte=119\n",
    "    ):\n",
    "    if not d.nivel:\n",
    "        continue\n",
    "    relatives_chunks = d.render_relative_chunk(nivel=119)\n",
    "    if relatives_chunks:\n",
    "        ctext = clean_text(bs(relatives_chunks, 'html.parser').get_text())\n",
    "        cw = len(ctext.split())\n",
    "        chunks.append((d, cw, ctext))\n",
    "        count_words += cw\n",
    "    #print(d.id, bs(f'{d.rotulo} {d.texto}', 'html.parser').get_text()) #.prettify())"
   ]
  },
  {
   "cell_type": "code",
   "execution_count": 41,
   "id": "f7295886",
   "metadata": {},
   "outputs": [
    {
     "data": {
      "text/plain": [
       "(983, 57641)"
      ]
     },
     "execution_count": 41,
     "metadata": {},
     "output_type": "execute_result"
    }
   ],
   "source": [
    "len(chunks), count_words"
   ]
  },
  {
   "cell_type": "code",
   "execution_count": 42,
   "id": "d9c2dda3",
   "metadata": {},
   "outputs": [
    {
     "name": "stdout",
     "output_type": "stream",
     "text": [
      "(<Dispositivo: Art. 1º.>, 58, 'Art. 1º. - O Município de Jataí, divisão político-administrativa autônoma do Estado de Goiás e do qual é inseparável, reger-se-á por esta LEI ORGÂNICA e pelas leis que adotar, respeitadas as normas e princípios da Constituição da República e da Constituição do Estado.\\nParágrafo Único - Todo o Poder emana do povo e em seu nome será exercido.')\n",
      "------------------------------\n"
     ]
    }
   ],
   "source": [
    "for c in chunks[0:1]:\n",
    "    print(c)\n",
    "    print('-' * 30)"
   ]
  },
  {
   "cell_type": "code",
   "execution_count": 4,
   "id": "14dab908",
   "metadata": {},
   "outputs": [],
   "source": [
    "genai.configure(api_key=gemini_api_key)\n",
    "\n",
    "for d, cw, text in chunks:\n",
    "\n",
    "    embeds = Embedding.objects.filter(\n",
    "        object_id=d.id,\n",
    "        content_type=ContentType.objects.get_for_model(d)\n",
    "    )\n",
    "\n",
    "    if embeds.exists():\n",
    "        continue\n",
    "\n",
    "    result = genai.embed_content(\n",
    "            model='models/text-embedding-004',\n",
    "            content=text)\n",
    "\n",
    "    embed = result['embedding']\n",
    "\n",
    "    embedding = Embedding()\n",
    "    embedding.embedding = embed\n",
    "    embedding.content_object = d\n",
    "\n",
    "    embedding.metadata = {\n",
    "        'model': 'models/text-embedding-004'\n",
    "    }\n",
    "    embedding.save()\n",
    "\n"
   ]
  },
  {
   "cell_type": "code",
   "execution_count": 5,
   "id": "7d1a1099",
   "metadata": {},
   "outputs": [
    {
     "data": {
      "text/plain": [
       "1774"
      ]
     },
     "execution_count": 5,
     "metadata": {},
     "output_type": "execute_result"
    }
   ],
   "source": [
    "Embedding.objects.count()"
   ]
  },
  {
   "cell_type": "code",
   "execution_count": 6,
   "id": "ad9990cc",
   "metadata": {},
   "outputs": [],
   "source": [
    "def generate_query_embedding(query):\n",
    "    result = genai.embed_content(\n",
    "        model='models/text-embedding-004',\n",
    "        content=query)\n",
    "\n",
    "    return result['embedding']\n",
    "\n",
    "\n",
    "def make_context(query_embedding):\n",
    "    embeddings = Embedding.objects.annotate(\n",
    "            distance=CosineDistance('embedding', query_embedding)\n",
    "        ).order_by('distance')[:20]\n",
    "\n",
    "    dispositivos = []\n",
    "    for embed in embeddings:\n",
    "        d = embed.content_object\n",
    "        parents = d.get_parents_asc()\n",
    "        parents.append(d)\n",
    "\n",
    "        dispositivos.append(parents)\n",
    "\n",
    "    dispositivos = sorted(dispositivos, key=lambda parents: (parents[-1].ta_id, parents[-1].ordem))\n",
    "\n",
    "    dispositivos_filtered = []\n",
    "    for i, parents in enumerate(dispositivos):\n",
    "        if not i:\n",
    "            ultimos_pks = set(map(lambda p: p.pk, parents))\n",
    "            dispositivos_filtered.append(parents)\n",
    "            continue\n",
    "\n",
    "        atual_pks = set(map(lambda p: p.pk, parents))\n",
    "\n",
    "        if ultimos_pks - atual_pks:\n",
    "            dispositivos_filtered.append(parents)\n",
    "            ultimos_pks = atual_pks\n",
    "\n",
    "\n",
    "    context = ''\n",
    "\n",
    "    for parents in dispositivos_filtered:\n",
    "        parents.reverse()\n",
    "        for p in parents:\n",
    "            if p.tipo_dispositivo_id < 120:\n",
    "                break\n",
    "        disp_select = p\n",
    "        text = disp_select.render_relative_chunk()\n",
    "        context += f'{disp_select.ta}\\n{text}\\n\\n'\n",
    "\n",
    "    return context\n",
    "    print(embed.distance)\n",
    "    print(embed.content_object.dispositivo_pai.render_relative_chunk(nivel=119))\n"
   ]
  },
  {
   "cell_type": "code",
   "execution_count": 7,
   "id": "d422e395",
   "metadata": {},
   "outputs": [],
   "source": [
    "def get_model_configured():\n",
    "    generation_config = {\n",
    "      \"temperature\": 0.1,\n",
    "      \"top_p\": 0.95,\n",
    "      \"top_k\": 40,\n",
    "      #\"max_output_tokens\": 8192,\n",
    "      #\"response_mime_type\": \"application/json\",\n",
    "      \"response_mime_type\": \"text/plain\",\n",
    "    }\n",
    "\n",
    "    model = genai.GenerativeModel(\n",
    "      model_name=\"gemini-2.0-flash-exp\",\n",
    "      generation_config=generation_config,\n",
    "    )\n",
    "\n",
    "    return model\n",
    "\n",
    "model = get_model_configured()\n"
   ]
  },
  {
   "cell_type": "code",
   "execution_count": 8,
   "id": "4985bd3a",
   "metadata": {},
   "outputs": [],
   "source": [
    "def make_prompt(query, context):\n",
    "    context = clean_text(bs(context, 'html.parser').get_text())\n",
    "\n",
    "\n",
    "    prompt = (\"\"\"Com base em <CONTEXTO></CONTEXTO> responda a pergunta de <PERGUNTA></PERGUNTA>\n",
    "\n",
    "<CONTEXTO>{context}</CONTEXTO>\n",
    "\n",
    "<PERGUNTA>{query}</PERGUNTA>\n",
    "\n",
    "    \"\"\").format(query=query, context=context)\n",
    "\n",
    "    while '  ' in prompt:\n",
    "        prompt = prompt.replace('  ', ' ')\n",
    "\n",
    "    return prompt"
   ]
  },
  {
   "cell_type": "code",
   "execution_count": 9,
   "id": "926368bb",
   "metadata": {},
   "outputs": [
    {
     "data": {
      "text/markdown": [
       "O texto fornecido não especifica quais conselhos devem ser criados no município. Ele detalha a organização e as competências da Câmara Municipal, suas sessões, comissões e processos legislativos, mas não aborda a criação de conselhos municipais.\n"
      ],
      "text/plain": [
       "<IPython.core.display.Markdown object>"
      ]
     },
     "metadata": {},
     "output_type": "display_data"
    }
   ],
   "source": [
    "query = '''\n",
    "quais conselhos devem ser criados no municipio?\n",
    "'''\n",
    "\n",
    "query_embedding = generate_query_embedding(query)\n",
    "context = make_context(query_embedding)\n",
    "prompt = make_prompt(query, context)\n",
    "answer = model.generate_content(prompt)\n",
    "display(Markdown(answer.text))"
   ]
  },
  {
   "cell_type": "code",
   "execution_count": null,
   "id": "5ec3a460",
   "metadata": {},
   "outputs": [],
   "source": []
  },
  {
   "cell_type": "code",
   "execution_count": 10,
   "id": "317cfb3f",
   "metadata": {},
   "outputs": [
    {
     "name": "stdout",
     "output_type": "stream",
     "text": [
      "Com base em <CONTEXTO></CONTEXTO> responda a pergunta de <PERGUNTA></PERGUNTA>\n",
      "\n",
      "<CONTEXTO>Lei Orgânica do Município nº 1 de 05 de Abril de 1990 -Título II - DA ORGANIZAÇÃO DOS PODERES Capítulo I - DO PODER LEGISLATIVO Seção I - DA CÂMARA MUNICIPAL Art. 13. - A Câmara Municipal reunir-se-á anualmente, em sessão legislativa, dividida em 2 (dois) períodos legislativos, compreendidos entre: 1º de fevereiro e 30 de junho, e 1º de agosto e 20 de dezembro.\n",
      "§ 1º - As reuniões marcadas para essas datas serão transferidas para o primeiro dia útil subseqüente, quando caírem em sábados, domingos ou feriados.\n",
      "§ 2º - A Câmara reunir-se-á em sessões ordinárias, extraordinárias ou solenes, conforme dispuser o Regimento Interno. O número de sessões ordinárias será, no mínimo, de cinco a cada mês.\n",
      "§ 3º - A convocação extraordinária far-se-á:\n",
      "a) - pelo Prefeito, quando entender necessário;\n",
      "b) - pelo Presidente ou a requerimento da maioria dos seus membros, em caso de urgência ou interesse público relevantes;\n",
      "c) - pelo presidente da Câmara para o compromisso e a posse do Prefeito e do Vice-Prefeito;\n",
      "d) - pela comissão representativa da Câmara, conforme previsto no artigo 31, V desta Lei Orgânica;\n",
      "§ 4º - A sessão legislativa extraordinária será convocada, com três dias de antecedência pelo Prefeito, pelo Presidente da Câmara ou pela maioria dos vereadores, em caso de urgência ou interesse público relevante, devendo nela 0 ser tratada somente a matéria que houver motivado a convocação.\n",
      "§ 5º - Havendo conveniência, poderá ser realizada mais de uma sessão ordinária ou extraordinária por dia, bem como, uma e outra no mesmo dia.\n",
      "§ 6º - Na sessão Legislativa extraordinária, a Câmara Municipal somente deliberará sobre a matéria para a qual foi convocada, vedado o pagamento de parcela indenizatória, em razão da convocação.\n",
      "§ 7º - Na hipótese de convocação de sessão extraordinária pelo prefeito, esta deverá contar com a aprovação da maioria absoluta dos vereadores.\n",
      "Lei Orgânica do Município nº 1 de 05 de Abril de 1990 -Título II - DA ORGANIZAÇÃO DOS PODERES Capítulo I - DO PODER LEGISLATIVO Seção I - DA CÂMARA MUNICIPAL Art. 13. - A Câmara Municipal reunir-se-á anualmente, em sessão legislativa, dividida em 2 (dois) períodos legislativos, compreendidos entre: 1º de fevereiro e 30 de junho, e 1º de agosto e 20 de dezembro.\n",
      "§ 1º - As reuniões marcadas para essas datas serão transferidas para o primeiro dia útil subseqüente, quando caírem em sábados, domingos ou feriados.\n",
      "§ 2º - A Câmara reunir-se-á em sessões ordinárias, extraordinárias ou solenes, conforme dispuser o Regimento Interno. O número de sessões ordinárias será, no mínimo, de cinco a cada mês.\n",
      "§ 3º - A convocação extraordinária far-se-á:\n",
      "a) - pelo Prefeito, quando entender necessário;\n",
      "b) - pelo Presidente ou a requerimento da maioria dos seus membros, em caso de urgência ou interesse público relevantes;\n",
      "c) - pelo presidente da Câmara para o compromisso e a posse do Prefeito e do Vice-Prefeito;\n",
      "d) - pela comissão representativa da Câmara, conforme previsto no artigo 31, V desta Lei Orgânica;\n",
      "§ 4º - A sessão legislativa extraordinária será convocada, com três dias de antecedência pelo Prefeito, pelo Presidente da Câmara ou pela maioria dos vereadores, em caso de urgência ou interesse público relevante, devendo nela 0 ser tratada somente a matéria que houver motivado a convocação.\n",
      "§ 5º - Havendo conveniência, poderá ser realizada mais de uma sessão ordinária ou extraordinária por dia, bem como, uma e outra no mesmo dia.\n",
      "§ 6º - Na sessão Legislativa extraordinária, a Câmara Municipal somente deliberará sobre a matéria para a qual foi convocada, vedado o pagamento de parcela indenizatória, em razão da convocação.\n",
      "§ 7º - Na hipótese de convocação de sessão extraordinária pelo prefeito, esta deverá contar com a aprovação da maioria absoluta dos vereadores.\n",
      "Lei Orgânica do Município nº 1 de 05 de Abril de 1990 -Título II - DA ORGANIZAÇÃO DOS PODERES Capítulo I - DO PODER LEGISLATIVO Seção I - DA CÂMARA MUNICIPAL Art. 20. - A Câmara terá comissões permanentes e especiais.\n",
      "§ 1º - Às comissões permanentes, em razão da matéria de sua competência, cabe:\n",
      "I - Discutir e votar projeto de lei que dispensar, na forma do regimento interno, a competência do plenário, salvo se houver recurso de um décimo dos membros da casa..\n",
      "II - realizar audiências públicas com entidades da sociedade civil.\n",
      "III - convocar os secretários municipais, para prestarem informações sobre assuntos inerentes às suas atribuições.\n",
      "IV - receber petições, reclamações, representações ou queixas de qualquer pessoa contra atos ou omissões das autoridades ou entidades públicas.\n",
      "V - solicitar depoimento de qualquer autoridade ou cidadão.\n",
      "VI - exercer, no âmbito de sua competência, a fiscalização dos atos do executivo e da administração indireta.\n",
      "§ 2º - As comissões especiais serão criadas, por deliberação do plenário, para estudo de assunto específico, representação da Câmara em congresso, solenidades e outros atos públicos.\n",
      "§ 3º - Na formação de comissões assegurar-se-á, tanto quanto possível, a representação proporcional dos partidos ou dos blocos parlamentares que participem da Câmara.\n",
      "§ 4º - As comissões parlamentares de inquérito terão poderes de investigação próprios das autoridades judiciais, além de outros previstos no Regimento Interno da Casa e serão criados pela Câmara Municipal, mediante requerimento de um terço de seus membros, para a apuração de fato determinado e por prazo certo, sendo suas conclusões, se for o caso, encaminhadas ao Ministério Público para que promova a responsabilidade dos infratores.\n",
      "Lei Orgânica do Município nº 1 de 05 de Abril de 1990 -Título II - DA ORGANIZAÇÃO DOS PODERES Capítulo I - DO PODER LEGISLATIVO Seção I - DA CÂMARA MUNICIPAL Art. 23. - À Câmara Municipal, observado o disposto nesta Lei Orgânica, compete elaborar seu regimento interno, dispondo sobre sua organização, política e provimento de cargos de seus serviços e, especialmente, sobre:\n",
      "I - instalação e funcionamento;\n",
      "II - posse de seus membros;\n",
      "III - eleição da mesa, sua composição e atribuições;\n",
      "IV - comissões;\n",
      "V - número de reuniões mensais;\n",
      "VI - sessões;\n",
      "VII - deliberações;\n",
      "VIII - destituição de componentes da mesa diretora.\n",
      "Lei Orgânica do Município nº 1 de 05 de Abril de 1990 -Título II - DA ORGANIZAÇÃO DOS PODERES Capítulo I - DO PODER LEGISLATIVO Seção I - DA CÂMARA MUNICIPAL Art. 23. - À Câmara Municipal, observado o disposto nesta Lei Orgânica, compete elaborar seu regimento interno, dispondo sobre sua organização, política e provimento de cargos de seus serviços e, especialmente, sobre:\n",
      "I - instalação e funcionamento;\n",
      "II - posse de seus membros;\n",
      "III - eleição da mesa, sua composição e atribuições;\n",
      "IV - comissões;\n",
      "V - número de reuniões mensais;\n",
      "VI - sessões;\n",
      "VII - deliberações;\n",
      "VIII - destituição de componentes da mesa diretora.\n",
      "Lei Orgânica do Município nº 1 de 05 de Abril de 1990 -Título II - DA ORGANIZAÇÃO DOS PODERES Capítulo I - DO PODER LEGISLATIVO Seção I - DA CÂMARA MUNICIPAL Art. 23. - À Câmara Municipal, observado o disposto nesta Lei Orgânica, compete elaborar seu regimento interno, dispondo sobre sua organização, política e provimento de cargos de seus serviços e, especialmente, sobre:\n",
      "I - instalação e funcionamento;\n",
      "II - posse de seus membros;\n",
      "III - eleição da mesa, sua composição e atribuições;\n",
      "IV - comissões;\n",
      "V - número de reuniões mensais;\n",
      "VI - sessões;\n",
      "VII - deliberações;\n",
      "VIII - destituição de componentes da mesa diretora.\n",
      "Lei Orgânica do Município nº 1 de 05 de Abril de 1990 -Título II - DA ORGANIZAÇÃO DOS PODERES Capítulo I - DO PODER LEGISLATIVO Seção I - DA CÂMARA MUNICIPAL Art. 23. - À Câmara Municipal, observado o disposto nesta Lei Orgânica, compete elaborar seu regimento interno, dispondo sobre sua organização, política e provimento de cargos de seus serviços e, especialmente, sobre:\n",
      "I - instalação e funcionamento;\n",
      "II - posse de seus membros;\n",
      "III - eleição da mesa, sua composição e atribuições;\n",
      "IV - comissões;\n",
      "V - número de reuniões mensais;\n",
      "VI - sessões;\n",
      "VII - deliberações;\n",
      "VIII - destituição de componentes da mesa diretora.\n",
      "Lei Orgânica do Município nº 1 de 05 de Abril de 1990 -Título II - DA ORGANIZAÇÃO DOS PODERES Capítulo I - DO PODER LEGISLATIVO Seção I - DA CÂMARA MUNICIPAL Art. 23. - À Câmara Municipal, observado o disposto nesta Lei Orgânica, compete elaborar seu regimento interno, dispondo sobre sua organização, política e provimento de cargos de seus serviços e, especialmente, sobre:\n",
      "I - instalação e funcionamento;\n",
      "II - posse de seus membros;\n",
      "III - eleição da mesa, sua composição e atribuições;\n",
      "IV - comissões;\n",
      "V - número de reuniões mensais;\n",
      "VI - sessões;\n",
      "VII - deliberações;\n",
      "VIII - destituição de componentes da mesa diretora.\n",
      "Lei Orgânica do Município nº 1 de 05 de Abril de 1990 -Título II - DA ORGANIZAÇÃO DOS PODERES Capítulo I - DO PODER LEGISLATIVO Seção III - DAS ATRIBUIÇÕES DA CÂMARA MUNICIPAL Art. 29. - Com sanção do prefeito, compete à Câmara Municipal elaborar e aprovar as leis municipais, e, em especial:\n",
      "I - instituir tributos municipais, seu lançamento, arrecadação e normatização da receita não tributária;\n",
      "II - autorizar isenções e anistias fiscais e a remissão de dívidas;\n",
      "III - legislar sobre diretrizes orçamentárias, plano plurianual, abertura de créditos\n",
      "suplementares e especiais;\n",
      "IV - deliberar sobre obtenção e concessão de empréstimos e operações de crédito, bem como a forma e os meios de pagamento;\n",
      "V - autorizar a concessão de auxílios e subvenções;\n",
      "VI - autorizar a concessão de serviços públicos;\n",
      "VII - autorizar a alienação de bens imóveis;\n",
      "VIII - autorizara concessão de uso de bens municipais;\n",
      "IX - autorizar a aquisição de bens imóveis, salvo quando se tratar de doação sem encargo;\n",
      "X - criar, transformar e extinguir cargos, empregos e funções públicas e fixar os respectivos vencimentos, inclusive dos serviços da Câmara;\n",
      "XI - criar, estruturar e conferir atribuições a secretários e órgãos da administração pública;\n",
      "XII - aprovar o plano diretor do município;\n",
      "XIII - autorizar convênios com entidades públicas ou particulares e consórcios com outros municípios;\n",
      "XIV - delimitar o perímetro urbano;\n",
      "XV - autorizar a alteração de denominação de próprios, vias e logradouros públicos;\n",
      "XVI - estabelecer normas de urbanismo, particularmente as relativas a zoneamento e loteamento;\n",
      "XVII - dispor sobre feriados municipais, nos termos da legislação federal;\n",
      "XVIII - legislar sobre incentivos à indústria e ao comércio;\n",
      "XIX - dispor sobre o Distrito Industrial do Município.\n",
      "Lei Orgânica do Município nº 1 de 05 de Abril de 1990 -Título III - DA ORGANIZAÇÃO ADMINISTRATIVA MUNICIPAL Capítulo IV -Seção I - DAS OBRAS E SERVIÇOS MUNICIPAIS Art. 98. - O Município poderá realizar obras e serviços de interesse comum, mediante convênio com o Estado, a União, entidades particulares e através de consórcio com outros Municípios.\n",
      "Regimento Interno nº 2 de 04 de Março de 2010 -Título II - DOS ÓRGÃOS DA CÂMARA MUNICIPAL Capítulo II - DAS COMISSÕES Seção II - Das Comissões Permanentes Art. 39. - A composição das Comissões Permanentes será feita de comum acordo com os Vereadores, entregue por eles ao Presidente da Mesa em forma de Projeto de Resolução, indicando os três (03) membros de cada Comissão, que será submetido ao plenário para aprovação, com os votos favoráveis da maioria absoluta dos vereadores que compõem a Câmara Municipal.\n",
      "§ 1º - Não havendo consenso na composição das Comissões na forma do caput, o Presidente convidará os Vereadores dos partidos para apresentarem os nomes que comporão as Comissões a fim de que os mesmos sejam submetidos ao Plenário, em votação aberta, única e simbólica, sendo aprovados os que obtiverem a maioria dos votos.\n",
      "§ 2º - É obrigatória a participação do Vereador em pelo menos uma comissão permanente.\n",
      "§ 3º - Na hipótese do § 1°, ocorrendo empate, deverá ser realizada nova votação, sendo que os vereadores deverão votar, dentre os nomes em situação de empate, qual será o integrante da comissão em disputa.\n",
      "§ 4º - No caso da concordância expressa da maioria absoluta, consubstanciada por meio de aceitação de convocação prévia pelo Presidente da Mesa Diretora, poderá o procedimento previsto no § 1° ser realizado em reunião específica antes da 1ª Sessão Ordinária entre os vereadores na Sala da Presidência.\n",
      "Regimento Interno nº 2 de 04 de Março de 2010 -Título II - DOS ÓRGÃOS DA CÂMARA MUNICIPAL Capítulo II - DAS COMISSÕES Seção III - Das Comissões Temporárias Art. 48. - Comissões Especiais são aquelas que se destinam à elaboração e apreciação de estudos de problemas municipais e à tomada de posição da Câmara em outros assuntos de reconhecida relevância.\n",
      "§ 1º - As Comissões Especiais serão constituídas mediante apresentação de requerimentos subscritos por, no mínimo, 1/3 (um terço) dos membros da Câmara.\n",
      "§ 2º - O requerimento propondo a constituição de Comissão Especial deverá indicar, necessariamente:\n",
      "a) - a finalidade, devidamente fundamentada;\n",
      "b) - o número de membros;\n",
      "c) - o prazo de funcionamento.\n",
      "§ 3º - Recebido e aprovado o requerimento, ao Presidente da Câmara caberá indicar, por meio de despacho a ser exarado nos autos do respectivo processo e ouvidas as lideranças de bancada, os vereadores que comporão a Comissão Especial, assegurando-se, tanto quanto possível, a representação proporcional partidária.\n",
      "§ 4º - Concluídos seus trabalhos, o Presidente da Comissão Especial, escolhido livremente entre seus membros, apresentará relatório ao Presidente da Câmara que cientificará ao Plenário dos resultados, inclusive dos congressos ou dos eventos similares.\n",
      "Regimento Interno nº 2 de 04 de Março de 2010 -Título V - DAS PROPOSIÇÕES Capítulo II - DOS PROJETOS Art. 81. - Projeto de lei é a proposição que tem por fim regular toda matéria de competência do Município e sujeita à sanção do Prefeito.\n",
      "§ 1º - A iniciativa dos projetos de lei será:\n",
      "I - do Vereador;\n",
      "II - da Mesa Diretora;\n",
      "III - de Comissão da Câmara;\n",
      "IV - do Prefeito;\n",
      "V - de 5% (cinco por cento) do eleitorado do Município.\n",
      "Regimento Interno nº 2 de 04 de Março de 2010 -Título V - DAS PROPOSIÇÕES Capítulo II - DOS PROJETOS Art. 86. - Projeto de Resolução é a proposição destinada a regular assuntos de economia interna da Câmara Municipal, de natureza político-administrativa, e versará sobre a sua administração, a Mesa Diretora e os Vereadores.\n",
      "§ 1º - Constitui matéria de projeto de Resolução:\n",
      "a) - perda de mandato de Vereador;\n",
      "b) - destituição da Mesa ou de qualquer dos seus membros;\n",
      "c) - elaboração e reforma do Regimento Interno;\n",
      "d) - concessão de licença a Vereador;\n",
      "e) - constituição de Comissão Especial de Inquérito, quando o fato referir-se a assunto de economia interna;\n",
      "f) - constituições de comissões especiais;\n",
      "g) - organização dos serviços administrativos, criação, transformação e extinção de cargos, empregos ou funções da Câmara Municipal, bem como fixação da respectiva remuneração;\n",
      "h) - demais atos de sua economia interna.\n",
      "§ 2º - Os projetos de Resolução a que se referem as alíneas e, f, g, e h, do parágrafo anterior, são de iniciativa reservada da Mesa Diretora.\n",
      "§ 3º - Respeitado o disposto no parágrafo anterior, a iniciativa dos projetos de Resolução poderá ser da Mesa Diretora, das Comissões e dos Vereadores.\n",
      "</CONTEXTO>\n",
      "\n",
      "<PERGUNTA>\n",
      "quais conselhos devem ser criados no municipio?\n",
      "</PERGUNTA>\n",
      "\n",
      " \n"
     ]
    }
   ],
   "source": [
    "print(prompt)"
   ]
  },
  {
   "cell_type": "code",
   "execution_count": null,
   "id": "2c633f39",
   "metadata": {},
   "outputs": [],
   "source": []
  }
 ],
 "metadata": {
  "kernelspec": {
   "display_name": "cmj",
   "language": "python",
   "name": "python3"
  },
  "language_info": {
   "codemirror_mode": {
    "name": "ipython",
    "version": 3
   },
   "file_extension": ".py",
   "mimetype": "text/x-python",
   "name": "python",
   "nbconvert_exporter": "python",
   "pygments_lexer": "ipython3",
   "version": "3.10.12"
  }
 },
 "nbformat": 4,
 "nbformat_minor": 5
}

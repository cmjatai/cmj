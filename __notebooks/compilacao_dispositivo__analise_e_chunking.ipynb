{
 "cells": [
  {
   "cell_type": "code",
   "execution_count": 1,
   "id": "d3c90959",
   "metadata": {},
   "outputs": [],
   "source": [
    "import os\n",
    "import re\n",
    "import pymupdf\n",
    "import django_setup\n",
    "from IPython.display import Markdown, display\n",
    "from bs4 import BeautifulSoup as bs\n",
    "\n",
    "from django.conf import settings\n",
    "\n",
    "gemini_api_key = settings.GEMINI_API_KEY"
   ]
  },
  {
   "cell_type": "code",
   "execution_count": 2,
   "id": "098868b5",
   "metadata": {},
   "outputs": [],
   "source": [
    "from sapl.compilacao.models import Dispositivo"
   ]
  },
  {
   "cell_type": "code",
   "execution_count": 3,
   "id": "f062bcb7",
   "metadata": {},
   "outputs": [
    {
     "name": "stderr",
     "output_type": "stream",
     "text": [
      "WARNING 2025-01-16 19:59:58,256 py.warnings:_showwarnmsg:109 /tmp/ipykernel_25896/2559035337.py:12: MarkupResemblesLocatorWarning: The input looks more like a filename than markup. You may want to open this file and pass the filehandle into Beautiful Soup.\n",
      "  chunks.append((d, bs(relatives_chunks, 'html.parser').get_text()))\n",
      "\n"
     ]
    }
   ],
   "source": [
    "count_words = 0\n",
    "chunks = []\n",
    "for d in Dispositivo.objects.filter(\n",
    "    ta_id=2222,\n",
    "    dispositivo_subsequente__isnull=True,\n",
    "    tipo_dispositivo_id__gte=119\n",
    "    ):\n",
    "    if not d.nivel:\n",
    "        continue\n",
    "    relatives_chunks = d.render_relative_chunk(nivel=119)\n",
    "    if relatives_chunks:\n",
    "        chunks.append((d, bs(relatives_chunks, 'html.parser').get_text()))\n",
    "        count_words += len(chunks[-1][-1].split())\n",
    "    #print(d.id, bs(f'{d.rotulo} {d.texto}', 'html.parser').get_text()) #.prettify())"
   ]
  },
  {
   "cell_type": "code",
   "execution_count": 4,
   "id": "f7295886",
   "metadata": {},
   "outputs": [
    {
     "data": {
      "text/plain": [
       "46924"
      ]
     },
     "execution_count": 4,
     "metadata": {},
     "output_type": "execute_result"
    }
   ],
   "source": [
    "count_words"
   ]
  },
  {
   "cell_type": "code",
   "execution_count": 5,
   "id": "d9c2dda3",
   "metadata": {},
   "outputs": [
    {
     "name": "stdout",
     "output_type": "stream",
     "text": [
      "(<Dispositivo: Art. 1º.>, 'Art. 1º. - A Câmara é o órgão Legislativo do Município e tem sede própria denominada Edifício Eufrásio Pereira Rocha, localizado no \"PALÁCIO DAS ABELHAS\", situado na Praça da Bandeira, 96 - Centro.\\n§ 1º - Na sede da Câmara não se realizarão atos estranhos à sua função, salvo por deliberação do Plenário ou concessão da Mesa Diretora.\\n§ 2º - Havendo motivo relevante, ou de força maior, a Câmara Municipal poderá, por deliberação da Mesa, ad referendum da maioria absoluta dos Vereadores, reunir-se em outro local.\\n§ 3º - Nenhum objeto pertencente ao Poder Legislativo Municipal poderá ser retirado de seu recinto a título de empréstimo, salvo por deliberação plenária.')\n",
      "------------------------------\n",
      "(<Dispositivo: § 1º>, 'Art. 1º. - A Câmara é o órgão Legislativo do Município e tem sede própria denominada Edifício Eufrásio Pereira Rocha, localizado no \"PALÁCIO DAS ABELHAS\", situado na Praça da Bandeira, 96 - Centro.\\n§ 1º - Na sede da Câmara não se realizarão atos estranhos à sua função, salvo por deliberação do Plenário ou concessão da Mesa Diretora.')\n",
      "------------------------------\n",
      "(<Dispositivo: § 2º>, 'Art. 1º. - A Câmara é o órgão Legislativo do Município e tem sede própria denominada Edifício Eufrásio Pereira Rocha, localizado no \"PALÁCIO DAS ABELHAS\", situado na Praça da Bandeira, 96 - Centro.\\n§ 2º - Havendo motivo relevante, ou de força maior, a Câmara Municipal poderá, por deliberação da Mesa, ad referendum da maioria absoluta dos Vereadores, reunir-se em outro local.')\n",
      "------------------------------\n",
      "(<Dispositivo: § 3º>, 'Art. 1º. - A Câmara é o órgão Legislativo do Município e tem sede própria denominada Edifício Eufrásio Pereira Rocha, localizado no \"PALÁCIO DAS ABELHAS\", situado na Praça da Bandeira, 96 - Centro.\\n§ 3º - Nenhum objeto pertencente ao Poder Legislativo Municipal poderá ser retirado de seu recinto a título de empréstimo, salvo por deliberação plenária.')\n",
      "------------------------------\n",
      "(<Dispositivo: Art. 2º.>, 'Art. 2º. - A Câmara tem funções legislativas, atribuições para fiscalizar o Poder Executivo e competência para organizar e praticar os atos de sua administração interna.')\n",
      "------------------------------\n",
      "(<Dispositivo: Art. 3º.>, 'Art. 3º. - O policiamento no recinto da Câmara será feito pelo Serviço de Segurança da Casa ou por integrantes de corporação civil ou militar, se requisitados para manutenção da ordem interna.')\n",
      "------------------------------\n",
      "(<Dispositivo: Art. 4º.>, 'Art. 4º. - A legislatura é dividida em 4 (quatro) sessões legislativas. Cada sessão legislativa é dividida em 2 (dois) períodos legislativos, compreendidos entre: 1º de fevereiro e 30 de junho, e 1º agosto e 20 de dezembro.')\n",
      "------------------------------\n",
      "(<Dispositivo: Art. 5º.>, 'Art. 5º. - O horário da Sessão Solene de instalação da legislatura que ocorrerá juntamente com a posse do prefeito e do vice-prefeito, a ser realizada no dia 1° de janeiro do ano subsequente ao da eleição, será definido conjuntamente pelo vereador mais votado e o prefeito eleito.\\n§ 1º - Os Vereadores eleitos, após apresentarem os respectivos diplomas expedidos pela Justiça Eleitoral e suas declarações de bens, que serão arquivadas em pastas próprias, serão empossados pelo Presidente dos trabalhos, fazendo acompanhamento à leitura do compromisso nos seguintes termos:\\n\"Prometo exercer com dedicação e lealdade o meu mandato, cumprindo e fazendo cumprir a Constituição da República, a Constituição Estadual, a Lei Orgânica do Município e a legislação em vigor, defendendo a justiça social, a paz e a igualdade de tratamento a todos os cidadãos, exercendo com patriotismo, honestidade e espírito público o mandato que me foi conferido\".\\n\\n§ 2º - Ato contínuo, feita a chamada, cada Vereador, de pé, a ratificará dizendo: \"Assim o prometo\", permanecendo os demais Vereadores sentados.\\n§ 3º - O Presidente convidará o Prefeito e o Vice-Prefeito eleitos e diplomados, a prestarem o seguinte juramento:\\n\"Prometo manter, defender e cumprir a Constituição Federal, a Constituição Estadual, a Lei Orgânica do Município, observar as leis, promover o bem geral, sustentando a integridade e o desenvolvimento e exercer o cargo sob a inspiração da Democracia, da Legitimidade e da Legalidade.\"\\n\\n§ 4º - O compromisso se completa com a assinatura no Livro de Termo de Posse.\\n§ 5º - Enquanto não ocorrer a posse do Prefeito, assumirá o cargo o Vice-Prefeito e, na falta ou impedimento deste, o Presidente da Câmara.\\n§ 6º - A Sessão Solene de instalação e posse será presidida e secretariada pelos vereadores mais votados dentre os presentes, sendo o primeiro mais votado o presidente e o segundo, o secretário.')\n",
      "------------------------------\n",
      "(<Dispositivo: § 1º>, 'Art. 5º. - O horário da Sessão Solene de instalação da legislatura que ocorrerá juntamente com a posse do prefeito e do vice-prefeito, a ser realizada no dia 1° de janeiro do ano subsequente ao da eleição, será definido conjuntamente pelo vereador mais votado e o prefeito eleito.\\n§ 1º - Os Vereadores eleitos, após apresentarem os respectivos diplomas expedidos pela Justiça Eleitoral e suas declarações de bens, que serão arquivadas em pastas próprias, serão empossados pelo Presidente dos trabalhos, fazendo acompanhamento à leitura do compromisso nos seguintes termos:\\n\"Prometo exercer com dedicação e lealdade o meu mandato, cumprindo e fazendo cumprir a Constituição da República, a Constituição Estadual, a Lei Orgânica do Município e a legislação em vigor, defendendo a justiça social, a paz e a igualdade de tratamento a todos os cidadãos, exercendo com patriotismo, honestidade e espírito público o mandato que me foi conferido\".\\n')\n",
      "------------------------------\n",
      "(<Dispositivo: § 2º>, 'Art. 5º. - O horário da Sessão Solene de instalação da legislatura que ocorrerá juntamente com a posse do prefeito e do vice-prefeito, a ser realizada no dia 1° de janeiro do ano subsequente ao da eleição, será definido conjuntamente pelo vereador mais votado e o prefeito eleito.\\n§ 2º - Ato contínuo, feita a chamada, cada Vereador, de pé, a ratificará dizendo: \"Assim o prometo\", permanecendo os demais Vereadores sentados.')\n",
      "------------------------------\n"
     ]
    }
   ],
   "source": [
    "for c in chunks[0:10]:\n",
    "    print(c)\n",
    "    print('-' * 30)"
   ]
  },
  {
   "cell_type": "code",
   "execution_count": null,
   "id": "14dab908",
   "metadata": {},
   "outputs": [],
   "source": []
  },
  {
   "cell_type": "code",
   "execution_count": null,
   "id": "2de45c3b",
   "metadata": {},
   "outputs": [],
   "source": []
  }
 ],
 "metadata": {
  "kernelspec": {
   "display_name": "cmj",
   "language": "python",
   "name": "python3"
  },
  "language_info": {
   "codemirror_mode": {
    "name": "ipython",
    "version": 3
   },
   "file_extension": ".py",
   "mimetype": "text/x-python",
   "name": "python",
   "nbconvert_exporter": "python",
   "pygments_lexer": "ipython3",
   "version": "3.10.12"
  }
 },
 "nbformat": 4,
 "nbformat_minor": 5
}

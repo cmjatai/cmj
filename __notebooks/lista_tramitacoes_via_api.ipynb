{
 "cells": [
  {
   "cell_type": "code",
   "execution_count": 1,
   "id": "d3c90959",
   "metadata": {},
   "outputs": [],
   "source": [
    "import json\n",
    "import csv\n",
    "import random\n",
    "\n",
    "import urllib3\n",
    "from urllib3.util.timeout import Timeout\n",
    "\n",
    "timeout = Timeout(connect=2.0, read=120.0)\n",
    "http = urllib3.PoolManager(timeout=timeout)\n"
   ]
  },
  {
   "cell_type": "code",
   "execution_count": 2,
   "id": "3295bdf4",
   "metadata": {},
   "outputs": [],
   "source": [
    "def get_data(uri, endpoint, params=None):\n",
    "    \"\"\"\n",
    "    Get data from the Jatai API.\n",
    "    :param endpoint: The API endpoint to query.\n",
    "    :param params: Optional parameters to include in the request.\n",
    "    :return: The response data as a dictionary.\n",
    "    \"\"\"\n",
    "    if params:\n",
    "        if isinstance(params, dict):\n",
    "            params = '&'.join(f'{k}={v}' for k, v in params.items())\n",
    "        else:\n",
    "            params = str(params)\n",
    "        endpoint += '?' + params\n",
    "\n",
    "    # Randomize the user agent to avoid being blocked\n",
    "    user_agent = random.choice([\n",
    "        'Mozilla/5.0 (Windows NT 10.0; Win64; x64) AppleWebKit/537.36 (KHTML, like Gecko) Chrome/58.0.3029.110 Safari/537.3',\n",
    "        'Mozilla/5.0 (Macintosh; Intel Mac OS X 10_15_7) AppleWebKit/605.1.15 (KHTML, like Gecko) Version/14.0.1 Safari/605.1.15',\n",
    "        'Mozilla/5.0 (Linux; Android 10; SM-G973F) AppleWebKit/537.36 (KHTML, like Gecko) Chrome/80.0.3987.132 Mobile Safari/537.36'\n",
    "    ])\n",
    "    headers = {\n",
    "        'User-Agent': user_agent,\n",
    "        'Accept': 'application/json',\n",
    "        'Content-Type': 'application/json'\n",
    "    }\n",
    "    response = http.request('GET', uri.format(endpoint=endpoint), headers=headers)\n",
    "    if response.status != 200:\n",
    "        raise Exception(f\"Error {response.status}: {response.data.decode('utf-8')}\")\n",
    "    return json.loads(response.data.decode('utf-8'))"
   ]
  },
  {
   "cell_type": "code",
   "execution_count": 3,
   "id": "0b4c6624",
   "metadata": {},
   "outputs": [],
   "source": [
    "\n",
    "def get_csv_tramitacoes(uri, endpoint, data_ini, data_fim):\n",
    "    params = {\n",
    "        'data_tramitacao__range': f'{data_ini},{data_fim}',\n",
    "        'get_all': 'true',\n",
    "        'o': 'materia__ano,materia__tipo,materia__numero',\n",
    "    }\n",
    "\n",
    "    results = get_data(uri, endpoint, params)\n",
    "    results = sorted(results, key=lambda x: (x['materia'], -x['id']))\n",
    "\n",
    "    db = {\n",
    "        'statustramitacao': {},\n",
    "        'unidadetramitacao': {},\n",
    "        'materialegislativa': {}\n",
    "    }\n",
    "\n",
    "    map_field_model = {\n",
    "        'status': 'statustramitacao',\n",
    "        'unidade_tramitacao_local': 'unidadetramitacao',\n",
    "        'unidade_tramitacao_destino': 'unidadetramitacao',\n",
    "        'materia': 'materialegislativa'\n",
    "    }\n",
    "\n",
    "    for r in results:\n",
    "        for field, model in map_field_model.items():\n",
    "            if r[field] not in db[model]:\n",
    "                db[model][r[field]] = get_data(uri, f'/api/materia/{model}/{r[field]}/')\n",
    "\n",
    "    with open('tramitacoes.csv', 'w', newline='', encoding='utf-8') as cf:\n",
    "        # Create a CSV writer object\n",
    "        writer = csv.writer(cf, delimiter=';', quotechar='\"', quoting=csv.QUOTE_NONNUMERIC)\n",
    "        # Write the header row\n",
    "        writer.writerow(['Data da Tramitação', 'Matéria', 'Unidade de Tramitação Local', 'Unidade de Tramitação Destino', 'Status', 'Texto'])\n",
    "        # Write the data rows\n",
    "        for r in results:\n",
    "            # Write the data row\n",
    "            writer.writerow([\n",
    "                r['data_tramitacao'],\n",
    "                db['materialegislativa'][r['materia']]['__str__'],\n",
    "                db['unidadetramitacao'][r['unidade_tramitacao_local']]['__str__'],\n",
    "                db['unidadetramitacao'][r['unidade_tramitacao_destino']]['__str__'],\n",
    "                db['statustramitacao'][r['status']]['__str__'],\n",
    "                r['texto']\n",
    "           ])"
   ]
  },
  {
   "cell_type": "code",
   "execution_count": 5,
   "id": "0c3e6773",
   "metadata": {},
   "outputs": [],
   "source": [
    "uri = 'https://www.jatai.go.leg.br{endpoint}'\n",
    "\n",
    "get_csv_tramitacoes(uri, '/api/materia/tramitacao/', '2025-05-01', '2025-05-31')"
   ]
  },
  {
   "cell_type": "code",
   "execution_count": null,
   "id": "38fdbd83",
   "metadata": {},
   "outputs": [],
   "source": []
  }
 ],
 "metadata": {
  "kernelspec": {
   "display_name": "cmj",
   "language": "python",
   "name": "python3"
  },
  "language_info": {
   "codemirror_mode": {
    "name": "ipython",
    "version": 3
   },
   "file_extension": ".py",
   "mimetype": "text/x-python",
   "name": "python",
   "nbconvert_exporter": "python",
   "pygments_lexer": "ipython3",
   "version": "3.10.12"
  }
 },
 "nbformat": 4,
 "nbformat_minor": 5
}

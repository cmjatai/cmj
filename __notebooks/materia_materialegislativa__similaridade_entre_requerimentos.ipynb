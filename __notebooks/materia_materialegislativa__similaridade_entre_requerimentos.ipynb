{
 "cells": [
  {
   "cell_type": "code",
   "execution_count": 1,
   "id": "d3c90959",
   "metadata": {},
   "outputs": [],
   "source": [
    "import os\n",
    "import re\n",
    "import pymupdf\n",
    "import django_setup\n",
    "from IPython.display import Markdown, display\n",
    "from bs4 import BeautifulSoup as bs\n",
    "\n",
    "from django.conf import settings\n",
    "\n",
    "from cmj.utils import clean_text\n",
    "\n",
    "gemini_api_key = settings.GEMINI_API_KEY"
   ]
  },
  {
   "cell_type": "code",
   "execution_count": null,
   "id": "3dc03c68",
   "metadata": {},
   "outputs": [],
   "source": [
    "import google.generativeai as genai\n",
    "genai.configure(api_key=gemini_api_key)\n"
   ]
  },
  {
   "cell_type": "code",
   "execution_count": null,
   "id": "d484b876",
   "metadata": {},
   "outputs": [],
   "source": [
    "def get_model_configured():\n",
    "    generation_config = {\n",
    "      \"temperature\": 0.1,\n",
    "      \"top_p\": 0.95,\n",
    "      \"top_k\": 40,\n",
    "      #\"max_output_tokens\": 8192,\n",
    "      \"response_mime_type\": \"text/plain\",\n",
    "    }\n",
    "\n",
    "    model = genai.GenerativeModel(\n",
    "      model_name=\"gemini-2.0-flash-exp\",\n",
    "      #model_name=\"gemini-2.5-pro-exp-03-25\",\n",
    "      #model_name=\"gemini-2.5-flash-preview-04-17\",\n",
    "      generation_config=generation_config,\n",
    "    )\n",
    "\n",
    "    return model\n",
    "\n",
    "model = get_model_configured()\n"
   ]
  },
  {
   "cell_type": "code",
   "execution_count": null,
   "id": "5c032a17",
   "metadata": {},
   "outputs": [],
   "source": [
    "def make_prompt(num_prompt, original, analisado, o_epigrafe, a_epigrafe):\n",
    "\n",
    "    prompt0 = f\"\"\"\n",
    "Assuma a personalidade de um especialista em produção de textos legislativos em uma câmara municipal,\n",
    "com experiência em redação de documentos oficiais. Sua tarefa é analisar dois textos\n",
    "que são pedidos de providências feitos por vereadores e identificar se eles estão pedindo o mesmo benefício.\n",
    "Os textos podem ter diferenças de redação, mas você deve se concentrar no conteúdo e na intenção dos pedidos.\n",
    "Para tal tarefa, compare o conteúdo de <ORIGINAL></ORIGINAL> com o conteúdo de <ANALISADO></ANALISADO>.\n",
    "Para citar estes dois conteúdos, nomeie eles respectivamente da seguinte maneira:\n",
    "\"{o_epigrafe}\" e \"{a_epigrafe}\".\n",
    "Remova de sua análise os autores pois são irrelevantes para a comparação requerida.\n",
    "O importante é o que está sendo pedido, quem será o beneficiário do pedido e para qual localidade\n",
    "está sendo feito tal pedido.\n",
    "Não faça considerações adicionais e ou mesmo conclusão extra. Neste contexto responda:\n",
    "\n",
    "- Os textos estão pedindo o mesmo benefício para a mesma localidade?\n",
    "- Descreva de forma sucinta e direta o que está sendo pedido em <ORIGINAL></ORIGINAL> e <ANALISADO></ANALISADO> informando também os beneficiários e as localidades citadas.\n",
    "- Calcule a semelhança percentual entre os documentos desconsiderando autores, focando na solicitação e no beneficiário, qual semelhança percentual entre <ORIGINAL></ORIGINAL> e <ANALISADO></ANALISADO>? Coloque o resultado em percentual com uma marcação fácil de ser extraída via regex \"\\[\\[ \\d{1,3}% \\]\\]\".\n",
    "- formate a resposta em MARKDOWN, utilizando linguagem dissertativa com os títulos e subtítulos necessários para facilitar a leitura, utilizando negrito e itálico quando necessário\n",
    "- Não utilize a palavra \"plágio\" em sua resposta, se necessário expressar tal sentido, utilize a palavra \"similaridade\".\n",
    "\n",
    "<ORIGINAL>{original}</ORIGINAL>\n",
    "\n",
    "<ANALISADO>{analisado}</ANALISADO>\n",
    "    \"\"\"\n",
    "\n",
    "    prompt1 = f\"\"\"    Compare o conteúdo de <ORIGINAL></ORIGINAL>, ao qual será chamado daqui em diante de \"T.O.\", com o conteúdo de <ANALISADO></ANALISADO>, ao qual será chamado daqui em diante de \"T.A.\", e escreva em formato MARKDOWN respondendo as perguntas numeradas que estão em <PERGUNTAS></PERGUNTAS>.\n",
    "\n",
    "<PERGUNTAS>\n",
    "    1) \"T.O.\" e \"T.A.\" fazem solicitações a seus destinatários? Quais são essas solicitações? E qual o beneficiário de cada uma das solicitações?\n",
    "    2) Desconsiderando autores e destinatários, focando na solicitação e no beneficiário, qual grau de semelhança, de zero a um, poderia ser atribuído entre \"T.O.\" e \"T.A.\"?\n",
    "</PERGUNTAS>\n",
    "\n",
    "<ORIGINAL>{original}</ORIGINAL>\n",
    "\n",
    "<ANALISADO>{analisado}</ANALISADO>\n",
    "    \"\"\"\n",
    "\n",
    "    prompt2 = f\"\"\"    Assuma a personalidade de um especialista em plágio de documentos. É muito importante que em sua resposta nunca seja usada a palavra \"plágio\", em vez disso, se necessário, utilize a palavra similaridade.\n",
    "    Compare o conteúdo de <ORIGINAL></ORIGINAL>, ao qual será chamado daqui em diante de \"T.O.\", com o conteúdo de <ANALISADO></ANALISADO>, ao qual será chamado daqui em diante de \"T.A.\" e escreva em formato MARKDOWN respondendo as perguntas numeradas que estão em <PERGUNTAS></PERGUNTAS>. Seja Conciso.\n",
    "\n",
    "<PERGUNTAS>\n",
    "    1) Existe semelhança temática entre \"T.O.\" e \"T.A.\"? Quais são estas semelhanças? É o mesmo tema (frize)?\n",
    "    2) Existe semelhança nas solicitações feita em \"T.O.\" e \"T.A.\"? Quais são estas semelhanças?\n",
    "    3) A solicitações feitas é uma melhoria para algum lugar, seja esse lugar um logradouro público, um bairro, um prédio comercial, um prédio público, ou ainda instituições públicas e/ou privadas. Que lugar é este? É o mesmo lugar?\n",
    "    4) Alguma consideração a fazer quanto a similaridade entre \"T.O.\" e \"T.A.\"?\n",
    "    5) Desconsiderando autores e destinatários, focando na solicitação e no beneficiário, qual grau de semelhança, de zero a um, poderia ser atribuído entre \"T.O.\" e \"T.A.\"?\n",
    "</PERGUNTAS>\n",
    "\n",
    "<ORIGINAL>{original}</ORIGINAL>\n",
    "\n",
    "<ANALISADO>{analisado}</ANALISADO>\n",
    "    \"\"\"\n",
    "\n",
    "    prompts = [prompt0, prompt1, prompt2]\n",
    "\n",
    "    prompt = prompts[num_prompt]\n",
    "    while '  ' in prompt:\n",
    "        prompt = prompt.replace('  ', ' ')\n",
    "\n",
    "    return prompt\n"
   ]
  },
  {
   "cell_type": "code",
   "execution_count": null,
   "id": "57525ee8",
   "metadata": {},
   "outputs": [],
   "source": [
    "from sapl.materia.models import MateriaLegislativa\n",
    "\n",
    "originais = MateriaLegislativa.objects.filter(numero=370, tipo_id=3, ano=2025).order_by('id')\n",
    "analisadas = MateriaLegislativa.objects.filter(numero=46, tipo_id=3, ano=2025).order_by('id')\n",
    "\n",
    "fez_um_doc = False\n",
    "for original in originais:\n",
    "    for analisada in analisadas:\n",
    "        if original == analisada:\n",
    "            continue\n",
    "\n",
    "        if not set(original.autores.all()) - set(analisada.autores.all()):\n",
    "            continue\n",
    "\n",
    "        fez_um_doc = True\n",
    "\n",
    "        print(original, '≃', analisada)\n",
    "\n",
    "        doc_original = pymupdf.open(original.texto_original.path)\n",
    "        text_original = ' '.join([page.get_text() for page in doc_original])\n",
    "        text_original = clean_text(text_original)\n",
    "\n",
    "        doc_analisada = pymupdf.open(analisada.texto_original.path)\n",
    "        text_analisada = ' '.join([page.get_text() for page in doc_analisada])\n",
    "        text_analisada = clean_text(text_analisada)\n",
    "\n",
    "        prompt = make_prompt(0, text_original, text_analisada, original.epigrafe_short, analisada.epigrafe_short)\n",
    "\n",
    "        answer = model.generate_content(prompt)\n",
    "        display(Markdown(answer.text))\n",
    "\n",
    "        if fez_um_doc:\n",
    "            break\n",
    "\n",
    "    if fez_um_doc:\n",
    "        break\n"
   ]
  },
  {
   "cell_type": "code",
   "execution_count": 6,
   "id": "d58a65b7",
   "metadata": {},
   "outputs": [],
   "source": [
    "from sapl.materia.models import MateriaLegislativa\n",
    "\n",
    "requerimentos = MateriaLegislativa.objects.filter(\n",
    "    tipo_id=3, ano=2025, similaridades__isnull=True\n",
    ").prefetch_related('autores', 'assuntos'\n",
    "                   ).order_by('-id').distinct()\n"
   ]
  },
  {
   "cell_type": "code",
   "execution_count": null,
   "id": "51edb870",
   "metadata": {},
   "outputs": [],
   "source": [
    "# cria uma lista de tuplas contendo o id do requerimento, uma tumpla com os ids dos autores e uma tupla com os ids dos assuntos\n",
    "requerimentos_ids = []\n",
    "for requerimento in requerimentos:\n",
    "    requerimentos_ids.append(\n",
    "        (requerimento.id, tuple(requerimento.autores.values_list('id', flat=True)),\n",
    "         tuple(requerimento.assuntos.values_list('id', flat=True)))\n",
    "    )\n",
    "\n",
    "# ordena a lista pela quantidade de assuntos\n",
    "requerimentos_ids = sorted(requerimentos_ids, key=lambda x: (len(x[2]), len(x[1])), reverse=True)\n",
    "\n",
    "# ordena internamente cada tupla e assuntos\n",
    "for i, r in enumerate(requerimentos_ids):\n",
    "    requerimentos_ids[i] = (r[0], tuple(sorted(r[1])), tuple(sorted(r[2])))\n",
    "\n",
    "# cria uma lista dois a dois de todos os requerimentos com todos menos com ele mesmo, e se o autor for o mesmo\n",
    "requerimentos_comparacao = {}\n",
    "for i, r1 in enumerate(requerimentos_ids):\n",
    "    for j, r2 in enumerate(requerimentos_ids):\n",
    "        if i == j:\n",
    "            continue\n",
    "        if r1[1] == r2[1]:\n",
    "            continue\n",
    "        if len(r1[1]) >=5 or len(r2[1]) >= 5:\n",
    "            continue\n",
    "        set1 = set(r1[2])\n",
    "        set2 = set(r2[2])\n",
    "        intersection = set1.intersection(set2)\n",
    "        requerimentos_comparacao[(r1[0], r2[0])] = tuple(intersection)\n",
    "\n",
    "# remove os requerimentos que possuem chave invertida\n",
    "# ou seja, dado (a, b), remove (b, a)\n",
    "\n",
    "requerimentos_comparados = {}\n",
    "for k, v in requerimentos_comparacao.items():\n",
    "    if (k[1], k[0]) in requerimentos_comparados:\n",
    "        continue\n",
    "    requerimentos_comparados[k] = v\n",
    "\n",
    "\n",
    "# ordena a comparação pela quantidade de elementos na interseção\n",
    "requerimentos_comparados = sorted(requerimentos_comparados.items(), key=lambda x: len(x[1]), reverse=True)\n",
    "print(len(requerimentos_ids), len(requerimentos_comparados))"
   ]
  },
  {
   "cell_type": "code",
   "execution_count": null,
   "id": "d06b8f1f",
   "metadata": {},
   "outputs": [],
   "source": [
    "for r in requerimentos_comparados[:100]:\n",
    "    print(r)"
   ]
  },
  {
   "cell_type": "code",
   "execution_count": null,
   "id": "2b627242",
   "metadata": {},
   "outputs": [],
   "source": [
    "def get_requerimento_in_requerimentos_comparados(r):\n",
    "    items = []\n",
    "    for i, r1 in enumerate(requerimentos_comparados):\n",
    "        if r in r1[0]:\n",
    "            items.append(r1)\n",
    "    return items\n",
    "\n",
    "aparicoes = get_requerimento_in_requerimentos_comparados(21536)\n"
   ]
  },
  {
   "cell_type": "code",
   "execution_count": null,
   "id": "3c2131f1",
   "metadata": {},
   "outputs": [],
   "source": [
    "list(aparicoes)"
   ]
  },
  {
   "cell_type": "code",
   "execution_count": 2,
   "id": "7e6d20e0",
   "metadata": {},
   "outputs": [],
   "source": [
    "from sapl.base.tasks import task_analise_similaridade_entre_materias_function\n",
    "from sapl.materia.models import AnaliseSimilaridade\n",
    "\n",
    "task_analise_similaridade_entre_materias_function()\n",
    "\n"
   ]
  },
  {
   "cell_type": "code",
   "execution_count": 3,
   "id": "55b204b3",
   "metadata": {},
   "outputs": [
    {
     "name": "stdout",
     "output_type": "stream",
     "text": [
      "Matéria 1: Requerimento nº 62 de 2025 - Matéria 2: Requerimento nº 28 de 2025 - Similaridade: 60 6\n",
      "Matéria 1: Requerimento nº 62 de 2025 - Matéria 2: Requerimento nº 131 de 2025 - Similaridade: 60 6\n",
      "Matéria 1: Requerimento nº 62 de 2025 - Matéria 2: Requerimento nº 71 de 2025 - Similaridade: 0 6\n",
      "Matéria 1: Requerimento nº 62 de 2025 - Matéria 2: Requerimento nº 265 de 2025 - Similaridade: 0 6\n",
      "Matéria 1: Requerimento nº 62 de 2025 - Matéria 2: Requerimento nº 138 de 2025 - Similaridade: 0 6\n",
      "Matéria 1: Requerimento nº 62 de 2025 - Matéria 2: Requerimento nº 215 de 2025 - Similaridade: 0 6\n",
      "Matéria 1: Requerimento nº 112 de 2025 - Matéria 2: Requerimento nº 141 de 2025 - Similaridade: 0 7\n",
      "Matéria 1: Requerimento nº 112 de 2025 - Matéria 2: Requerimento nº 272 de 2025 - Similaridade: 0 8\n",
      "Matéria 1: Requerimento nº 62 de 2025 - Matéria 2: Requerimento nº 120 de 2025 - Similaridade: 0 6\n"
     ]
    }
   ],
   "source": [
    "\n",
    "analises = AnaliseSimilaridade.objects.filter(\n",
    "    similaridade__gt=-1\n",
    "    ).order_by('-similaridade')\n",
    "\n",
    "for analise in analises:\n",
    "    print(analise, analise.qtd_assuntos_comuns)\n",
    "    #display(Markdown(analise.analise))\n",
    "    #break"
   ]
  },
  {
   "cell_type": "code",
   "execution_count": 3,
   "id": "69b8bc22",
   "metadata": {},
   "outputs": [],
   "source": [
    "from sapl.parlamentares.models import Legislatura\n",
    "\n",
    "\n",
    "legislatura_atual = Legislatura.cache_legislatura_atual()"
   ]
  },
  {
   "cell_type": "code",
   "execution_count": 4,
   "id": "37771854",
   "metadata": {},
   "outputs": [
    {
     "data": {
      "text/plain": [
       "{'id': 21,\n",
       " 'numero': 21,\n",
       " 'data_inicio': datetime.date(2025, 1, 1),\n",
       " 'data_fim': datetime.date(2028, 12, 31),\n",
       " 'data_eleicao': datetime.date(2024, 10, 6)}"
      ]
     },
     "execution_count": 4,
     "metadata": {},
     "output_type": "execute_result"
    }
   ],
   "source": [
    "legislatura_atual"
   ]
  },
  {
   "cell_type": "code",
   "execution_count": 8,
   "id": "28fe2719",
   "metadata": {},
   "outputs": [],
   "source": [
    "requerimentos = MateriaLegislativa.objects.filter(\n",
    "            tipo_id=3, ano__gte=legislatura_atual['data_inicio'].year, ano__lte=legislatura_atual['data_fim'].year\n",
    "        ).prefetch_related('autores', 'assuntos'\n",
    "                        ).order_by('-id').distinct()"
   ]
  },
  {
   "cell_type": "code",
   "execution_count": 9,
   "id": "51a4e13a",
   "metadata": {},
   "outputs": [
    {
     "data": {
      "text/plain": [
       "277"
      ]
     },
     "execution_count": 9,
     "metadata": {},
     "output_type": "execute_result"
    }
   ],
   "source": [
    "requerimentos.count()"
   ]
  },
  {
   "cell_type": "code",
   "execution_count": null,
   "id": "e9aaeb88",
   "metadata": {},
   "outputs": [],
   "source": []
  }
 ],
 "metadata": {
  "kernelspec": {
   "display_name": "cmj",
   "language": "python",
   "name": "python3"
  },
  "language_info": {
   "codemirror_mode": {
    "name": "ipython",
    "version": 3
   },
   "file_extension": ".py",
   "mimetype": "text/x-python",
   "name": "python",
   "nbconvert_exporter": "python",
   "pygments_lexer": "ipython3",
   "version": "3.11.0rc1"
  }
 },
 "nbformat": 4,
 "nbformat_minor": 5
}

{
 "cells": [
  {
   "cell_type": "code",
   "execution_count": 2,
   "id": "d3c90959",
   "metadata": {},
   "outputs": [],
   "source": [
    "import os\n",
    "import re\n",
    "import pymupdf\n",
    "import django_setup\n",
    "from IPython.display import Markdown, display\n",
    "from bs4 import BeautifulSoup as bs\n",
    "\n",
    "from django.conf import settings\n",
    "\n",
    "from cmj.utils import clean_text\n",
    "\n",
    "gemini_api_key = settings.GEMINI_API_KEY"
   ]
  },
  {
   "cell_type": "code",
   "execution_count": 3,
   "id": "3dc03c68",
   "metadata": {},
   "outputs": [],
   "source": [
    "import google.generativeai as genai\n",
    "genai.configure(api_key=gemini_api_key)\n"
   ]
  },
  {
   "cell_type": "code",
   "execution_count": 4,
   "id": "d484b876",
   "metadata": {},
   "outputs": [],
   "source": [
    "def get_model_configured():\n",
    "    generation_config = {\n",
    "      \"temperature\": 0.1,\n",
    "      \"top_p\": 0.95,\n",
    "      \"top_k\": 40,\n",
    "      #\"max_output_tokens\": 8192,\n",
    "      \"response_mime_type\": \"text/plain\",\n",
    "    }\n",
    "\n",
    "    model = genai.GenerativeModel(\n",
    "      model_name=\"gemini-2.0-flash-exp\",\n",
    "      #model_name=\"gemini-2.5-pro-exp-03-25\",\n",
    "      #model_name=\"gemini-2.5-flash-preview-04-17\",\n",
    "      generation_config=generation_config,\n",
    "    )\n",
    "\n",
    "    return model\n",
    "\n",
    "model = get_model_configured()\n"
   ]
  },
  {
   "cell_type": "code",
   "execution_count": 5,
   "id": "5c032a17",
   "metadata": {},
   "outputs": [],
   "source": [
    "def make_prompt(num_prompt, original, analisado, o_epigrafe, a_epigrafe):\n",
    "\n",
    "    prompt0 = f\"\"\"\n",
    "Assuma a personalidade de um especialista em produção de textos legislativos em uma câmara municipal,\n",
    "com experiência em redação de documentos oficiais. Sua tarefa é analisar dois textos\n",
    "que são pedidos de providências feitos por vereadores e identificar se eles estão pedindo o mesmo benefício.\n",
    "Os textos podem ter diferenças de redação, mas você deve se concentrar no conteúdo e na intenção dos pedidos.\n",
    "Para tal tarefa, compare o conteúdo de <ORIGINAL></ORIGINAL> com o conteúdo de <ANALISADO></ANALISADO>.\n",
    "Para citar estes dois conteúdos, nomeie eles respectivamente da seguinte maneira:\n",
    "\"{o_epigrafe}\" e \"{a_epigrafe}\".\n",
    "Remova de sua análise os autores pois são irrelevantes para a comparação requerida.\n",
    "O importante é o que está sendo pedido, quem será o beneficiário do pedido e para qual localidade\n",
    "está sendo feito tal pedido.\n",
    "Não faça considerações adicionais e ou mesmo conclusão extra. Neste contexto responda:\n",
    "\n",
    "- Os textos estão pedindo o mesmo benefício para a mesma localidade?\n",
    "- Descreva de forma sucinta e direta o que está sendo pedido em <ORIGINAL></ORIGINAL> e <ANALISADO></ANALISADO> informando também os beneficiários e as localidades citadas.\n",
    "- Calcule a semelhança percentual entre os documentos desconsiderando autores, focando na solicitação e no beneficiário, qual semelhança percentual entre <ORIGINAL></ORIGINAL> e <ANALISADO></ANALISADO>? Coloque o resultado em percentual com uma marcação fácil de ser extraída via regex \"\\[\\[ \\d{1,3}% \\]\\]\".\n",
    "- formate a resposta em MARKDOWN, utilizando linguagem dissertativa com os títulos e subtítulos necessários para facilitar a leitura, utilizando negrito e itálico quando necessário\n",
    "- Não utilize a palavra \"plágio\" em sua resposta, se necessário expressar tal sentido, utilize a palavra \"similaridade\".\n",
    "\n",
    "<ORIGINAL>{original}</ORIGINAL>\n",
    "\n",
    "<ANALISADO>{analisado}</ANALISADO>\n",
    "    \"\"\"\n",
    "\n",
    "    prompt1 = f\"\"\"    Compare o conteúdo de <ORIGINAL></ORIGINAL>, ao qual será chamado daqui em diante de \"T.O.\", com o conteúdo de <ANALISADO></ANALISADO>, ao qual será chamado daqui em diante de \"T.A.\", e escreva em formato MARKDOWN respondendo as perguntas numeradas que estão em <PERGUNTAS></PERGUNTAS>.\n",
    "\n",
    "<PERGUNTAS>\n",
    "    1) \"T.O.\" e \"T.A.\" fazem solicitações a seus destinatários? Quais são essas solicitações? E qual o beneficiário de cada uma das solicitações?\n",
    "    2) Desconsiderando autores e destinatários, focando na solicitação e no beneficiário, qual grau de semelhança, de zero a um, poderia ser atribuído entre \"T.O.\" e \"T.A.\"?\n",
    "</PERGUNTAS>\n",
    "\n",
    "<ORIGINAL>{original}</ORIGINAL>\n",
    "\n",
    "<ANALISADO>{analisado}</ANALISADO>\n",
    "    \"\"\"\n",
    "\n",
    "    prompt2 = f\"\"\"    Assuma a personalidade de um especialista em plágio de documentos. É muito importante que em sua resposta nunca seja usada a palavra \"plágio\", em vez disso, se necessário, utilize a palavra similaridade.\n",
    "    Compare o conteúdo de <ORIGINAL></ORIGINAL>, ao qual será chamado daqui em diante de \"T.O.\", com o conteúdo de <ANALISADO></ANALISADO>, ao qual será chamado daqui em diante de \"T.A.\" e escreva em formato MARKDOWN respondendo as perguntas numeradas que estão em <PERGUNTAS></PERGUNTAS>. Seja Conciso.\n",
    "\n",
    "<PERGUNTAS>\n",
    "    1) Existe semelhança temática entre \"T.O.\" e \"T.A.\"? Quais são estas semelhanças? É o mesmo tema (frize)?\n",
    "    2) Existe semelhança nas solicitações feita em \"T.O.\" e \"T.A.\"? Quais são estas semelhanças?\n",
    "    3) A solicitações feitas é uma melhoria para algum lugar, seja esse lugar um logradouro público, um bairro, um prédio comercial, um prédio público, ou ainda instituições públicas e/ou privadas. Que lugar é este? É o mesmo lugar?\n",
    "    4) Alguma consideração a fazer quanto a similaridade entre \"T.O.\" e \"T.A.\"?\n",
    "    5) Desconsiderando autores e destinatários, focando na solicitação e no beneficiário, qual grau de semelhança, de zero a um, poderia ser atribuído entre \"T.O.\" e \"T.A.\"?\n",
    "</PERGUNTAS>\n",
    "\n",
    "<ORIGINAL>{original}</ORIGINAL>\n",
    "\n",
    "<ANALISADO>{analisado}</ANALISADO>\n",
    "    \"\"\"\n",
    "\n",
    "    prompts = [prompt0, prompt1, prompt2]\n",
    "\n",
    "    prompt = prompts[num_prompt]\n",
    "    while '  ' in prompt:\n",
    "        prompt = prompt.replace('  ', ' ')\n",
    "\n",
    "    return prompt\n"
   ]
  },
  {
   "cell_type": "code",
   "execution_count": null,
   "id": "57525ee8",
   "metadata": {},
   "outputs": [],
   "source": [
    "from sapl.materia.models import MateriaLegislativa\n",
    "\n",
    "originais = MateriaLegislativa.objects.filter(numero=322, tipo_id=3, ano=2025).order_by('id')\n",
    "analisadas = MateriaLegislativa.objects.filter(numero=252, tipo_id=3, ano=2025).order_by('id')\n",
    "\n",
    "fez_um_doc = False\n",
    "for original in originais:\n",
    "    for analisada in analisadas:\n",
    "        if original == analisada:\n",
    "            continue\n",
    "\n",
    "        if not set(original.autores.all()) - set(analisada.autores.all()):\n",
    "            continue\n",
    "\n",
    "        fez_um_doc = True\n",
    "\n",
    "        print(original, '≃', analisada)\n",
    "\n",
    "        doc_original = pymupdf.open(original.texto_original.original_path)\n",
    "        text_original = ' '.join([page.get_text() for page in doc_original])\n",
    "        text_original = clean_text(text_original)\n",
    "\n",
    "        doc_analisada = pymupdf.open(analisada.texto_original.original_path)\n",
    "        text_analisada = ' '.join([page.get_text() for page in doc_analisada])\n",
    "        text_analisada = clean_text(text_analisada)\n",
    "\n",
    "        prompt = make_prompt(0, text_original, text_analisada, original.epigrafe_short, analisada.epigrafe_short)\n",
    "\n",
    "        answer = model.generate_content(prompt)\n",
    "        display(Markdown(answer.text))\n",
    "\n",
    "        if fez_um_doc:\n",
    "            break\n",
    "\n",
    "    if fez_um_doc:\n",
    "        break\n"
   ]
  },
  {
   "cell_type": "code",
   "execution_count": 6,
   "id": "7e6d20e0",
   "metadata": {},
   "outputs": [
    {
     "data": {
      "text/plain": [
       "915"
      ]
     },
     "execution_count": 6,
     "metadata": {},
     "output_type": "execute_result"
    }
   ],
   "source": [
    "from sapl.base.tasks import task_analise_similaridade_entre_materias_function\n",
    "from sapl.materia.models import AnaliseSimilaridade\n",
    "#task_analise_similaridade_entre_materias_function()\n",
    "\n",
    "AnaliseSimilaridade.objects.filter(similaridade__gt=0).count()\n",
    "\n"
   ]
  },
  {
   "cell_type": "code",
   "execution_count": 8,
   "id": "55b204b3",
   "metadata": {},
   "outputs": [
    {
     "name": "stdout",
     "output_type": "stream",
     "text": [
      "21861 21817 5 95 Matéria 1: Requerimento nº 300 de 2025 - Matéria 2: Requerimento nº 275 de 2025 - Similaridade: 95\n",
      "21802 21623 4 90 Matéria 1: Requerimento nº 261 de 2025 - Matéria 2: Requerimento nº 129 de 2025 - Similaridade: 90\n",
      "21880 21941 4 90 Matéria 1: Requerimento nº 317 de 2025 - Matéria 2: Requerimento nº 357 de 2025 - Similaridade: 90\n",
      "21991 21630 4 85 Matéria 1: Requerimento nº 389 de 2025 - Matéria 2: Requerimento nº 135 de 2025 - Similaridade: 85\n",
      "21537 21501 6 75 Matéria 1: Requerimento nº 62 de 2025 - Matéria 2: Requerimento nº 28 de 2025 - Similaridade: 75\n"
     ]
    }
   ],
   "source": [
    "\n",
    "analises = AnaliseSimilaridade.objects.filter(\n",
    "    similaridade__gt=0\n",
    "    ).order_by('-similaridade')\n",
    "\n",
    "for analise in analises[:5]:\n",
    "    print(analise.materia_1_id, analise.materia_2_id, analise.qtd_assuntos_comuns, analise.similaridade, analise, )\n",
    "    #display(Markdown(analise.analise))\n",
    "    #break"
   ]
  },
  {
   "cell_type": "code",
   "execution_count": 7,
   "id": "3588a44a",
   "metadata": {},
   "outputs": [
    {
     "data": {
      "text/plain": [
       "410"
      ]
     },
     "execution_count": 7,
     "metadata": {},
     "output_type": "execute_result"
    }
   ],
   "source": [
    "from datetime import timedelta\n",
    "from sapl.materia.models import AnaliseSimilaridade\n",
    "\n",
    "from django.utils import timezone\n",
    "hoje = timezone.now()\n",
    "AnaliseSimilaridade.objects.filter(\n",
    "        similaridade__gt=-1,\n",
    "        qtd_assuntos_comuns__gt=0,\n",
    "        data_analise__gte=(hoje-timedelta(days=1)),\n",
    "    ).count()"
   ]
  },
  {
   "cell_type": "code",
   "execution_count": null,
   "id": "f5b7c4dd",
   "metadata": {},
   "outputs": [],
   "source": [
    "Video"
   ]
  }
 ],
 "metadata": {
  "kernelspec": {
   "display_name": "cmj",
   "language": "python",
   "name": "python3"
  },
  "language_info": {
   "codemirror_mode": {
    "name": "ipython",
    "version": 3
   },
   "file_extension": ".py",
   "mimetype": "text/x-python",
   "name": "python",
   "nbconvert_exporter": "python",
   "pygments_lexer": "ipython3",
   "version": "3.11.0rc1"
  }
 },
 "nbformat": 4,
 "nbformat_minor": 5
}

{
 "cells": [
  {
   "cell_type": "code",
   "execution_count": 16,
   "id": "d3c90959",
   "metadata": {},
   "outputs": [],
   "source": [
    "import os\n",
    "import re\n",
    "import pymupdf\n",
    "import django_setup\n",
    "from IPython.display import Markdown, display\n",
    "from bs4 import BeautifulSoup as bs\n",
    "\n",
    "from django.conf import settings\n",
    "\n",
    "from cmj.utils import clean_text\n",
    "\n",
    "gemini_api_key = settings.GEMINI_API_KEY"
   ]
  },
  {
   "cell_type": "code",
   "execution_count": 17,
   "id": "3dc03c68",
   "metadata": {},
   "outputs": [],
   "source": [
    "import google.generativeai as genai\n",
    "genai.configure(api_key=gemini_api_key)\n"
   ]
  },
  {
   "cell_type": "code",
   "execution_count": 18,
   "id": "d484b876",
   "metadata": {},
   "outputs": [],
   "source": [
    "def get_model_configured():\n",
    "    generation_config = {\n",
    "      \"temperature\": 0.1,\n",
    "      \"top_p\": 0.95,\n",
    "      \"top_k\": 40,\n",
    "      #\"max_output_tokens\": 8192,\n",
    "      \"response_mime_type\": \"text/plain\",\n",
    "    }\n",
    "\n",
    "    model = genai.GenerativeModel(\n",
    "      model_name=\"gemini-2.0-flash-exp\",\n",
    "      generation_config=generation_config,\n",
    "    )\n",
    "\n",
    "    return model\n",
    "\n",
    "model = get_model_configured()\n"
   ]
  },
  {
   "cell_type": "code",
   "execution_count": 81,
   "id": "5c032a17",
   "metadata": {},
   "outputs": [],
   "source": [
    "def make_prompt(original, analisado, o_epigrafe, a_epigrafe):\n",
    "\n",
    "\n",
    "    prompt = f\"\"\"    Assuma a personalidade de um especialista em Gestão Pública Municipal com mais de 10 anos de conhecimento teórico e atividade prática. Você é um agente do poder executivo municipal que está recebendo dois requerimentos de vereadores. Seu papel é comparar o conteúdo de <ORIGINAL></ORIGINAL> com o conteúdo de <ANALISADO></ANALISADO>. Para citar estes dois conteúdos, nomeie eles respectivamente da seguinte maneira: \"{o_epigrafe}\" e \"{a_epigrafe}\". Remova de sua análise os autores e os destinatários pois são irrelevantes para a comparação requerida. O importante é o que está sendo pedido, quem será o beneficiário do pedido e para qual localidade está sendo feito tal pedido. Não faça considerações adicionais e ou mesmo conclusão extra. Neste contexto responda:\n",
    "\n",
    "    - Os textos estão pedindo o mesmo benefício para a mesma localidade? Descreva de forma sucinta e direta o que está sendo pedido em <ORIGINAL></ORIGINAL> e <ANALISADO></ANALISADO> informando também os beneficiários e as localidades citadas.\n",
    "    - Calcule a semelhança percentual entre Desconside autores e destinatários, focando na solicitação e no beneficiário, qual semelhança percentual entre <ORIGINAL></ORIGINAL> e <ANALISADO></ANALISADO>?\n",
    "\n",
    "\n",
    "<ORIGINAL>{original}</ORIGINAL>\n",
    "\n",
    "<ANALISADO>{analisado}</ANALISADO>\n",
    "    \"\"\"\n",
    "\n",
    "    prompt2 = f\"\"\"    Compare o conteúdo de <ORIGINAL></ORIGINAL>, ao qual será chamado daqui em diante de \"T.O.\", com o conteúdo de <ANALISADO></ANALISADO>, ao qual será chamado daqui em diante de \"T.A.\", e escreva em formato MARKDOWN respondendo as perguntas numeradas que estão em <PERGUNTAS></PERGUNTAS>.\n",
    "\n",
    "<PERGUNTAS>\n",
    "    1) \"T.O.\" e \"T.A.\" fazem solicitações a seus destinatários? Quais são essas solicitações? E qual o beneficiário de cada uma das solicitações?\n",
    "    2) Desconsiderando autores e destinatários, focando na solicitação e no beneficiário, qual grau de semelhança, de zero a um, poderia ser atribuído entre \"T.O.\" e \"T.A.\"?\n",
    "</PERGUNTAS>\n",
    "\n",
    "<ORIGINAL>{original}</ORIGINAL>\n",
    "\n",
    "<ANALISADO>{analisado}</ANALISADO>\n",
    "    \"\"\"\n",
    "\n",
    "    prompt1 = f\"\"\"    Assuma a personalidade de um especialista em plágio de documentos. É muito importante que em sua resposta nunca seja usada a palavra \"plágio\", em vez disso, se necessário, utilize a palavra similaridade.\n",
    "    Compare o conteúdo de <ORIGINAL></ORIGINAL>, ao qual será chamado daqui em diante de \"T.O.\", com o conteúdo de <ANALISADO></ANALISADO>, ao qual será chamado daqui em diante de \"T.A.\" e escreva em formato MARKDOWN respondendo as perguntas numeradas que estão em <PERGUNTAS></PERGUNTAS>. Seja Conciso.\n",
    "\n",
    "<PERGUNTAS>\n",
    "    1) Existe semelhança temática entre \"T.O.\" e \"T.A.\"? Quais são estas semelhanças? É o mesmo tema (frize)?\n",
    "    2) Existe semelhança nas solicitações feita em \"T.O.\" e \"T.A.\"? Quais são estas semelhanças?\n",
    "    3) A solicitações feitas é uma melhoria para algum lugar, seja esse lugar um logradouro público, um bairro, um prédio comercial, um prédio público, ou ainda instituições públicas e/ou privadas. Que lugar é este? É o mesmo lugar?\n",
    "    4) Alguma consideração a fazer quanto a similaridade entre \"T.O.\" e \"T.A.\"?\n",
    "    5) Desconsiderando autores e destinatários, focando na solicitação e no beneficiário, qual grau de semelhança, de zero a um, poderia ser atribuído entre \"T.O.\" e \"T.A.\"?\n",
    "</PERGUNTAS>\n",
    "\n",
    "<ORIGINAL>{original}</ORIGINAL>\n",
    "\n",
    "<ANALISADO>{analisado}</ANALISADO>\n",
    "    \"\"\"\n",
    "\n",
    "    while '  ' in prompt:\n",
    "        prompt = prompt.replace('  ', ' ')\n",
    "\n",
    "    return prompt\n"
   ]
  },
  {
   "cell_type": "code",
   "execution_count": 86,
   "id": "57525ee8",
   "metadata": {},
   "outputs": [
    {
     "name": "stdout",
     "output_type": "stream",
     "text": [
      "Requerimento nº 45 de 2025 ≃ Requerimento nº 46 de 2025\n"
     ]
    },
    {
     "data": {
      "text/markdown": [
       "- Os textos não pedem o mesmo benefício para a mesma localidade.\n",
       "\n",
       "   - **REQ 045/2025:** Solicita a ampliação do atendimento em turno integral para a educação infantil de 0 a 5 anos em todas as instituições públicas de educação infantil (CEMEIs/CEIs) do município de Jataí. Os beneficiários são as crianças de 0 a 5 anos matriculadas nas instituições públicas de educação infantil de Jataí.\n",
       "\n",
       "   - **REQ 046/2025:** Solicita um estudo de viabilidade técnica para a construção de uma escola em tempo integral no município de Jataí. Os beneficiários são os futuros alunos da escola em tempo integral a ser construída no município de Jataí.\n",
       "\n",
       "- A semelhança percentual entre os requerimentos é de 0%. Embora ambos tratem de educação em tempo integral no município de Jataí, um solicita a ampliação do atendimento em instituições já existentes e o outro solicita um estudo para construção de uma nova escola.\n"
      ],
      "text/plain": [
       "<IPython.core.display.Markdown object>"
      ]
     },
     "metadata": {},
     "output_type": "display_data"
    }
   ],
   "source": [
    "from sapl.materia.models import MateriaLegislativa\n",
    "\n",
    "originais = MateriaLegislativa.objects.filter(numero=45, tipo_id=3, ano=2025).order_by('id')\n",
    "analisadas = MateriaLegislativa.objects.filter(numero=46, tipo_id=3, ano=2025).order_by('id')\n",
    "\n",
    "fez_um_doc = False\n",
    "for original in originais:\n",
    "    for analisada in analisadas:\n",
    "        if original == analisada:\n",
    "            continue\n",
    "\n",
    "        if not set(original.autores.all()) - set(analisada.autores.all()):\n",
    "            continue\n",
    "\n",
    "        fez_um_doc = True\n",
    "\n",
    "        print(original, '≃', analisada)\n",
    "\n",
    "        doc_original = pymupdf.open(original.texto_original.path)\n",
    "        text_original = ' '.join([page.get_text() for page in doc_original])\n",
    "        text_original = clean_text(text_original)\n",
    "\n",
    "        doc_analisada = pymupdf.open(analisada.texto_original.path)\n",
    "        text_analisada = ' '.join([page.get_text() for page in doc_analisada])\n",
    "        text_analisada = clean_text(text_analisada)\n",
    "\n",
    "        prompt = make_prompt(text_original, text_analisada, original.epigrafe_short, analisada.epigrafe_short)\n",
    "\n",
    "        answer = model.generate_content(prompt)\n",
    "        display(Markdown(answer.text))\n",
    "\n",
    "        if fez_um_doc:\n",
    "            break\n",
    "\n",
    "    if fez_um_doc:\n",
    "        break\n"
   ]
  },
  {
   "cell_type": "code",
   "execution_count": null,
   "id": "d58a65b7",
   "metadata": {},
   "outputs": [],
   "source": []
  },
  {
   "cell_type": "code",
   "execution_count": null,
   "id": "51edb870",
   "metadata": {},
   "outputs": [],
   "source": []
  }
 ],
 "metadata": {
  "kernelspec": {
   "display_name": "cmj",
   "language": "python",
   "name": "python3"
  },
  "language_info": {
   "codemirror_mode": {
    "name": "ipython",
    "version": 3
   },
   "file_extension": ".py",
   "mimetype": "text/x-python",
   "name": "python",
   "nbconvert_exporter": "python",
   "pygments_lexer": "ipython3",
   "version": "3.10.12"
  }
 },
 "nbformat": 4,
 "nbformat_minor": 5
}

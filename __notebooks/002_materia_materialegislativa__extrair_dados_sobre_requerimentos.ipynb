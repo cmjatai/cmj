{
 "cells": [
  {
   "cell_type": "code",
   "execution_count": 2,
   "id": "d3c90959",
   "metadata": {},
   "outputs": [],
   "source": [
    "import os\n",
    "import re\n",
    "import pymupdf\n",
    "import django_setup\n",
    "from dotenv import load_dotenv\n",
    "from IPython.display import Markdown, display\n",
    "\n",
    "load_dotenv()\n",
    "\n",
    "gemini_api_key = os.getenv(\"GEMINI_API_KEY\")"
   ]
  },
  {
   "cell_type": "code",
   "execution_count": null,
   "id": "1f0d1dd4",
   "metadata": {},
   "outputs": [],
   "source": []
  },
  {
   "cell_type": "code",
   "execution_count": 17,
   "id": "3dc03c68",
   "metadata": {},
   "outputs": [],
   "source": [
    "import google.generativeai as genai\n",
    "genai.configure(api_key=gemini_api_key)\n"
   ]
  },
  {
   "cell_type": "code",
   "execution_count": 18,
   "id": "d484b876",
   "metadata": {},
   "outputs": [],
   "source": [
    "def get_model_configured():\n",
    "    generation_config = {\n",
    "      \"temperature\": 0.1,\n",
    "      \"top_p\": 0.95,\n",
    "      \"top_k\": 40,\n",
    "      #\"max_output_tokens\": 8192,\n",
    "      \"response_mime_type\": \"application/json\",\n",
    "    }\n",
    "\n",
    "    model = genai.GenerativeModel(\n",
    "      model_name=\"gemini-2.0-flash-exp\",\n",
    "      generation_config=generation_config,\n",
    "    )\n",
    "\n",
    "    return model\n",
    "\n",
    "model = get_model_configured()\n"
   ]
  },
  {
   "cell_type": "code",
   "execution_count": 19,
   "id": "61cda34b",
   "metadata": {},
   "outputs": [],
   "source": [
    "def clean_text(text, _normalizes=None):\n",
    "    txt = text\n",
    "    try:\n",
    "        normalizes = _normalizes or (\n",
    "            ('\\n ?\\d+ ?/ ?\\d+ ?\\n', '\\n'),\n",
    "            ('[ ]{2,}', ' '),\n",
    "            (' \\\\n', '\\n'),\n",
    "            #('([^\\.]|\\S)\\n(\\S)', r'\\1 \\2'),\n",
    "            ('(\\w)\\n(.)', r'\\1 \\2'),\n",
    "            ('(,)\\n(.)', r'\\1 \\2'),\n",
    "            #('()\\n()', r'\\1 \\2'),\n",
    "            ('\\n\\n', '\\n'),\n",
    "            ('-\\n', '-'),\n",
    "            ('^\\n', ''),\n",
    "            ('–', '-'),\n",
    "            ('•', '*'),\n",
    "            ('[“”]', '\"'),\n",
    "            #('', ''),\n",
    "            #('', ''),\n",
    "            #('', ''),\n",
    "            #('', ''),\n",
    "            #('', ''),\n",
    "        )\n",
    "\n",
    "        for regex, new in normalizes:\n",
    "            search = re.search(regex, text)\n",
    "            while search:\n",
    "                text = re.sub(regex, new, text)\n",
    "                search = re.search(regex, text)\n",
    "        return text\n",
    "    except:\n",
    "        return txt\n"
   ]
  },
  {
   "cell_type": "code",
   "execution_count": 20,
   "id": "5c032a17",
   "metadata": {},
   "outputs": [],
   "source": [
    "def make_prompt(text):\n",
    "    prompt = (\"\"\"    Assuma a personalidade de um especialista em Gestão Pública Municipal com mais de 10 anos de conhecimento teórico e atividade prática.\n",
    "    Analise o conteúdo de <CONTEXTO></CONTEXTO> e escreva um JSON com as seguintes chaves: \"temas\",\"autores\", \"destinatarios\", \"possiveis_destinatarios\", \"localidades\" e \"analise\".\n",
    "    Para preencher as chaves, siga as instruções abaixo em que, respectivamente, se referem às chaves acima citadas:\n",
    "1) Dentro das diversas áreas da gestão pública municipal, o texto em análise aborda a importância e faz solicitações à seus destinatários para a sociedade local. Classifique o texto criando uma lista temática concisa e coloque sua resposta à esta pergunta na chave \"temas\".\n",
    "2) O texto em análise apresenta um ou mais autores que defendem a importância de uma ou mais ações para a sociedade. Identifique esses autores de forma objetiva, ou seja, nome e cargo. Coloque sua resposta à esta pergunta na chave \"autores\" no formato de lista, mesmo que seja identificado apenas um autor.\n",
    "3) Se o texto em análise apresentar um ou mais destinatários das ações defendidas pelos autores. Identifique esses destinatários com seu nome, cargo e instituição a qual pertence. Explique a importância das ações defendidas pelos autores para esses destinatários no contexto de seus cargos e instituições. Utilize em sua resposta as chaves: \"nome\", \"cargo\", \"instituicao\", \"importancia\". Coloque sua resposta à esta pergunta na chave \"destinatarios\" no formato de lista, mesmo que seja identificado apenas um destinatário.\n",
    "4) Com base nas diversas áreas da gestão pública municipal, formule uma lista de possíveis instituições destinatárias não citadas pelos autores e justifique. Use as chaves \"instituicao\" e \"justificativa\". Coloque sua resposta à esta pergunta na chave \"possiveis_destinatarios\" no formato de lista.\n",
    "5) Caso o texto em análise apresente localidades, identifique essas localidades, sejam elas logradouros públicos, bairros ou mesmo prédios públicos e/ou privados, utilizando para isso a chave \"nome\", e adicionando o tipo identificado, utilizando a chave \"tipo\". Coloque sua resposta à esta pergunta na chave \"localidades\" no formato de lista.\n",
    "6) Formule a defesa do texto analisado com no máximo 150 palavras sobre a importância das ações defendidas pelos autores para os destinatários identificados. É muito importante que escreva essa defesa com um texto leve de forma que uma pessoa leiga no assunto entenda. Coloque sua resposta à esta pergunta na chave \"analise\" no formato de markdown.\n",
    "\n",
    "<CONTEXTO>{context}</CONTEXTO>\n",
    "    \"\"\").format(context=text)\n",
    "\n",
    "    while '  ' in prompt:\n",
    "        prompt = prompt.replace('  ', ' ')\n",
    "\n",
    "    return prompt\n"
   ]
  },
  {
   "cell_type": "code",
   "execution_count": 21,
   "id": "57525ee8",
   "metadata": {},
   "outputs": [],
   "source": [
    "from sapl.materia.models import MateriaLegislativa\n",
    "\n",
    "materias = MateriaLegislativa.objects.filter(id=21478, tipo_id=3)\n",
    "\n",
    "for materia in materias[:1]:\n",
    "    doc = pymupdf.open(materia.texto_original.path)\n",
    "    text = ' '.join([page.get_text() for page in doc])\n",
    "    text = clean_text(text)\n",
    "\n",
    "prompt = make_prompt(text)\n",
    "\n",
    "answer = model.generate_content(prompt)"
   ]
  },
  {
   "cell_type": "code",
   "execution_count": 22,
   "id": "95782f92",
   "metadata": {},
   "outputs": [],
   "source": [
    "import json\n",
    "\n",
    "try:\n",
    "    data = {}\n",
    "    data['id'] = materia.id\n",
    "    data['epigrafe'] = str(materia)\n",
    "    data['ementa'] = materia.ementa\n",
    "    data.update(json.loads(answer.text))\n",
    "    data_json = json.dumps(data, indent=4, ensure_ascii=False)\n",
    "    open(f'data/002_output_{materia.numero}.json', 'w').write(data_json)\n",
    "except:\n",
    "    print('Erro ao converter json')\n",
    "    print(answer.text)\n",
    "    open('data/002_error.txt', 'w').write(answer.text)"
   ]
  },
  {
   "cell_type": "code",
   "execution_count": 23,
   "id": "805cb958",
   "metadata": {},
   "outputs": [],
   "source": [
    "import yaml\n",
    "\n",
    "yaml_string = \"\"\"PROMPTs:\n",
    "  - id: 2\n",
    "    status: True\n",
    "    temperature: 0.1\n",
    "    top_p: 0.95\n",
    "    top_k: 40\n",
    "    text: |+\n",
    "      Você é um especialista em Gestão Pública Municipal com mais de 10 anos de conhecimento teórico e atividade prática.\n",
    "      Analise o conteúdo de <CONTEXTO></CONTEXTO> e escreva um JSON com as seguintes chaves: \"temas\", \"autores\", \"destinatarios\", \"possiveis_destinatarios\", \"localidades\" e \"analise\".\n",
    "      Para preencher as chaves, siga as instruções abaixo em que, respectivamente, se referem às chaves acima citadas:\n",
    "      1) Dentro das diversas áreas da gestão pública municipal, o texto em análise aborda a importância e faz solicitações à seus destinatários para a sociedade local. Classifique o texto criando uma lista temática concisa e coloque sua resposta à esta pergunta na chave \"temas\".\n",
    "      2) O texto em análise apresenta um ou mais autores que defendem a importância de uma ou mais ações para a sociedade. Identifique esses autores de forma objetiva, ou seja, nome e cargo. Coloque sua resposta à esta pergunta na chave \"autores\" no formato de lista, mesmo que seja identificado apenas um autor.\n",
    "      3) Se o texto em análise apresentar um ou mais destinatários das ações defendidas pelos autores. Identifique esses destinatários com seu nome, cargo e instituição a qual pertence. Explique a importância das ações defendidas pelos autores para esses destinatários no contexto de seus cargos e instituições. Utilize em sua resposta as chaves: \"nome\", \"cargo\", \"instituicao\", \"importancia\". Coloque sua resposta à esta pergunta na chave \"destinatarios\" no formato de lista, mesmo que seja identificado apenas um destinatário.\n",
    "      4) Com base nas diversas áreas da gestão pública municipal, formule uma lista de possíveis instituições destinatárias não citadas pelos autores e justifique. Use as chaves \"instituicao\" e \"justificativa\". Coloque sua resposta à esta pergunta na chave \"possiveis_destinatarios\" no formato de lista.\n",
    "      5) Caso o texto em análise apresente localidades, identifique essas localidades, sejam elas logradouros públicos, bairros ou mesmo prédios públicos e/ou privados, utilizando para isso a chave \"nome\", e adicionando o tipo identificado, utilizando a chave \"tipo\". Coloque sua resposta à esta pergunta na chave \"localidades\" no formato de lista.\n",
    "      6) Formule a defesa do texto analisado com no máximo 150 palavras sobre a importância das ações defendidas pelos autores para os destinatários identificados. É muito importante que escreva essa defesa com um texto leve de forma que uma pessoa leiga no assunto entenda. Coloque sua resposta à esta pergunta na chave \"analise\" no formato de markdown.\n",
    "\n",
    "      <CONTEXTO>{context}</CONTEXTO>\"\"\"\n",
    "\n",
    "yaml_data = yaml.load(yaml_string, Loader=yaml.FullLoader)"
   ]
  },
  {
   "cell_type": "code",
   "execution_count": 24,
   "id": "3efece1c",
   "metadata": {},
   "outputs": [
    {
     "data": {
      "text/plain": [
       "{'PROMPTs': [{'id': 2,\n",
       "   'status': True,\n",
       "   'temperature': 0.1,\n",
       "   'top_p': 0.95,\n",
       "   'top_k': 40,\n",
       "   'text': 'Você é um especialista em Gestão Pública Municipal com mais de 10 anos de conhecimento teórico e atividade prática.\\nAnalise o conteúdo de <CONTEXTO></CONTEXTO> e escreva um JSON com as seguintes chaves: \"temas\", \"autores\", \"destinatarios\", \"possiveis_destinatarios\", \"localidades\" e \"analise\".\\nPara preencher as chaves, siga as instruções abaixo em que, respectivamente, se referem às chaves acima citadas:\\n1) Dentro das diversas áreas da gestão pública municipal, o texto em análise aborda a importância e faz solicitações à seus destinatários para a sociedade local. Classifique o texto criando uma lista temática concisa e coloque sua resposta à esta pergunta na chave \"temas\".\\n2) O texto em análise apresenta um ou mais autores que defendem a importância de uma ou mais ações para a sociedade. Identifique esses autores de forma objetiva, ou seja, nome e cargo. Coloque sua resposta à esta pergunta na chave \"autores\" no formato de lista, mesmo que seja identificado apenas um autor.\\n3) Se o texto em análise apresentar um ou mais destinatários das ações defendidas pelos autores. Identifique esses destinatários com seu nome, cargo e instituição a qual pertence. Explique a importância das ações defendidas pelos autores para esses destinatários no contexto de seus cargos e instituições. Utilize em sua resposta as chaves: \"nome\", \"cargo\", \"instituicao\", \"importancia\". Coloque sua resposta à esta pergunta na chave \"destinatarios\" no formato de lista, mesmo que seja identificado apenas um destinatário.\\n4) Com base nas diversas áreas da gestão pública municipal, formule uma lista de possíveis instituições destinatárias não citadas pelos autores e justifique. Use as chaves \"instituicao\" e \"justificativa\". Coloque sua resposta à esta pergunta na chave \"possiveis_destinatarios\" no formato de lista.\\n5) Caso o texto em análise apresente localidades, identifique essas localidades, sejam elas logradouros públicos, bairros ou mesmo prédios públicos e/ou privados, utilizando para isso a chave \"nome\", e adicionando o tipo identificado, utilizando a chave \"tipo\". Coloque sua resposta à esta pergunta na chave \"localidades\" no formato de lista.\\n6) Formule a defesa do texto analisado com no máximo 150 palavras sobre a importância das ações defendidas pelos autores para os destinatários identificados. É muito importante que escreva essa defesa com um texto leve de forma que uma pessoa leiga no assunto entenda. Coloque sua resposta à esta pergunta na chave \"analise\" no formato de markdown.\\n\\n<CONTEXTO>{context}</CONTEXTO>'}]}"
      ]
     },
     "execution_count": 24,
     "metadata": {},
     "output_type": "execute_result"
    }
   ],
   "source": [
    "yaml_data"
   ]
  },
  {
   "cell_type": "markdown",
   "id": "f7a5c524",
   "metadata": {},
   "source": [
    "##### Extração de Temas gerado pelo código acima implementado já no PortalCMJ"
   ]
  },
  {
   "cell_type": "code",
   "execution_count": 49,
   "id": "88076e8e",
   "metadata": {},
   "outputs": [],
   "source": [
    "from sapl.base.models import Metadata\n",
    "temas_global = set()\n",
    "mds = Metadata.objects.all()\n",
    "\n",
    "for md in mds:\n",
    "    temas = md.metadata.get('genia', {}).get('temas', [])\n",
    "    for tema in temas:\n",
    "        if tema not in temas_global:\n",
    "            temas_global.add(' '.join(map(lambda x: x.capitalize() if len(x) > 3 else x, tema.split())))\n",
    "\n",
    "temas_global = {\n",
    "    k: k for k in sorted(temas_global)\n",
    "    }"
   ]
  },
  {
   "cell_type": "code",
   "execution_count": 50,
   "id": "def4c234",
   "metadata": {},
   "outputs": [],
   "source": [
    "temas_global = list(temas_global.items())"
   ]
  },
  {
   "cell_type": "code",
   "execution_count": 51,
   "id": "1099265f",
   "metadata": {},
   "outputs": [
    {
     "data": {
      "text/plain": [
       "('Abastecimento de Água', 'Abastecimento de Água')"
      ]
     },
     "execution_count": 51,
     "metadata": {},
     "output_type": "execute_result"
    }
   ],
   "source": [
    "temas_global[0]"
   ]
  },
  {
   "cell_type": "code",
   "execution_count": 56,
   "id": "a26bc644",
   "metadata": {},
   "outputs": [],
   "source": [
    "md = Metadata.objects.filter(metadata__genia__temas__icontains=temas_global[0][0]).first()"
   ]
  },
  {
   "cell_type": "code",
   "execution_count": 57,
   "id": "f378fd25",
   "metadata": {},
   "outputs": [
    {
     "data": {
      "text/plain": [
       "{'genia': {'temas': ['Infraestrutura urbana',\n",
       "   'Abastecimento de água',\n",
       "   'Saneamento básico',\n",
       "   'Qualidade de vida',\n",
       "   'Saúde pública'],\n",
       "  'analise': 'O vereador Guilherme Alves, preocupado com a falta de água potável no setor Nova Esperança, em Jataí, solicita ao Vice-governador de Goiás e ao Presidente da SANEAGO a construção de uma rede de abastecimento. A falta dessa infraestrutura obriga os moradores a buscar alternativas como cisternas, que podem ser contaminadas. A construção da rede é essencial para garantir a saúde e qualidade de vida da população, pois o acesso à água potável é um direito básico. A ação do vereador busca unir forças para levar essa melhoria aos moradores, mostrando a importância da colaboração entre os poderes públicos para atender às necessidades da comunidade.',\n",
       "  'autores': [{'nome': 'Guilherme Alves', 'cargo': 'Vereador'}],\n",
       "  'model_name': 'gemini-2.0-flash-exp',\n",
       "  'localidades': [{'nome': 'Setor Nova Esperança', 'tipo': 'Bairro'},\n",
       "   {'nome': 'Jataí', 'tipo': 'Município'}],\n",
       "  'destinatarios': [{'nome': 'Daniel Elias Carvalho Vilela',\n",
       "    'cargo': 'Vice-governador de Goiás',\n",
       "    'importancia': 'Como Vice-governador, ele tem o poder de alocar recursos e priorizar projetos de infraestrutura, sendo fundamental para a aprovação e execução da construção da rede de abastecimento de água.',\n",
       "    'instituicao': 'Governo de Goiás'},\n",
       "   {'nome': 'Ricardo José Soavinki',\n",
       "    'cargo': 'Presidente da SANEAGO',\n",
       "    'importancia': 'Como presidente da SANEAGO, ele é responsável pela execução de projetos de saneamento básico, incluindo a construção de redes de abastecimento de água. Sua aprovação é essencial para a realização da obra.',\n",
       "    'instituicao': 'SANEAGO'}],\n",
       "  'possiveis_destinatarios': [{'instituicao': 'Secretaria Municipal de Infraestrutura',\n",
       "    'justificativa': 'A secretaria municipal pode auxiliar na fiscalização e acompanhamento da obra, além de garantir que a infraestrutura seja integrada ao planejamento urbano do município.'},\n",
       "   {'instituicao': 'Secretaria Municipal de Saúde',\n",
       "    'justificativa': 'A secretaria de saúde pode monitorar a qualidade da água e garantir que a população tenha acesso a água potável, prevenindo doenças relacionadas à falta de saneamento básico.'},\n",
       "   {'instituicao': 'Ministério Público',\n",
       "    'justificativa': 'O Ministério Público pode fiscalizar o cumprimento das leis e garantir que os direitos da população sejam respeitados, incluindo o acesso à água potável.'}]}}"
      ]
     },
     "execution_count": 57,
     "metadata": {},
     "output_type": "execute_result"
    }
   ],
   "source": [
    "md.metadata"
   ]
  },
  {
   "cell_type": "code",
   "execution_count": null,
   "id": "f06cb83d",
   "metadata": {},
   "outputs": [],
   "source": []
  }
 ],
 "metadata": {
  "kernelspec": {
   "display_name": "cmj",
   "language": "python",
   "name": "python3"
  },
  "language_info": {
   "codemirror_mode": {
    "name": "ipython",
    "version": 3
   },
   "file_extension": ".py",
   "mimetype": "text/x-python",
   "name": "python",
   "nbconvert_exporter": "python",
   "pygments_lexer": "ipython3",
   "version": "3.10.12"
  }
 },
 "nbformat": 4,
 "nbformat_minor": 5
}

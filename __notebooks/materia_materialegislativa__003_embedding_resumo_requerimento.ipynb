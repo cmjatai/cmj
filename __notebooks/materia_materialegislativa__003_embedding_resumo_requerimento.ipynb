{
 "cells": [
  {
   "cell_type": "code",
   "execution_count": 1,
   "id": "d3c90959",
   "metadata": {},
   "outputs": [],
   "source": [
    "import os\n",
    "import re\n",
    "import pymupdf\n",
    "import django_setup\n",
    "from IPython.display import Markdown, display\n",
    "from bs4 import BeautifulSoup as bs\n",
    "\n",
    "from django.conf import settings\n",
    "\n",
    "gemini_api_key = settings.GEMINI_API_KEY\n",
    "\n",
    "import google.generativeai as genai\n",
    "genai.configure(api_key=gemini_api_key)\n"
   ]
  },
  {
   "cell_type": "code",
   "execution_count": 40,
   "id": "ad3a4823",
   "metadata": {},
   "outputs": [],
   "source": [
    "import json\n",
    "with open('data/002_output_15.json', 'r') as f:\n",
    "    md15 = json.loads(f.read())\n",
    "with open('data/002_output_36.json', 'r') as f:\n",
    "    md41 = json.loads(f.read())"
   ]
  },
  {
   "cell_type": "code",
   "execution_count": 44,
   "id": "dd0a8d13",
   "metadata": {},
   "outputs": [],
   "source": []
  },
  {
   "cell_type": "code",
   "execution_count": 74,
   "id": "514aaabd",
   "metadata": {},
   "outputs": [],
   "source": [
    "from sapl.materia.models import MateriaLegislativa\n",
    "from cmj.utils import clean_text\n",
    "reqs = [34, 36]\n",
    "materias = MateriaLegislativa.objects.filter(numero__in=reqs, ano=2025, tipo_id=3)\n",
    "\n",
    "texts = []\n",
    "for materia in materias:\n",
    "    doc = pymupdf.open(materia.texto_original.path)\n",
    "    text = ' '.join([page.get_text() for page in doc])\n",
    "    text = clean_text(text)\n",
    "    texts.append(text)\n"
   ]
  },
  {
   "cell_type": "code",
   "execution_count": 75,
   "id": "1f5c5185",
   "metadata": {},
   "outputs": [],
   "source": [
    "from sentence_transformers import SentenceTransformer\n",
    "#model = SentenceTransformer('distiluse-base-multilingual-cased-v2')\n",
    "#model = SentenceTransformer('ricardo-filho/bert-base-portuguese-cased-nli-assin-2')\n",
    "\n",
    "model = SentenceTransformer('sentence-transformers/static-similarity-mrl-multilingual-v1')\n",
    "\n",
    "\n",
    "\n",
    "#model = SentenceTransformer('neuralmind/bert-large-portuguese-cased')\n",
    "A_embeddings = model.encode(texts[0])\n",
    "B_embeddings = model.encode(texts[1])"
   ]
  },
  {
   "cell_type": "code",
   "execution_count": 43,
   "id": "4467278b",
   "metadata": {},
   "outputs": [],
   "source": [
    "import numpy as np\n",
    "result = genai.embed_content(\n",
    "    model='models/text-embedding-004',\n",
    "    content=texts,\n",
    "    task_type='semantic_similarity'\n",
    "    )\n",
    "\"\"\"A_embeddings = np.array(result['embedding'])\n",
    "\n",
    "result = genai.embed_content(\n",
    "    model='models/text-embedding-004',\n",
    "    content=texts[1],\n",
    "    task_type='similarity'\n",
    "    )\n",
    "B_embeddings = np.array(result['embedding'])\"\"\"\n",
    "A_embeddings = result['embedding'][0]\n",
    "B_embeddings = result['embedding'][1]"
   ]
  },
  {
   "cell_type": "code",
   "execution_count": 76,
   "id": "187b81c6",
   "metadata": {},
   "outputs": [
    {
     "name": "stdout",
     "output_type": "stream",
     "text": [
      "Cosine Similarity: 0.62\n",
      "Cosine Distance: 0.38\n"
     ]
    }
   ],
   "source": [
    "# Define the vectors\n",
    "A = A_embeddings\n",
    "B = B_embeddings\n",
    "\n",
    "# Calculate cosine similarity\n",
    "cos_similarity = np.dot(A, B) / (np.linalg.norm(A) * np.linalg.norm(B))\n",
    "\n",
    "# Calculate cosine distance\n",
    "cos_distance = 1 - cos_similarity\n",
    "\n",
    "print(\"Cosine Similarity: {:.2f}\".format(cos_similarity))\n",
    "print(\"Cosine Distance: {:.2f}\".format(cos_distance))"
   ]
  },
  {
   "cell_type": "code",
   "execution_count": 77,
   "id": "830c4792",
   "metadata": {},
   "outputs": [
    {
     "name": "stdout",
     "output_type": "stream",
     "text": [
      "Cosine Distance: 0.38\n"
     ]
    }
   ],
   "source": [
    "import numpy as np\n",
    "from scipy.spatial.distance import cosine, euclidean\n",
    "\n",
    "# Define the vectors\n",
    "A = A_embeddings\n",
    "B = B_embeddings\n",
    "\n",
    "# Calculate cosine distance\n",
    "cos_distance = cosine(A, B)  # Uses scipy's cosine for cosine distance\n",
    "\n",
    "print(\"Cosine Distance: {:.2f}\".format(cos_distance))"
   ]
  },
  {
   "cell_type": "code",
   "execution_count": 56,
   "id": "50ee5677",
   "metadata": {},
   "outputs": [
    {
     "name": "stdout",
     "output_type": "stream",
     "text": [
      "Requerimento KC-04/2025 À MESA DIRETORA DA CÂMARA MUNICIPAL DE JATAÍ-GO\n",
      "\"Solicita à Secretaria de Obras e de Serviços Urbanos a revitalização da Praça Olho D’água.\"\n",
      "A Vereadora Kátia Carvalho, que este subscreve, no uso de suas atribuições legais e regimentais, requer à Presidência desta Casa, após apreciação do plenário, o encaminhamento deste requerimento ao Ilmo. Sr. Cantimiro Melo Martins, Secretário de Obras, e ao Ilmo. Sr. Tiago Alves Rua, Secretário de Serviços Urbanos, solicitando a revitalização da Praça Olho D’água.\n",
      "JUSTIFICATIVA\n",
      "Trata-se de demanda recebida em meu gabinete, na qual moradores do município e dos arredores da referida praça se queixam, estando o local em condições de abandono, contendo bancos quebrados, falta de iluminação, parque infantil deteriorado, matagal alto e lixo nos lagos. Também, importante destacar que o lugar tem servido de ponto para uso de entorpecentes, tendo assim, vários usuários semanalmente no local, o que compromete a segurança dos moradores locais e impede o objetivo principal de ter uma praça no local.\n",
      "A revitalização da praça é de extrema importância para a comunidade, ela trará de volta mais esta opção de lazer para os jataienses, que antes, quando ainda estava em perfeitas condições, várias famílias e crianças se divertiam ali, além disso, evitará que a mesma caia no desuso da população e permaneça como um lugar periculoso. Ressalto ainda, o quanto uma praça bem cuidada e que oferece lazer valoriza os imóveis da região.\n",
      "Podemos ver nas imagens abaixo, alguns pontos da situação da Praça Olho D’água. Pode-se notar que nem mesmo é possível enxergar o lago que foi coberto por plantas \"daninhas\".\n",
      "Esta solicitação integra o compromisso desta parlamentar com a segurança, o lazer e o bem-estar da comunidade, razão pela qual solicita o apoio dos nobres colegas e a colaboração das autoridades competentes para atender a esta demanda. Diante do exposto, pede deferimento.\n",
      "Câmara Municipal de Jataí, 09 de janeiro de 2025.\n",
      "Kátia Carvalho Vereadora - PL\n",
      "\n"
     ]
    }
   ],
   "source": [
    "print(texts[0])"
   ]
  },
  {
   "cell_type": "code",
   "execution_count": 57,
   "id": "4808b3b5",
   "metadata": {},
   "outputs": [
    {
     "name": "stdout",
     "output_type": "stream",
     "text": [
      "EXCELENTÍSSIMO SENHOR PRESIDENTE DA CÂMARA MUNICIPAL DE JATAÍ, ESTADO DE GOIÁS.\n",
      "Câmara Municipal de Jataí - GO, 03 de janeiro de 2025. Autor: Vereador Durval Gomes de Oliveira\n",
      "\"Solicita ao Poder Executivo que faça um estudo de viabilidade técnica para realizar a revitalização completa do Parque Ecológico Binômio da Costa Lima (Praça Olho d’água).\"\n",
      "O Parlamentar DURVAL GOMES DE OLIVEIRA, na forma regimental e no uso de suas atribuições legais, requer o encaminhamento de um exemplar deste ao Excelentíssimo Senhor GENEILTON FILHO DE ASSIS, DD. Prefeito Municipal de Jataí e ao Ilustríssimo Senhor CANTIMIRO MELO MARTINS, DD. Secretário de Obras, solicitando ao Poder Executivo que faça um estudo de viabilidade técnica para realizar a revitalização completa do Parque Ecológico Binômio da Costa Lima (Praça Olho d’água).\n",
      "JUSTIFICATIVA\n",
      "Ocorre, que o referido parque está completamente abandonado, carecendo de uma revitalização completa por toda sua extensão. As vegetações dentro dos lagos estão altas e há o acúmulo de lixos em diversos pontos do parque, inclusive dentro dos mesmos, quase não sendo possível visualizar suas águas.\n",
      "Outro ponto que merece destaque são as iluminações, pois, em vários postes não existem lâmpadas e outros sequer os fios estão ligados, trazendo assim, falta de segurança para os usuários da praça que pretendem utilizá-la durante o período noturno. É extremamente urgente que se faça tal limpeza, pois, os lixos espalhados por toda parte, além de demonstrar um ambiente abandonado, pode ocasionar aos moradores inúmeros outros problemas, como doenças e infestação de isentos e roedores. Ressalta-se ainda, que o parque mencionado, está localizado no centro da cidade, sendo de fácil acesso e um dos locais de visita de vários moradores locais e de outras cidades, merecendo assim um carinho especial e cuidados necessários, para que traga conforto aos moradores e embeleze nosso município. As calçadas e o parquinho também necessitam de reparos, para que deixe o ambiente confortável para quem quer que o visite, especialmente as crianças, que utilizam o local para brincar e se divertir. Contando com a participação favorável dos nobres colegas e a desejável acolhida por parte das autoridades requeridas para que seja feita a revitalização completa do Parque Ecológico Binômio da Costa Lima (Praça Olho d’água) com a maior brevidade possível. Termos em que pede e espera deferimento.\n",
      "Câmara Municipal de Jataí - GO, 03 de janeiro de 2025.\n",
      "Durval Gomes de Oliveira Vereador\n",
      "\n"
     ]
    }
   ],
   "source": [
    "print(texts[1])"
   ]
  }
 ],
 "metadata": {
  "kernelspec": {
   "display_name": "cmj",
   "language": "python",
   "name": "python3"
  },
  "language_info": {
   "codemirror_mode": {
    "name": "ipython",
    "version": 3
   },
   "file_extension": ".py",
   "mimetype": "text/x-python",
   "name": "python",
   "nbconvert_exporter": "python",
   "pygments_lexer": "ipython3",
   "version": "3.10.12"
  }
 },
 "nbformat": 4,
 "nbformat_minor": 5
}

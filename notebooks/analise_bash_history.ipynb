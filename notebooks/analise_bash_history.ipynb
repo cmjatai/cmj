{
 "cells": [
  {
   "cell_type": "code",
   "execution_count": 28,
   "id": "1386c7b6",
   "metadata": {},
   "outputs": [],
   "source": [
    "from setuptools._vendor.ordered_set import OrderedSet\n",
    "from django.template.base import Template\n",
    "from django.template.context import Context\n",
    "from cmj.utils import Manutencao\n",
    "from cmj.loa import models\n",
    "import fitz\n",
    "import re\n",
    "m = Manutencao()\n",
    "m.desativa_auto_now()\n",
    "m.desativa_signals()"
   ]
  },
  {
   "cell_type": "code",
   "execution_count": 29,
   "id": "5a908f9c",
   "metadata": {},
   "outputs": [],
   "source": [
    "with open('/home/leandro/.bash_history', 'r') as f:\n",
    "    lines = f.read()\n",
    "    lines = re.split(r'\\n', lines)\n",
    "lines = OrderedSet(lines)\n",
    "\n",
    "busca = ''\n",
    "lines = filter(lambda l: busca in l, lines)\n",
    "#list(lines)"
   ]
  },
  {
   "cell_type": "code",
   "execution_count": null,
   "id": "551c95ea",
   "metadata": {},
   "outputs": [],
   "source": []
  }
 ],
 "metadata": {
  "kernelspec": {
   "display_name": "Django Shell-Plus",
   "language": "python",
   "name": "django_extensions"
  },
  "language_info": {
   "codemirror_mode": {
    "name": "ipython",
    "version": 3
   },
   "file_extension": ".py",
   "mimetype": "text/x-python",
   "name": "python",
   "nbconvert_exporter": "python",
   "pygments_lexer": "ipython3",
   "version": "3.10.12"
  }
 },
 "nbformat": 4,
 "nbformat_minor": 5
}

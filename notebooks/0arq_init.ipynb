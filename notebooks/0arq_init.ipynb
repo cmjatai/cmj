{
 "cells": [
  {
   "cell_type": "code",
   "execution_count": 1,
   "id": "1386c7b6",
   "metadata": {},
   "outputs": [],
   "source": [
    "from django.template.base import Template\n",
    "from django.template.context import Context\n",
    "from cmj.utils import Manutencao\n",
    "from cmj.loa import models\n",
    "import fitz\n",
    "import re\n",
    "m = Manutencao()\n",
    "m.desativa_auto_now()\n",
    "m.desativa_signals()"
   ]
  },
  {
   "cell_type": "code",
   "execution_count": null,
   "id": "5a908f9c",
   "metadata": {},
   "outputs": [],
   "source": []
  }
 ],
 "metadata": {
  "kernelspec": {
   "display_name": "Django Shell-Plus",
   "language": "python",
   "name": "django_extensions"
  },
  "language_info": {
   "codemirror_mode": {
    "name": "ipython",
    "version": 3
   },
   "file_extension": ".py",
   "mimetype": "text/x-python",
   "name": "python",
   "nbconvert_exporter": "python",
   "pygments_lexer": "ipython3",
   "version": "3.10.12"
  }
 },
 "nbformat": 4,
 "nbformat_minor": 5
}

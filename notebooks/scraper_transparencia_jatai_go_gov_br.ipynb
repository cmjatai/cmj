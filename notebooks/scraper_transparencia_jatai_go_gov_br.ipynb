{
 "cells": [
  {
   "cell_type": "code",
   "execution_count": 2,
   "id": "1386c7b6",
   "metadata": {},
   "outputs": [],
   "source": [
    "from django.template.base import Template\n",
    "from django.template.context import Context\n",
    "from cmj.utils import Manutencao\n",
    "from cmj.loa import models\n",
    "from io import StringIO\n",
    "from bs4 import BeautifulSoup as bs\n",
    "import requests\n",
    "import fitz\n",
    "import csv\n",
    "import re\n",
    "m = Manutencao()\n",
    "#m.desativa_auto_now()\n",
    "m.desativa_signals()"
   ]
  },
  {
   "cell_type": "code",
   "execution_count": 66,
   "id": "7c252888",
   "metadata": {},
   "outputs": [],
   "source": [
    "def clean_text(text):\n",
    "    while '  ' in text:\n",
    "        text = text.replace('  ', ' ')\n",
    "    while ' \\n' in text:\n",
    "        text = text.replace(' \\n', '\\n')\n",
    "    while '\\r\\n' in text:\n",
    "        text = text.replace('\\r\\n', '\\n')\n",
    "    while '\\n\\n' in text:\n",
    "        text = text.replace('\\n\\n', '\\n')\n",
    "    return text"
   ]
  },
  {
   "cell_type": "code",
   "execution_count": 83,
   "id": "3a89f6d4",
   "metadata": {},
   "outputs": [],
   "source": [
    "urls = [\n",
    "    {\n",
    "        'name': 'despesa_paga_list_exportacao',\n",
    "        'url': 'http://prefeituradejatai.sigepnet.com.br/transparencia/exportacao/despesa_paga.php?extensao=CSV&orgao={orgao}&ano={ano}&mes={mes}&fornecedor=&cpfcnpj=&acao=true',\n",
    "        'type': 'list',\n",
    "        'format': 'csv',\n",
    "        'params': ('orgao', 'mes', 'ano'),\n",
    "        'childs': [\n",
    "            {\n",
    "                'name': 'despesa_paga_detalhes_exportacao',\n",
    "                'url': 'http://prefeituradejatai.sigepnet.com.br/transparencia/exportacao/depesa_paga_detalhes.php?extensao=CSV&codigo={}',\n",
    "                'type': 'detail',\n",
    "                'format': 'csv',\n",
    "                'params': ('codigo'),\n",
    "            },\n",
    "            {\n",
    "                'name': 'despesa_paga_detalhes',\n",
    "                'url': 'http://prefeituradejatai.sigepnet.com.br/transparencia/despesa_paga_detalhes.php?codigo={}',\n",
    "                'type': 'detail',\n",
    "                'format': 'html',\n",
    "                'params': ('codigo'),\n",
    "            },\n",
    "        ]\n",
    "    },\n",
    "    {\n",
    "        'name': 'receita_list_exportacao',\n",
    "        'url': 'http://prefeituradejatai.sigepnet.com.br/transparencia/exportacao/receitas.php?extensao=CSV&orgao={orgao}&ano={ano}&mes={mes}&elementoreceita=&categoria=&origem=&especie=&acao=true',\n",
    "        'type': 'list',\n",
    "        'params': ('orgao', 'mes', 'ano'),\n",
    "        'format': 'csv',\n",
    "        'childs': [\n",
    "            {\n",
    "                'name': 'receita_detail_exportacao',\n",
    "                'url': 'http://prefeituradejatai.sigepnet.com.br/transparencia/exportacao/receitas_detalhes.php?extensao=CSV&codigo={codigo}&orgao={orgao}&ano={ano}&mes={mes}',\n",
    "                'type': 'list',\n",
    "                'format': 'csv',\n",
    "                'params': ('codigo', 'orgao', 'mes', 'ano')\n",
    "            },   \n",
    "            {\n",
    "                'name': 'receita_detail',\n",
    "                'url': 'http://prefeituradejatai.sigepnet.com.br/transparencia/receitas_detalhes.php?codigo={codigo}&orgao={orgao}&ano={ano}&mes={mes}',\n",
    "                'type': 'list',\n",
    "                'format': 'html',\n",
    "                'params': ('codigo', 'orgao', 'mes', 'ano')\n",
    "            },          \n",
    "        ]\n",
    "    }\n",
    "]  "
   ]
  },
  {
   "cell_type": "code",
   "execution_count": 142,
   "id": "4e1fd509",
   "metadata": {},
   "outputs": [],
   "source": [
    "orgaos = models.Orgao.objects.filter(codigo='03')\n",
    "\n",
    "for orgao in orgaos:\n",
    "    for ano in ('2024', ):\n",
    "        for mes in (9, 8):\n",
    "            urls.reverse()\n",
    "            for url_dict in urls:\n",
    "                url = url_dict['url'].format(\n",
    "                    orgao = orgao.codigo,\n",
    "                    ano = ano,\n",
    "                    mes = f'{mes:>05}'\n",
    "                )\n",
    "                r = requests.get(url)\n",
    "                break\n",
    "            break\n",
    "        break\n",
    "    break\n"
   ]
  }
 ],
 "metadata": {
  "kernelspec": {
   "display_name": "Django Shell-Plus",
   "language": "python",
   "name": "django_extensions"
  },
  "language_info": {
   "codemirror_mode": {
    "name": "ipython",
    "version": 3
   },
   "file_extension": ".py",
   "mimetype": "text/x-python",
   "name": "python",
   "nbconvert_exporter": "python",
   "pygments_lexer": "ipython3",
   "version": "3.10.12"
  }
 },
 "nbformat": 4,
 "nbformat_minor": 5
}

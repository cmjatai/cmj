{
 "cells": [
  {
   "cell_type": "code",
   "execution_count": 1,
   "id": "1386c7b6",
   "metadata": {},
   "outputs": [],
   "source": [
    "from django.template.base import Template\n",
    "from django.template.context import Context\n",
    "from cmj.utils import Manutencao\n",
    "from cmj.loa import models\n",
    "from io import StringIO\n",
    "from bs4 import BeautifulSoup as bs\n",
    "import pandas as pd\n",
    "import requests\n",
    "import fitz\n",
    "import csv\n",
    "import re\n",
    "m = Manutencao()\n",
    "#m.desativa_auto_now()\n",
    "m.desativa_signals()"
   ]
  },
  {
   "cell_type": "code",
   "execution_count": 3,
   "id": "d2a3c131",
   "metadata": {},
   "outputs": [
    {
     "name": "stdout",
     "output_type": "stream",
     "text": [
      "{'ano': 2024, 'orgao': '01', 'mes': 9, 'count': 68}\n",
      "{'ano': 2024, 'orgao': '01', 'mes': 8, 'count': 158}\n",
      "{'ano': 2024, 'orgao': '01', 'mes': 7, 'count': 70}\n",
      "{'ano': 2024, 'orgao': '01', 'mes': 6, 'count': 254}\n",
      "{'ano': 2024, 'orgao': '01', 'mes': 5, 'count': 220}\n",
      "{'ano': 2024, 'orgao': '01', 'mes': 4, 'count': 206}\n",
      "{'ano': 2024, 'orgao': '01', 'mes': 3, 'count': 160}\n",
      "{'ano': 2024, 'orgao': '01', 'mes': 2, 'count': 152}\n",
      "{'ano': 2024, 'orgao': '01', 'mes': 1, 'count': 82}\n",
      "{'ano': 2024, 'orgao': '03', 'mes': 9, 'count': 816}\n",
      "{'ano': 2024, 'orgao': '03', 'mes': 8, 'count': 1610}\n",
      "{'ano': 2024, 'orgao': '03', 'mes': 7, 'count': 1694}\n",
      "{'ano': 2024, 'orgao': '03', 'mes': 6, 'count': 1786}\n",
      "{'ano': 2024, 'orgao': '03', 'mes': 5, 'count': 1924}\n",
      "{'ano': 2024, 'orgao': '03', 'mes': 4, 'count': 1780}\n",
      "{'ano': 2024, 'orgao': '03', 'mes': 3, 'count': 1702}\n",
      "{'ano': 2024, 'orgao': '03', 'mes': 2, 'count': 1372}\n",
      "{'ano': 2024, 'orgao': '03', 'mes': 1, 'count': 1444}\n",
      "{'ano': 2024, 'orgao': '04', 'mes': 9, 'count': 18}\n",
      "{'ano': 2024, 'orgao': '04', 'mes': 8, 'count': 48}\n",
      "{'ano': 2024, 'orgao': '04', 'mes': 7, 'count': 36}\n",
      "{'ano': 2024, 'orgao': '04', 'mes': 6, 'count': 44}\n",
      "{'ano': 2024, 'orgao': '04', 'mes': 5, 'count': 46}\n",
      "{'ano': 2024, 'orgao': '04', 'mes': 4, 'count': 52}\n",
      "{'ano': 2024, 'orgao': '04', 'mes': 3, 'count': 48}\n",
      "{'ano': 2024, 'orgao': '04', 'mes': 2, 'count': 44}\n",
      "{'ano': 2024, 'orgao': '04', 'mes': 1, 'count': 24}\n",
      "{'ano': 2024, 'orgao': '06', 'mes': 9, 'count': 860}\n",
      "{'ano': 2024, 'orgao': '06', 'mes': 8, 'count': 2476}\n",
      "{'ano': 2024, 'orgao': '06', 'mes': 7, 'count': 2596}\n",
      "{'ano': 2024, 'orgao': '06', 'mes': 6, 'count': 2624}\n",
      "{'ano': 2024, 'orgao': '06', 'mes': 5, 'count': 2576}\n",
      "{'ano': 2024, 'orgao': '06', 'mes': 4, 'count': 2598}\n",
      "{'ano': 2024, 'orgao': '06', 'mes': 3, 'count': 2600}\n",
      "{'ano': 2024, 'orgao': '06', 'mes': 2, 'count': 2098}\n",
      "{'ano': 2024, 'orgao': '06', 'mes': 1, 'count': 2332}\n",
      "{'ano': 2024, 'orgao': '07', 'mes': 9, 'count': 12}\n",
      "{'ano': 2024, 'orgao': '07', 'mes': 8, 'count': 12}\n",
      "{'ano': 2024, 'orgao': '07', 'mes': 7, 'count': 12}\n",
      "{'ano': 2024, 'orgao': '07', 'mes': 6, 'count': 14}\n",
      "{'ano': 2024, 'orgao': '07', 'mes': 5, 'count': 22}\n",
      "{'ano': 2024, 'orgao': '07', 'mes': 4, 'count': 20}\n",
      "{'ano': 2024, 'orgao': '07', 'mes': 3, 'count': 30}\n",
      "{'ano': 2024, 'orgao': '07', 'mes': 2, 'count': 4}\n",
      "{'ano': 2024, 'orgao': '07', 'mes': 1, 'count': 6}\n",
      "{'ano': 2024, 'orgao': '08', 'mes': 9, 'count': 34}\n",
      "{'ano': 2024, 'orgao': '08', 'mes': 8, 'count': 84}\n",
      "{'ano': 2024, 'orgao': '08', 'mes': 7, 'count': 108}\n",
      "{'ano': 2024, 'orgao': '08', 'mes': 6, 'count': 88}\n",
      "{'ano': 2024, 'orgao': '08', 'mes': 5, 'count': 100}\n",
      "{'ano': 2024, 'orgao': '08', 'mes': 4, 'count': 132}\n",
      "{'ano': 2024, 'orgao': '08', 'mes': 3, 'count': 118}\n",
      "{'ano': 2024, 'orgao': '08', 'mes': 2, 'count': 92}\n",
      "{'ano': 2024, 'orgao': '08', 'mes': 1, 'count': 52}\n",
      "{'ano': 2024, 'orgao': '09', 'mes': 9, 'count': 22}\n",
      "{'ano': 2024, 'orgao': '09', 'mes': 8, 'count': 78}\n",
      "{'ano': 2024, 'orgao': '09', 'mes': 7, 'count': 70}\n",
      "{'ano': 2024, 'orgao': '09', 'mes': 6, 'count': 150}\n",
      "{'ano': 2024, 'orgao': '09', 'mes': 5, 'count': 50}\n",
      "{'ano': 2024, 'orgao': '09', 'mes': 4, 'count': 32}\n",
      "{'ano': 2024, 'orgao': '09', 'mes': 3, 'count': 38}\n",
      "{'ano': 2024, 'orgao': '09', 'mes': 2, 'count': 62}\n",
      "{'ano': 2024, 'orgao': '09', 'mes': 1, 'count': 54}\n",
      "{'ano': 2024, 'orgao': '13', 'mes': 9, 'count': 18}\n",
      "{'ano': 2024, 'orgao': '13', 'mes': 8, 'count': 10}\n",
      "{'ano': 2024, 'orgao': '13', 'mes': 7, 'count': 14}\n",
      "{'ano': 2024, 'orgao': '13', 'mes': 6, 'count': 36}\n",
      "{'ano': 2024, 'orgao': '13', 'mes': 5, 'count': 12}\n",
      "{'ano': 2024, 'orgao': '13', 'mes': 4, 'count': 20}\n",
      "{'ano': 2024, 'orgao': '13', 'mes': 3, 'count': 34}\n",
      "{'ano': 2024, 'orgao': '13', 'mes': 2, 'count': 28}\n",
      "{'ano': 2024, 'orgao': '13', 'mes': 1, 'count': 26}\n",
      "{'ano': 2024, 'orgao': '14', 'mes': 9, 'count': 84}\n",
      "{'ano': 2024, 'orgao': '14', 'mes': 8, 'count': 184}\n",
      "{'ano': 2024, 'orgao': '14', 'mes': 7, 'count': 162}\n",
      "{'ano': 2024, 'orgao': '14', 'mes': 6, 'count': 138}\n",
      "{'ano': 2024, 'orgao': '14', 'mes': 5, 'count': 172}\n",
      "{'ano': 2024, 'orgao': '14', 'mes': 4, 'count': 276}\n",
      "{'ano': 2024, 'orgao': '14', 'mes': 3, 'count': 148}\n",
      "{'ano': 2024, 'orgao': '14', 'mes': 2, 'count': 128}\n",
      "{'ano': 2024, 'orgao': '14', 'mes': 1, 'count': 140}\n",
      "{'ano': 2024, 'orgao': '15', 'mes': 9, 'count': 2}\n",
      "{'ano': 2024, 'orgao': '15', 'mes': 8, 'count': 36}\n",
      "{'ano': 2024, 'orgao': '15', 'mes': 7, 'count': 34}\n",
      "{'ano': 2024, 'orgao': '15', 'mes': 6, 'count': 28}\n",
      "{'ano': 2024, 'orgao': '15', 'mes': 5, 'count': 44}\n",
      "{'ano': 2024, 'orgao': '15', 'mes': 4, 'count': 36}\n",
      "{'ano': 2024, 'orgao': '15', 'mes': 3, 'count': 50}\n",
      "{'ano': 2024, 'orgao': '15', 'mes': 2, 'count': 46}\n",
      "{'ano': 2024, 'orgao': '15', 'mes': 1, 'count': 10}\n",
      "{'ano': 2024, 'orgao': '17', 'mes': 8, 'count': 30}\n",
      "{'ano': 2024, 'orgao': '17', 'mes': 7, 'count': 24}\n",
      "{'ano': 2024, 'orgao': '17', 'mes': 6, 'count': 28}\n",
      "{'ano': 2024, 'orgao': '17', 'mes': 5, 'count': 30}\n",
      "{'ano': 2024, 'orgao': '17', 'mes': 4, 'count': 30}\n",
      "{'ano': 2024, 'orgao': '17', 'mes': 3, 'count': 28}\n",
      "{'ano': 2024, 'orgao': '17', 'mes': 2, 'count': 30}\n",
      "{'ano': 2024, 'orgao': '17', 'mes': 1, 'count': 28}\n"
     ]
    }
   ],
   "source": [
    "for sr in ScrapRecord.objects.filter(ano=2024).exclude(codigo=''\n",
    "    ).values('ano', 'orgao', 'mes'\n",
    "    ).order_by('-ano', 'orgao', '-mes').annotate(count=Count('ano')):\n",
    "    print(sr)"
   ]
  },
  {
   "cell_type": "code",
   "execution_count": 4,
   "id": "e7f59fff",
   "metadata": {},
   "outputs": [],
   "source": [
    "scraps = {l.ano: {} for l in Loa.objects.all()}\n",
    "for sr in ScrapRecord.objects.filter(ano__in=scraps.keys()).exclude(codigo=''):\n",
    "    sra = scraps[sr.ano]\n",
    "    \n",
    "    if sr.codigo not in sra:\n",
    "        sra[sr.codigo] = {\n",
    "            'csv': None,\n",
    "            'html': None\n",
    "        }\n",
    "    \n",
    "    sra[sr.codigo][sr.metadata['url_dict']['format']] = sr"
   ]
  },
  {
   "cell_type": "code",
   "execution_count": 5,
   "id": "98e0b544",
   "metadata": {},
   "outputs": [
    {
     "data": {
      "text/plain": [
       "dict_keys([2025, 2024, 2023, 2022, 2021, 2020, 2019])"
      ]
     },
     "execution_count": 5,
     "metadata": {},
     "output_type": "execute_result"
    }
   ],
   "source": [
    "scraps.keys()"
   ]
  },
  {
   "cell_type": "code",
   "execution_count": 6,
   "id": "b1173e1c",
   "metadata": {},
   "outputs": [
    {
     "data": {
      "text/plain": [
       "20111"
      ]
     },
     "execution_count": 6,
     "metadata": {},
     "output_type": "execute_result"
    }
   ],
   "source": [
    "len(scraps[2024].keys())"
   ]
  },
  {
   "cell_type": "code",
   "execution_count": 7,
   "id": "2d2a4bd8",
   "metadata": {},
   "outputs": [],
   "source": [
    "item = list(scraps[2024].values())[0]"
   ]
  },
  {
   "cell_type": "code",
   "execution_count": 8,
   "id": "83979a25",
   "metadata": {},
   "outputs": [
    {
     "data": {
      "text/plain": [
       "{'csv': <ScrapRecord: ScrapRecord object (150)>,\n",
       " 'html': <ScrapRecord: ScrapRecord object (151)>}"
      ]
     },
     "execution_count": 8,
     "metadata": {},
     "output_type": "execute_result"
    }
   ],
   "source": [
    "item"
   ]
  },
  {
   "cell_type": "code",
   "execution_count": 9,
   "id": "cce71647",
   "metadata": {},
   "outputs": [],
   "source": [
    "for ano, scrap_anual in scraps.items():\n",
    "    for codigo, item in scrap_anual.items():\n",
    "        break"
   ]
  },
  {
   "cell_type": "code",
   "execution_count": 10,
   "id": "32986acb",
   "metadata": {},
   "outputs": [
    {
     "data": {
      "text/plain": [
       "'422863'"
      ]
     },
     "execution_count": 10,
     "metadata": {},
     "output_type": "execute_result"
    }
   ],
   "source": [
    "codigo"
   ]
  },
  {
   "cell_type": "code",
   "execution_count": 11,
   "id": "15978bef",
   "metadata": {},
   "outputs": [
    {
     "data": {
      "text/plain": [
       "{'csv': <ScrapRecord: ScrapRecord object (1762)>,\n",
       " 'html': <ScrapRecord: ScrapRecord object (1763)>}"
      ]
     },
     "execution_count": 11,
     "metadata": {},
     "output_type": "execute_result"
    }
   ],
   "source": [
    "item"
   ]
  },
  {
   "cell_type": "code",
   "execution_count": 12,
   "id": "37a35838",
   "metadata": {},
   "outputs": [
    {
     "data": {
      "text/plain": [
       "{'_state': <django.db.models.base.ModelState at 0x72dec7a37820>,\n",
       " 'id': 1762,\n",
       " 'metadata': {'url_dict': {'url': 'http://prefeituradejatai.sigepnet.com.br/transparencia/exportacao/depesa_paga_detalhes.php?extensao=CSV&codigo={codigo}',\n",
       "   'name': 'despesa_paga_detalhes_exportacao',\n",
       "   'type': 'detail',\n",
       "   'format': 'csv',\n",
       "   'params': ['codigo']},\n",
       "  'item_list': ['422863',\n",
       "   '13/12/2019',\n",
       "   'ACACIO MICENA COUTINHO',\n",
       "   '310.***.***-87',\n",
       "   'Despesas a Pagar',\n",
       "   '6.153,84']},\n",
       " 'mes': 12,\n",
       " 'ano': 2019,\n",
       " 'orgao': '17',\n",
       " 'codigo': '422863',\n",
       " 'url': 'http://prefeituradejatai.sigepnet.com.br/transparencia/exportacao/depesa_paga_detalhes.php?extensao=CSV&codigo=422863',\n",
       " 'content': <memory at 0x72dec9259780>,\n",
       " 'modified': datetime.datetime(2024, 9, 15, 6, 8, 59, 323038, tzinfo=<UTC>),\n",
       " 'parent_id': 1761}"
      ]
     },
     "execution_count": 12,
     "metadata": {},
     "output_type": "execute_result"
    }
   ],
   "source": [
    "item['csv'].__dict__"
   ]
  },
  {
   "cell_type": "code",
   "execution_count": 13,
   "id": "f8ffacd5",
   "metadata": {},
   "outputs": [
    {
     "data": {
      "text/plain": [
       "{'_state': <django.db.models.base.ModelState at 0x72dec7a378b0>,\n",
       " 'id': 1763,\n",
       " 'metadata': {'url_dict': {'url': 'http://prefeituradejatai.sigepnet.com.br/transparencia/despesa_paga_detalhes.php?codigo={codigo}',\n",
       "   'name': 'despesa_paga_detalhes',\n",
       "   'type': 'detail',\n",
       "   'format': 'html',\n",
       "   'params': ['codigo']},\n",
       "  'item_list': ['422863',\n",
       "   '13/12/2019',\n",
       "   'ACACIO MICENA COUTINHO',\n",
       "   '310.***.***-87',\n",
       "   'Despesas a Pagar',\n",
       "   '6.153,84']},\n",
       " 'mes': 12,\n",
       " 'ano': 2019,\n",
       " 'orgao': '17',\n",
       " 'codigo': '422863',\n",
       " 'url': 'http://prefeituradejatai.sigepnet.com.br/transparencia/despesa_paga_detalhes.php?codigo=422863',\n",
       " 'content': <memory at 0x72dec9259840>,\n",
       " 'modified': datetime.datetime(2024, 9, 15, 6, 9, 1, 844256, tzinfo=<UTC>),\n",
       " 'parent_id': 1761}"
      ]
     },
     "execution_count": 13,
     "metadata": {},
     "output_type": "execute_result"
    }
   ],
   "source": [
    "item['html'].__dict__"
   ]
  },
  {
   "cell_type": "code",
   "execution_count": null,
   "id": "d4aab3c4",
   "metadata": {},
   "outputs": [],
   "source": []
  },
  {
   "cell_type": "code",
   "execution_count": 14,
   "id": "ad851b2f",
   "metadata": {},
   "outputs": [],
   "source": [
    "content = item['csv'].content\n",
    "content = content.tobytes().decode('utf-8-sig')\n",
    "file = StringIO(content)\n",
    "csv_data = csv.reader(file, delimiter=\";\")\n",
    "data = [tuple(row) for row in csv_data]"
   ]
  },
  {
   "cell_type": "code",
   "execution_count": 15,
   "id": "f5f703ec",
   "metadata": {},
   "outputs": [
    {
     "data": {
      "text/plain": [
       "'\"Código\";\"422863\";\"\";\"\";\"\"\\n\"Data\";\"13/12/2019\";\"\";\"\";\"\"\\n\"Banco\";\"Caixa Economica Federal\";\"\";\"\";\"\"\\n\"Agência\";\"2510\";\"\";\"\";\"\"\\n\"Conta\";\"635-9\";\"\";\"\";\"\"\\n\"Tipo do Documento\";\"Aviso Debito\";\"\";\"\";\"\"\\n\"Número do Documento\";\"63965442       \";\"\";\"\";\"\"\\n\"Unidade Financeira\";\"30 - Fundo Esp Dos Procuradores Juridicos Poder Executivo\";\"\";\"\";\"\"\\n\"Fonte de Recursos\";\"100 - Recursos Não Vinculados De Impostos\";\"\";\"\";\"\"\\n\"\";\"\";\"\";\"\";\"\"\\n\"Número\";\"Série\";\"Data de Emissão\";\"Tipo\";\"Valor\"\\n\"9767190097\";\"01      \";\"31/12/1969\";\"Recibo\";\"6.153,84\"\\n<script type=\\'text/javascript\\'>window.close();</script>\\n'"
      ]
     },
     "execution_count": 15,
     "metadata": {},
     "output_type": "execute_result"
    }
   ],
   "source": [
    "content"
   ]
  },
  {
   "cell_type": "code",
   "execution_count": 16,
   "id": "6b5af096",
   "metadata": {},
   "outputs": [
    {
     "data": {
      "text/plain": [
       "[('Código', '422863', '', '', ''),\n",
       " ('Data', '13/12/2019', '', '', ''),\n",
       " ('Banco', 'Caixa Economica Federal', '', '', ''),\n",
       " ('Agência', '2510', '', '', ''),\n",
       " ('Conta', '635-9', '', '', ''),\n",
       " ('Tipo do Documento', 'Aviso Debito', '', '', ''),\n",
       " ('Número do Documento', '63965442       ', '', '', ''),\n",
       " ('Unidade Financeira',\n",
       "  '30 - Fundo Esp Dos Procuradores Juridicos Poder Executivo',\n",
       "  '',\n",
       "  '',\n",
       "  ''),\n",
       " ('Fonte de Recursos',\n",
       "  '100 - Recursos Não Vinculados De Impostos',\n",
       "  '',\n",
       "  '',\n",
       "  ''),\n",
       " ('', '', '', '', ''),\n",
       " ('Número', 'Série', 'Data de Emissão', 'Tipo', 'Valor'),\n",
       " ('9767190097', '01      ', '31/12/1969', 'Recibo', '6.153,84'),\n",
       " (\"<script type='text/javascript'>window.close()\", '</script>')]"
      ]
     },
     "execution_count": 16,
     "metadata": {},
     "output_type": "execute_result"
    }
   ],
   "source": [
    "data"
   ]
  },
  {
   "cell_type": "code",
   "execution_count": 17,
   "id": "2e5b0679",
   "metadata": {},
   "outputs": [],
   "source": [
    "def clean_text(text):\n",
    "    while '  ' in text:\n",
    "        text = text.replace('  ', ' ')\n",
    "    while ' \\n' in text:\n",
    "        text = text.replace(' \\n', '\\n')\n",
    "    while '\\n ' in text:\n",
    "        text = text.replace('\\n ', '\\n')\n",
    "    while '\\r\\n' in text:\n",
    "        text = text.replace('\\r\\n', '\\n')\n",
    "    while '\\n\\n' in text:\n",
    "        text = text.replace('\\n\\n', '\\n')\n",
    "    while '<td> ' in text:\n",
    "        text = text.replace('<td> ', '<td>')\n",
    "    while ' :</td>' in text:\n",
    "        text = text.replace(' :</td>', ':</td>')\n",
    "    while '\\n</td>' in text:\n",
    "        text = text.replace('\\n</td>', '</td>')\n",
    "    while ' </td>' in text:\n",
    "        text = text.replace(' </td>', '</td>')\n",
    "    while '<td>R$ ' in text:\n",
    "        text = text.replace('<td>R$ ', '<td>')\n",
    "    return text\n"
   ]
  },
  {
   "cell_type": "code",
   "execution_count": 18,
   "id": "08efb212",
   "metadata": {},
   "outputs": [],
   "source": [
    "content = item['html'].content\n",
    "content = content.tobytes().decode('utf-8-sig')\n",
    "content = clean_text(clean_text(clean_text(content)))"
   ]
  },
  {
   "cell_type": "code",
   "execution_count": 19,
   "id": "1f79074b",
   "metadata": {},
   "outputs": [],
   "source": [
    "tables = bs(content).findAll('table')"
   ]
  },
  {
   "cell_type": "code",
   "execution_count": 20,
   "id": "320fb481",
   "metadata": {},
   "outputs": [
    {
     "data": {
      "text/plain": [
       "[<table class=\"table\">\n",
       " <tbody>\n",
       " <tr>\n",
       " <td class=\"titulo\">Código:</td>\n",
       " <td>422863</td>\n",
       " </tr>\n",
       " <tr>\n",
       " <td class=\"titulo\">Data:</td>\n",
       " <td>13/12/2019</td>\n",
       " </tr>\n",
       " <tr>\n",
       " <td class=\"titulo\">Banco:</td>\n",
       " <td>CAIXA ECONOMICA FEDERAL</td>\n",
       " </tr>\n",
       " <tr>\n",
       " <td class=\"titulo\">Agência:</td>\n",
       " <td>2510</td>\n",
       " </tr>\n",
       " <tr>\n",
       " <td class=\"titulo\">Conta Bancária:</td>\n",
       " <td>635-9</td>\n",
       " </tr>\n",
       " <tr>\n",
       " <td class=\"titulo\">Tipo do Documento:</td>\n",
       " <td>AVISO DEBITO</td>\n",
       " </tr>\n",
       " <tr>\n",
       " <td class=\"titulo\">Nº do Documento:</td>\n",
       " <td>63965442</td>\n",
       " </tr>\n",
       " <tr>\n",
       " <td class=\"titulo\">Número da Licitação:</td>\n",
       " <td>0</td>\n",
       " </tr>\n",
       " <tr>\n",
       " <td class=\"titulo\">Código Empenho:</td>\n",
       " <td>285874</td>\n",
       " </tr>\n",
       " <tr>\n",
       " <td class=\"titulo\">Elemento:</td>\n",
       " <td>339036 - OUTROS SERVICOS DE TERCEIROS - PESSOA FISICA</td>\n",
       " </tr>\n",
       " <tr>\n",
       " <td class=\"titulo\">Sub Elemento:</td>\n",
       " <td>06 -</td>\n",
       " </tr>\n",
       " <tr>\n",
       " <td class=\"titulo\">Unidade Financeira:</td>\n",
       " <td>30 - FUNDO ESP DOS PROCURADORES JURIDICOS PODER EXECUTIVO</td>\n",
       " </tr>\n",
       " <tr>\n",
       " <td class=\"titulo\">Fonte de Recursos:</td>\n",
       " <td>100 - RECURSOS NÃO VINCULADOS DE IMPOSTOS</td>\n",
       " </tr>\n",
       " <tr>\n",
       " <td class=\"titulo\">Historico:</td>\n",
       " <td>PAGAMENTO DA DESPESA PROVENIENTE DE EMPENHO EMITIDO PARA CUSTEAR DESPESAS A TÍTULO DE PARTICIPAÇÃO NOS HONORÁRIOS ADVOCATÍCIOS SUCUMBENCIAIS, APURADOS NO MÊS DE DEZEMBRO DE 2019.</td>\n",
       " </tr>\n",
       " </tbody>\n",
       " </table>,\n",
       " <table class=\"table table-striped\" width=\"100%\">\n",
       " <tr>\n",
       " <td width=\"70\">Número</td>\n",
       " <td>Série</td>\n",
       " <td>Data de Emissão</td>\n",
       " <td>Tipo</td>\n",
       " <td>Valor</td>\n",
       " </tr>\n",
       " <tr>\n",
       " <td>9767190097</td>\n",
       " <td>01</td>\n",
       " <td>13/12/2019</td>\n",
       " <td>Recibo</td>\n",
       " <td>6.153,84</td>\n",
       " </tr>\n",
       " </table>]"
      ]
     },
     "execution_count": 20,
     "metadata": {},
     "output_type": "execute_result"
    }
   ],
   "source": [
    "tables"
   ]
  },
  {
   "cell_type": "code",
   "execution_count": 21,
   "id": "43e8b783",
   "metadata": {},
   "outputs": [],
   "source": [
    "values = {}\n",
    "for row in tables[0].findAll('tr'):\n",
    "    cols = row.findAll('td')\n",
    "    values[cols[0].text] = cols[1].text"
   ]
  },
  {
   "cell_type": "code",
   "execution_count": 22,
   "id": "a9ec8e2a",
   "metadata": {},
   "outputs": [
    {
     "data": {
      "text/plain": [
       "{'Código:': '422863',\n",
       " 'Data:': '13/12/2019',\n",
       " 'Banco:': 'CAIXA ECONOMICA FEDERAL',\n",
       " 'Agência:': '2510',\n",
       " 'Conta Bancária:': '635-9',\n",
       " 'Tipo do Documento:': 'AVISO DEBITO',\n",
       " 'Nº do Documento:': '63965442',\n",
       " 'Número da Licitação:': '0',\n",
       " 'Código Empenho:': '285874',\n",
       " 'Elemento:': '339036 - OUTROS SERVICOS DE TERCEIROS - PESSOA FISICA',\n",
       " 'Sub Elemento:': '06 -',\n",
       " 'Unidade Financeira:': '30 - FUNDO ESP DOS PROCURADORES JURIDICOS PODER EXECUTIVO',\n",
       " 'Fonte de Recursos:': '100 - RECURSOS NÃO VINCULADOS DE IMPOSTOS',\n",
       " 'Historico:': 'PAGAMENTO DA DESPESA PROVENIENTE DE EMPENHO EMITIDO PARA CUSTEAR DESPESAS A TÍTULO DE PARTICIPAÇÃO NOS HONORÁRIOS ADVOCATÍCIOS SUCUMBENCIAIS, APURADOS NO MÊS DE DEZEMBRO DE 2019.'}"
      ]
     },
     "execution_count": 22,
     "metadata": {},
     "output_type": "execute_result"
    }
   ],
   "source": [
    "values"
   ]
  },
  {
   "cell_type": "code",
   "execution_count": 23,
   "id": "7c514e6f",
   "metadata": {},
   "outputs": [],
   "source": [
    "rows = tables[1].findAll('tr')\n",
    "col1 = rows[0].findAll('td')\n",
    "col2 = rows[1].findAll('td')\n",
    "for key, value in zip(col1, col2):\n",
    "    values[key.text] = value.text"
   ]
  },
  {
   "cell_type": "code",
   "execution_count": 24,
   "id": "8a739ead",
   "metadata": {},
   "outputs": [
    {
     "data": {
      "text/plain": [
       "{'Código:': '422863',\n",
       " 'Data:': '13/12/2019',\n",
       " 'Banco:': 'CAIXA ECONOMICA FEDERAL',\n",
       " 'Agência:': '2510',\n",
       " 'Conta Bancária:': '635-9',\n",
       " 'Tipo do Documento:': 'AVISO DEBITO',\n",
       " 'Nº do Documento:': '63965442',\n",
       " 'Número da Licitação:': '0',\n",
       " 'Código Empenho:': '285874',\n",
       " 'Elemento:': '339036 - OUTROS SERVICOS DE TERCEIROS - PESSOA FISICA',\n",
       " 'Sub Elemento:': '06 -',\n",
       " 'Unidade Financeira:': '30 - FUNDO ESP DOS PROCURADORES JURIDICOS PODER EXECUTIVO',\n",
       " 'Fonte de Recursos:': '100 - RECURSOS NÃO VINCULADOS DE IMPOSTOS',\n",
       " 'Historico:': 'PAGAMENTO DA DESPESA PROVENIENTE DE EMPENHO EMITIDO PARA CUSTEAR DESPESAS A TÍTULO DE PARTICIPAÇÃO NOS HONORÁRIOS ADVOCATÍCIOS SUCUMBENCIAIS, APURADOS NO MÊS DE DEZEMBRO DE 2019.',\n",
       " 'Número': '9767190097',\n",
       " 'Série': '01',\n",
       " 'Data de Emissão': '13/12/2019',\n",
       " 'Tipo': 'Recibo',\n",
       " 'Valor': '6.153,84'}"
      ]
     },
     "execution_count": 24,
     "metadata": {},
     "output_type": "execute_result"
    }
   ],
   "source": [
    "values"
   ]
  },
  {
   "cell_type": "code",
   "execution_count": 25,
   "id": "1496d2f2",
   "metadata": {},
   "outputs": [],
   "source": [
    "sr = item['csv']\n",
    "ds = models.Despesa.objects.filter(\n",
    "    loa_id=sr.ano,\n",
    "    orgao__codigo=sr.orgao,\n",
    "    unidade__codigo=values['Unidade Financeira:'][:2],\n",
    "    natureza__codigo='3.3.90.36.00'\n",
    ").first()"
   ]
  },
  {
   "cell_type": "code",
   "execution_count": 26,
   "id": "098daf2a",
   "metadata": {},
   "outputs": [
    {
     "data": {
      "text/plain": [
       "Decimal('176182.45')"
      ]
     },
     "execution_count": 26,
     "metadata": {},
     "output_type": "execute_result"
    }
   ],
   "source": [
    "ds.valor_materia"
   ]
  },
  {
   "cell_type": "code",
   "execution_count": 27,
   "id": "28d0455b",
   "metadata": {},
   "outputs": [
    {
     "data": {
      "text/plain": [
       "'30'"
      ]
     },
     "execution_count": 27,
     "metadata": {},
     "output_type": "execute_result"
    }
   ],
   "source": [
    "values['Unidade Financeira:'][:2]"
   ]
  },
  {
   "cell_type": "code",
   "execution_count": 28,
   "id": "a640c3af",
   "metadata": {},
   "outputs": [
    {
     "data": {
      "text/plain": [
       "['01',\n",
       " '02',\n",
       " '03',\n",
       " '06',\n",
       " '08',\n",
       " '10',\n",
       " '11',\n",
       " '15',\n",
       " '16',\n",
       " '18',\n",
       " '19',\n",
       " '20',\n",
       " '21',\n",
       " '22',\n",
       " '23',\n",
       " '25',\n",
       " '27',\n",
       " '28',\n",
       " '29',\n",
       " '30',\n",
       " '32',\n",
       " '34',\n",
       " '35',\n",
       " '36',\n",
       " '37',\n",
       " '38',\n",
       " '39',\n",
       " '40',\n",
       " '99']"
      ]
     },
     "execution_count": 28,
     "metadata": {},
     "output_type": "execute_result"
    }
   ],
   "source": [
    "list(models.Despesa.objects.filter(loa_id=2024\n",
    "    ).values_list('unidade__codigo',flat=True).order_by('unidade__codigo').distinct())"
   ]
  },
  {
   "cell_type": "code",
   "execution_count": 29,
   "id": "027bc5f1",
   "metadata": {},
   "outputs": [
    {
     "data": {
      "text/plain": [
       "<QuerySet [{'codigo': '', 'count': 975}, {'codigo': 'TOTAL:', 'count': 4}]>"
      ]
     },
     "execution_count": 29,
     "metadata": {},
     "output_type": "execute_result"
    }
   ],
   "source": [
    "models.ScrapRecord.objects.filter(metadata__url_dict__name__icontains='despesa').values(\n",
    "    'codigo', \n",
    ").order_by('codigo',).annotate(count=Count('codigo')).filter(count__gt=2)"
   ]
  },
  {
   "cell_type": "code",
   "execution_count": 30,
   "id": "94de22a8",
   "metadata": {},
   "outputs": [
    {
     "name": "stdout",
     "output_type": "stream",
     "text": [
      "01.031.0139.2.001:3.1.90.92.00 - MANUT.ATIV.DA CAMARA MUNICIPAL\n",
      "01.271.2839.9.061:3.1.90.92.00 - ENC.PREV.C/O REGIME GERAL DE PREVIDÊNCIA\n"
     ]
    }
   ],
   "source": [
    "for d in models.Despesa.objects.filter(orgao_id=58,unidade_id=120, natureza_id=8381):\n",
    "    print(d)"
   ]
  },
  {
   "cell_type": "code",
   "execution_count": 31,
   "id": "7e1fdeec",
   "metadata": {},
   "outputs": [],
   "source": [
    "from django.utils import timezone"
   ]
  },
  {
   "cell_type": "code",
   "execution_count": 32,
   "id": "79da036a",
   "metadata": {},
   "outputs": [],
   "source": [
    "start = timezone.localtime()"
   ]
  },
  {
   "cell_type": "code",
   "execution_count": 33,
   "id": "93fc77f5",
   "metadata": {},
   "outputs": [
    {
     "data": {
      "text/plain": [
       "0"
      ]
     },
     "execution_count": 33,
     "metadata": {},
     "output_type": "execute_result"
    }
   ],
   "source": [
    "(timezone.localtime() - start).seconds"
   ]
  },
  {
   "cell_type": "code",
   "execution_count": null,
   "id": "192a2704",
   "metadata": {},
   "outputs": [],
   "source": []
  },
  {
   "cell_type": "code",
   "execution_count": 34,
   "id": "5d1fba81",
   "metadata": {},
   "outputs": [],
   "source": [
    "o = models.Orgao.objects.get(codigo='01', loa__ano=2024)"
   ]
  },
  {
   "cell_type": "code",
   "execution_count": 37,
   "id": "b4f00f88",
   "metadata": {},
   "outputs": [],
   "source": [
    "import datetime"
   ]
  },
  {
   "cell_type": "code",
   "execution_count": 38,
   "id": "312490c7",
   "metadata": {},
   "outputs": [
    {
     "data": {
      "text/plain": [
       "datetime.date(2019, 12, 13)"
      ]
     },
     "execution_count": 38,
     "metadata": {},
     "output_type": "execute_result"
    }
   ],
   "source": [
    "datetime.datetime.strptime(values['Data:'], \"%d/%m/%Y\").date()"
   ]
  },
  {
   "cell_type": "code",
   "execution_count": 120,
   "id": "0f80f66d",
   "metadata": {},
   "outputs": [
    {
     "data": {
      "text/plain": [
       "{'valor__sum': Decimal('18593047.02')}"
      ]
     },
     "execution_count": 120,
     "metadata": {},
     "output_type": "execute_result"
    }
   ],
   "source": [
    "models.DespesaPaga.objects.filter(\n",
    "    orgao__codigo='03', \n",
    "    orgao__loa__ano=2024,\n",
    "        data__month=9\n",
    ").aggregate(Sum('valor'))"
   ]
  },
  {
   "cell_type": "code",
   "execution_count": 121,
   "id": "c109501c",
   "metadata": {},
   "outputs": [
    {
     "data": {
      "text/plain": [
       "28971"
      ]
     },
     "execution_count": 121,
     "metadata": {},
     "output_type": "execute_result"
    }
   ],
   "source": [
    "models.DespesaPaga.objects.count()"
   ]
  },
  {
   "cell_type": "code",
   "execution_count": 122,
   "id": "4ed2e8cb",
   "metadata": {},
   "outputs": [
    {
     "name": "stdout",
     "output_type": "stream",
     "text": [
      "2024-09-16 559089 12481.12\n",
      "2024-09-16 559088 27470.14\n",
      "2024-09-16 559087 294.50\n",
      "2024-09-16 559086 58605.50\n",
      "2024-09-16 559085 2479.86\n",
      "2024-09-16 559084 10773.00\n",
      "2024-09-16 559083 294.08\n",
      "2024-09-16 559068 81.41\n",
      "2024-09-16 559065 1125.00\n",
      "2024-09-16 559064 1125.00\n",
      "2024-09-16 559057 1161.00\n",
      "2024-09-16 559056 1152.00\n",
      "2024-09-16 559055 1179.00\n",
      "2024-09-16 559054 1593.00\n",
      "2024-09-16 559053 2700.00\n",
      "2024-09-16 559052 2646.00\n",
      "2024-09-16 559051 1206.00\n",
      "2024-09-16 559050 1188.00\n",
      "2024-09-16 559049 1143.00\n",
      "2024-09-16 559047 2655.00\n",
      "2024-09-16 559046 2628.00\n",
      "2024-09-16 559045 1170.00\n",
      "2024-09-16 559044 1134.00\n",
      "2024-09-16 559043 1179.00\n",
      "2024-09-16 559042 1539.00\n",
      "2024-09-16 559041 375000.00\n",
      "2024-09-16 559040 13566.41\n",
      "2024-09-16 559039 99.04\n",
      "2024-09-16 559037 167.71\n",
      "2024-09-16 559029 1125.00\n",
      "2024-09-16 559028 150.00\n",
      "2024-09-16 559027 150.00\n",
      "2024-09-16 559026 75.00\n",
      "2024-09-16 559024 22382.00\n",
      "2024-09-16 559022 13040.39\n",
      "2024-09-16 559020 108.48\n",
      "2024-09-16 559019 30700.00\n",
      "2024-09-16 559018 4875.00\n",
      "2024-09-16 559016 8149.90\n",
      "2024-09-13 559002 20996.63\n",
      "2024-09-13 558993 225.00\n",
      "2024-09-13 558965 3350.50\n",
      "2024-09-13 558964 3313.90\n",
      "2024-09-13 558960 500.00\n",
      "2024-09-13 558959 500.00\n",
      "2024-09-13 558958 500.00\n",
      "2024-09-13 558956 500.00\n",
      "2024-09-13 558955 500.00\n",
      "2024-09-13 558954 500.00\n",
      "2024-09-13 558953 500.00\n",
      "2024-09-13 558952 500.00\n",
      "2024-09-13 558951 500.00\n",
      "2024-09-13 558950 2548.70\n",
      "2024-09-13 558948 500.00\n",
      "2024-09-13 558947 500.00\n",
      "2024-09-13 558946 4362.32\n",
      "2024-09-13 558945 500.00\n",
      "2024-09-13 558943 6698.56\n",
      "2024-09-13 558942 500.00\n",
      "2024-09-13 558941 500.00\n",
      "2024-09-13 558939 5944.00\n",
      "2024-09-13 558912 15138.50\n",
      "2024-09-13 558909 150.00\n",
      "2024-09-13 558906 150.00\n",
      "2024-09-13 558904 150.00\n",
      "2024-09-13 558902 75.00\n",
      "2024-09-13 558901 70933.33\n",
      "2024-09-12 558925 774.73\n",
      "2024-09-12 558923 24.00\n",
      "2024-09-12 558898 36.00\n",
      "2024-09-12 558885 1997.07\n",
      "2024-09-12 558878 1125.00\n",
      "2024-09-12 558844 1157897.07\n",
      "2024-09-12 558842 1738.99\n",
      "2024-09-12 558838 14717.80\n",
      "2024-09-12 558837 4177.14\n",
      "2024-09-12 558836 2000.00\n",
      "2024-09-12 558834 593.39\n",
      "2024-09-12 558833 59.33\n",
      "2024-09-12 558831 100.00\n",
      "2024-09-12 558830 100.00\n",
      "2024-09-12 558828 10658.87\n",
      "2024-09-12 558817 14000.00\n",
      "2024-09-12 558773 8154.90\n",
      "2024-09-12 558772 8856.00\n",
      "2024-09-12 558764 68016.83\n",
      "2024-09-12 558763 129.80\n",
      "2024-09-12 558762 18024.58\n",
      "2024-09-12 558761 62.57\n",
      "2024-09-12 558752 1280.00\n",
      "2024-09-12 558750 175272.55\n",
      "2024-09-12 558749 392276.76\n",
      "2024-09-12 558748 35915.02\n",
      "2024-09-12 558747 5500.98\n",
      "2024-09-12 558746 3246.00\n",
      "2024-09-12 558745 3870.00\n",
      "2024-09-12 558742 3636.50\n",
      "2024-09-12 558740 18624.39\n",
      "2024-09-12 558738 80.00\n",
      "2024-09-12 558737 2198.65\n",
      "2024-09-12 558735 3998.40\n",
      "2024-09-12 558734 2338.26\n",
      "2024-09-12 558733 796.82\n",
      "2024-09-12 558732 1407.79\n",
      "2024-09-12 558731 15.98\n",
      "2024-09-12 558697 25920.89\n",
      "2024-09-12 558686 3981.60\n",
      "2024-09-12 558685 29789.55\n",
      "2024-09-12 558684 19841.70\n",
      "2024-09-12 558683 230.00\n",
      "2024-09-12 558682 115.00\n",
      "2024-09-12 558681 1265.00\n",
      "2024-09-12 558680 98.22\n",
      "2024-09-11 558721 848.16\n",
      "2024-09-11 558720 36.01\n",
      "2024-09-11 558679 2070.00\n",
      "2024-09-11 558676 4345.00\n",
      "2024-09-11 558675 19424.23\n",
      "2024-09-11 558674 213069.14\n",
      "2024-09-11 558673 10142.43\n",
      "2024-09-11 558672 2540.00\n",
      "2024-09-11 558671 99.64\n",
      "2024-09-11 558670 567.69\n",
      "2024-09-11 558640 15772.37\n",
      "2024-09-11 558639 2310.42\n",
      "2024-09-11 558638 1000.00\n",
      "2024-09-11 558637 658.12\n",
      "2024-09-11 558635 658.12\n",
      "2024-09-11 558626 172.39\n",
      "2024-09-10 558642 543.71\n",
      "2024-09-10 558641 36.03\n",
      "2024-09-10 558633 3592.92\n",
      "2024-09-10 558627 3465.19\n",
      "2024-09-10 558602 2759.76\n",
      "2024-09-10 558599 1923.95\n",
      "2024-09-10 558597 15429.89\n",
      "2024-09-10 558596 10756.84\n",
      "2024-09-10 558595 152447.45\n",
      "2024-09-10 558593 106277.65\n",
      "2024-09-10 558590 52728.38\n",
      "2024-09-10 558588 36759.22\n",
      "2024-09-10 558587 538189.69\n",
      "2024-09-10 558585 107236.00\n",
      "2024-09-10 558577 115.49\n",
      "2024-09-10 558546 375195.10\n",
      "2024-09-10 558480 106.08\n",
      "2024-09-10 558479 106.08\n",
      "2024-09-10 558477 65.21\n",
      "2024-09-10 558476 70.89\n",
      "2024-09-10 558475 162.82\n",
      "2024-09-10 558468 577811.77\n",
      "2024-09-10 558467 366207.86\n",
      "2024-09-10 558466 1841.60\n",
      "2024-09-10 558465 21726.60\n",
      "2024-09-10 558463 658.12\n",
      "2024-09-10 558462 658.12\n",
      "2024-09-10 558461 658.12\n",
      "2024-09-10 558460 658.12\n",
      "2024-09-10 558459 658.12\n",
      "2024-09-10 558458 6551925.55\n",
      "2024-09-10 558457 68689.23\n",
      "2024-09-09 558474 727.98\n",
      "2024-09-09 558473 108.09\n",
      "2024-09-09 558470 72.06\n",
      "2024-09-09 558464 14321.80\n",
      "2024-09-09 558438 4447.80\n",
      "2024-09-09 558437 15845.00\n",
      "2024-09-09 558436 14464.28\n",
      "2024-09-09 558434 4447.80\n",
      "2024-09-09 558411 5350.00\n",
      "2024-09-09 558409 27765.85\n",
      "2024-09-09 558407 39398.74\n",
      "2024-09-09 558406 100.92\n",
      "2024-09-09 558405 1800.00\n",
      "2024-09-09 558404 400000.00\n",
      "2024-09-09 558402 275495.90\n",
      "2024-09-09 558401 19644.76\n",
      "2024-09-09 558400 13355.60\n",
      "2024-09-09 558399 6901.63\n",
      "2024-09-09 558398 57604.20\n",
      "2024-09-09 558397 1295.80\n",
      "2024-09-09 558389 149688.00\n",
      "2024-09-09 558388 80696.00\n",
      "2024-09-09 558386 6242.05\n",
      "2024-09-09 558385 20670.26\n",
      "2024-09-09 558384 9677.35\n",
      "2024-09-09 558383 5623.41\n",
      "2024-09-09 558382 15818.00\n",
      "2024-09-09 558381 14788.00\n",
      "2024-09-09 558380 29818.00\n",
      "2024-09-09 558379 10950.00\n",
      "2024-09-09 558378 7400.00\n",
      "2024-09-09 558377 150.00\n",
      "2024-09-09 558376 3000.00\n",
      "2024-09-09 558375 10950.00\n",
      "2024-09-09 558374 99.64\n",
      "2024-09-09 558373 100.00\n",
      "2024-09-09 558372 12000.00\n",
      "2024-09-09 558371 51666.66\n",
      "2024-09-09 558370 45000.00\n",
      "2024-09-09 558369 8400.00\n",
      "2024-09-09 558368 10000.00\n",
      "2024-09-09 558367 10990.00\n",
      "2024-09-09 558366 50189.33\n",
      "2024-09-09 558365 132329.55\n",
      "2024-09-09 558364 62.57\n",
      "2024-09-09 558363 62.57\n",
      "2024-09-09 558362 1900.00\n",
      "2024-09-06 558394 360.88\n",
      "2024-09-06 558391 192.16\n",
      "2024-09-06 558390 12.01\n",
      "2024-09-06 558342 150.00\n",
      "2024-09-06 558341 75.00\n",
      "2024-09-06 558340 300.00\n",
      "2024-09-06 558326 36.80\n",
      "2024-09-06 558324 94.55\n",
      "2024-09-06 558323 100.27\n",
      "2024-09-06 558321 93.19\n",
      "2024-09-06 558320 27.13\n",
      "2024-09-06 558318 27.25\n",
      "2024-09-06 558313 24400.00\n",
      "2024-09-06 558311 75.00\n",
      "2024-09-06 558310 75.00\n",
      "2024-09-06 558308 75.00\n",
      "2024-09-06 558306 107544.25\n",
      "2024-09-06 558303 27.80\n",
      "2024-09-06 558302 28.36\n",
      "2024-09-06 558301 27.81\n",
      "2024-09-06 558300 27.68\n",
      "2024-09-06 558299 27.61\n",
      "2024-09-06 558297 264.03\n",
      "2024-09-06 558296 2090.00\n",
      "2024-09-06 558295 31.96\n",
      "2024-09-06 558294 1300.00\n",
      "2024-09-06 558293 5264.20\n",
      "2024-09-06 558292 658.80\n",
      "2024-09-06 558291 329.40\n",
      "2024-09-06 558290 1098.00\n",
      "2024-09-06 558289 16146.00\n",
      "2024-09-06 558288 25116.00\n",
      "2024-09-06 558287 6365.00\n",
      "2024-09-06 558281 1620.00\n",
      "2024-09-06 558280 1420.00\n",
      "2024-09-06 558279 680.50\n",
      "2024-09-06 558278 14400.00\n",
      "2024-09-06 558277 31050.00\n",
      "2024-09-06 558276 3450.00\n",
      "2024-09-06 558275 18368.74\n",
      "2024-09-06 558274 7456.99\n",
      "2024-09-06 558273 99.64\n",
      "2024-09-06 558272 99.64\n",
      "2024-09-06 558271 150.00\n",
      "2024-09-06 558270 2337.04\n",
      "2024-09-06 558266 1500.00\n",
      "2024-09-06 558264 1650.00\n",
      "2024-09-06 558263 1182.25\n",
      "2024-09-06 558262 1500.00\n",
      "2024-09-06 558260 4236.00\n",
      "2024-09-06 558252 692935.93\n",
      "2024-09-06 558250 298066.69\n",
      "2024-09-06 558249 54.54\n",
      "2024-09-06 558247 2508.41\n",
      "2024-09-06 558246 2961.94\n",
      "2024-09-06 558245 1242.70\n",
      "2024-09-06 558243 32984.00\n",
      "2024-09-06 558242 97000.00\n",
      "2024-09-06 558241 4816.15\n",
      "2024-09-06 558239 6360.00\n",
      "2024-09-06 558238 81.41\n",
      "2024-09-06 558235 4452.00\n",
      "2024-09-05 558259 36.03\n",
      "2024-09-05 558254 204.17\n",
      "2024-09-05 558253 391.91\n",
      "2024-09-05 558198 6868.00\n",
      "2024-09-05 558197 13980.35\n",
      "2024-09-05 558190 150.00\n",
      "2024-09-05 558188 75.00\n",
      "2024-09-05 558186 150.00\n",
      "2024-09-05 558185 150.00\n",
      "2024-09-05 558184 150.00\n",
      "2024-09-05 558180 700.00\n",
      "2024-09-05 558176 150.00\n",
      "2024-09-05 558173 111.65\n",
      "2024-09-05 558166 380.00\n",
      "2024-09-05 558165 1500.00\n",
      "2024-09-05 558164 1500.00\n",
      "2024-09-05 558162 3000.00\n",
      "2024-09-05 558161 16131.17\n",
      "2024-09-05 558160 234529.82\n",
      "2024-09-05 558159 479879.81\n",
      "2024-09-05 558158 2500.00\n",
      "2024-09-05 558150 20930.00\n",
      "2024-09-05 558149 4820.00\n",
      "2024-09-05 558148 4820.00\n",
      "2024-09-05 558147 15055.76\n",
      "2024-09-04 558174 92.95\n",
      "2024-09-04 558169 12.01\n",
      "2024-09-04 558168 72.06\n",
      "2024-09-04 558167 770.63\n",
      "2024-09-04 558142 93.14\n",
      "2024-09-04 558122 60.37\n",
      "2024-09-04 558120 16409.60\n",
      "2024-09-04 558119 100.92\n",
      "2024-09-04 558113 3900.00\n",
      "2024-09-04 558112 4225.00\n",
      "2024-09-04 558111 20000.00\n",
      "2024-09-04 558110 9250.00\n",
      "2024-09-04 558108 380.00\n",
      "2024-09-04 558106 3884.18\n",
      "2024-09-04 558104 3779.10\n",
      "2024-09-04 558089 375.00\n",
      "2024-09-04 558088 375.00\n",
      "2024-09-04 558087 375.00\n",
      "2024-09-04 558086 75.00\n",
      "2024-09-04 558085 75.00\n",
      "2024-09-03 558084 12.01\n",
      "2024-09-03 558083 470.16\n",
      "2024-09-03 558082 72.06\n",
      "2024-09-03 558080 27979.29\n",
      "2024-09-03 558079 1970.71\n",
      "2024-09-03 558078 3073.60\n",
      "2024-09-03 558077 58031.42\n",
      "2024-09-03 558076 11673.49\n",
      "2024-09-03 558075 9509.23\n",
      "2024-09-03 558074 33947.92\n",
      "2024-09-03 558073 8500.00\n",
      "2024-09-03 558072 9127.10\n",
      "2024-09-03 558071 4697.10\n",
      "2024-09-03 558070 936.00\n",
      "2024-09-03 558063 2900.00\n",
      "2024-09-03 558061 382.60\n",
      "2024-09-03 558060 7420.00\n",
      "2024-09-03 558059 5180.00\n",
      "2024-09-03 558058 87830.60\n",
      "2024-09-03 558057 153996.32\n",
      "2024-09-03 558056 23901.01\n",
      "2024-09-03 558055 6497.31\n",
      "2024-09-03 558054 13076.00\n",
      "2024-09-03 558053 9107.19\n",
      "2024-09-03 558052 5172.00\n",
      "2024-09-03 558051 130.00\n",
      "2024-09-03 558050 1300.00\n",
      "2024-09-03 558049 162.13\n",
      "2024-09-03 558048 414.01\n",
      "2024-09-03 558047 162.13\n",
      "2024-09-03 558038 4399.68\n",
      "2024-09-03 558035 63.64\n",
      "2024-09-03 558034 99.64\n",
      "2024-09-03 558033 99.64\n",
      "2024-09-03 558032 99.64\n",
      "2024-09-03 558031 1833.74\n",
      "2024-09-03 558030 162.13\n",
      "2024-09-03 558028 909233.06\n",
      "2024-09-03 558027 9780.00\n",
      "2024-09-03 558026 16228.20\n",
      "2024-09-03 558025 8562.37\n",
      "2024-09-03 558024 8650.00\n",
      "2024-09-03 558023 46218.61\n",
      "2024-09-03 558022 4711.20\n",
      "2024-09-03 558021 11060.00\n",
      "2024-09-03 558020 4500.00\n",
      "2024-09-02 558799 525852.92\n",
      "2024-09-02 558796 57829.06\n",
      "2024-09-02 558793 320636.33\n",
      "2024-09-02 558043 326.90\n",
      "2024-09-02 558039 36.03\n",
      "2024-09-02 558037 204.17\n",
      "2024-09-02 557998 1976.80\n",
      "2024-09-02 557997 158.85\n",
      "2024-09-02 557996 2746.39\n",
      "2024-09-02 557988 9965.00\n",
      "2024-09-02 557979 1976.80\n",
      "2024-09-02 557978 1976.80\n",
      "2024-09-02 557976 1976.80\n",
      "2024-09-02 557975 1976.80\n",
      "2024-09-02 557974 1976.80\n",
      "2024-09-02 557973 1976.80\n",
      "2024-09-02 557969 14433.48\n",
      "2024-09-02 557967 19476.96\n",
      "2024-09-02 557966 9506.95\n",
      "2024-09-02 557945 1976.80\n",
      "2024-09-02 557944 1976.80\n",
      "2024-09-02 557943 1976.80\n",
      "2024-09-02 557939 225.00\n",
      "2024-09-02 557937 375.00\n",
      "2024-09-02 557935 375.00\n",
      "2024-09-02 557931 375.00\n",
      "2024-09-02 557929 2504.99\n",
      "2024-09-02 557924 527.73\n",
      "2024-09-02 557919 4999.00\n",
      "2024-09-02 557918 12950.00\n",
      "2024-09-02 557917 8650.00\n",
      "2024-09-02 557916 15050.00\n",
      "2024-09-02 557915 47.41\n",
      "2024-09-02 557914 47.41\n",
      "2024-09-02 557913 69.65\n",
      "2024-09-02 557912 19600.00\n",
      "2024-09-02 557911 57209.57\n",
      "2024-09-02 557910 1690.43\n",
      "2024-09-02 557909 10298.00\n",
      "2024-09-02 557908 2812.25\n",
      "2024-09-02 557906 47.41\n",
      "2024-09-02 557905 47.41\n",
      "2024-09-02 557904 67.31\n",
      "2024-09-02 557903 46.60\n",
      "2024-09-02 557902 172.22\n",
      "2024-09-02 557901 161.45\n",
      "2024-09-02 557900 162.79\n",
      "2024-09-02 557899 157.80\n",
      "2024-09-02 557898 147.29\n",
      "2024-09-02 557897 163.86\n",
      "2024-09-02 557896 47.41\n",
      "2024-09-02 557895 47.41\n",
      "2024-09-02 557894 67.31\n",
      "2024-09-02 557893 47.41\n",
      "2024-09-02 557892 47.41\n",
      "2024-09-02 557891 67.31\n",
      "2024-09-02 557890 47.41\n",
      "2024-09-02 557888 47.41\n",
      "2024-09-02 557886 67.31\n",
      "2024-09-02 557885 111.89\n",
      "2024-09-02 557884 128.14\n",
      "2024-09-02 557883 47.41\n",
      "2024-09-02 557882 47.41\n",
      "2024-09-02 557881 67.31\n",
      "2024-09-02 557879 47.41\n",
      "2024-09-02 557878 47.41\n",
      "2024-09-02 557877 67.76\n"
     ]
    }
   ],
   "source": [
    "for dp in models.DespesaPaga.objects.filter(\n",
    "        orgao__codigo='03', \n",
    "        orgao__loa__ano=2024,\n",
    "        data__month=9\n",
    "    ).order_by('-data', '-codigo'):\n",
    "    print(dp.data, dp.codigo, dp.valor)"
   ]
  },
  {
   "cell_type": "code",
   "execution_count": 109,
   "id": "d0a7d8a5",
   "metadata": {},
   "outputs": [
    {
     "name": "stdout",
     "output_type": "stream",
     "text": [
      "559054 03\n",
      "559055 03\n",
      "559055 03\n",
      "559056 03\n",
      "559056 03\n",
      "559057 03\n",
      "559057 03\n",
      "559058 03\n",
      "559058 03\n",
      "559023 03\n",
      "559023 03\n",
      "559048 03\n",
      "559048 03\n",
      "559061 03\n",
      "559061 03\n",
      "559011 08\n",
      "559011 08\n",
      "559012 06\n",
      "559012 06\n",
      "559003 06\n",
      "559003 06\n",
      "559008 06\n",
      "559008 06\n",
      "559001 06\n",
      "559001 06\n",
      "559006 06\n",
      "559006 06\n",
      "559005 06\n",
      "559005 06\n",
      "559000 06\n",
      "559000 06\n",
      "559007 06\n",
      "559007 06\n",
      "559004 06\n",
      "559004 06\n",
      "559010 06\n",
      "559010 06\n",
      "559009 06\n",
      "559009 06\n",
      "559002 03\n",
      "559002 03\n",
      "559013 17\n",
      "559013 17\n"
     ]
    }
   ],
   "source": [
    "for sr in models.ScrapRecord.objects.filter(codigo__startswith='559').order_by('-id')[:50]:\n",
    "    print(sr.codigo, sr.orgao)"
   ]
  },
  {
   "cell_type": "code",
   "execution_count": null,
   "id": "4f2e532e",
   "metadata": {},
   "outputs": [],
   "source": []
  }
 ],
 "metadata": {
  "kernelspec": {
   "display_name": "Django Shell-Plus",
   "language": "python",
   "name": "django_extensions"
  },
  "language_info": {
   "codemirror_mode": {
    "name": "ipython",
    "version": 3
   },
   "file_extension": ".py",
   "mimetype": "text/x-python",
   "name": "python",
   "nbconvert_exporter": "python",
   "pygments_lexer": "ipython3",
   "version": "3.10.12"
  }
 },
 "nbformat": 4,
 "nbformat_minor": 5
}
